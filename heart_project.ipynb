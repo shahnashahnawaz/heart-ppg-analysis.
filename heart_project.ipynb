{
 "cells": [
  {
   "cell_type": "markdown",
   "id": "99bd5416",
   "metadata": {},
   "source": [
    "GROUP 13"
   ]
  },
  {
   "cell_type": "code",
   "execution_count": 1,
   "id": "0c1a0b90",
   "metadata": {},
   "outputs": [
    {
     "ename": "FileNotFoundError",
     "evalue": "[Errno 2] No such file or directory: 'C:\\\\Users\\\\DELL\\\\Desktop\\\\vocational traning\\\\project 1\\\\master_data (1).csv'",
     "output_type": "error",
     "traceback": [
      "\u001b[1;31m---------------------------------------------------------------------------\u001b[0m",
      "\u001b[1;31mFileNotFoundError\u001b[0m                         Traceback (most recent call last)",
      "Cell \u001b[1;32mIn[1], line 10\u001b[0m\n\u001b[0;32m      5\u001b[0m \u001b[38;5;28;01mfrom\u001b[39;00m\u001b[38;5;250m \u001b[39m\u001b[38;5;21;01mscipy\u001b[39;00m\u001b[38;5;21;01m.\u001b[39;00m\u001b[38;5;21;01msignal\u001b[39;00m\u001b[38;5;250m \u001b[39m\u001b[38;5;28;01mimport\u001b[39;00m find_peaks\n\u001b[0;32m      6\u001b[0m \u001b[38;5;28;01mfrom\u001b[39;00m\u001b[38;5;250m \u001b[39m\u001b[38;5;21;01mscipy\u001b[39;00m\u001b[38;5;21;01m.\u001b[39;00m\u001b[38;5;21;01msignal\u001b[39;00m\u001b[38;5;250m \u001b[39m\u001b[38;5;28;01mimport\u001b[39;00m find_peaks\n\u001b[1;32m---> 10\u001b[0m master_df \u001b[38;5;241m=\u001b[39m \u001b[43mpd\u001b[49m\u001b[38;5;241;43m.\u001b[39;49m\u001b[43mread_csv\u001b[49m\u001b[43m(\u001b[49m\u001b[38;5;124;43mr\u001b[39;49m\u001b[38;5;124;43m'\u001b[39;49m\u001b[38;5;124;43mC:\u001b[39;49m\u001b[38;5;124;43m\\\u001b[39;49m\u001b[38;5;124;43mUsers\u001b[39;49m\u001b[38;5;124;43m\\\u001b[39;49m\u001b[38;5;124;43mDELL\u001b[39;49m\u001b[38;5;124;43m\\\u001b[39;49m\u001b[38;5;124;43mDesktop\u001b[39;49m\u001b[38;5;124;43m\\\u001b[39;49m\u001b[38;5;124;43mvocational traning\u001b[39;49m\u001b[38;5;124;43m\\\u001b[39;49m\u001b[38;5;124;43mproject 1\u001b[39;49m\u001b[38;5;124;43m\\\u001b[39;49m\u001b[38;5;124;43mmaster_data (1).csv\u001b[39;49m\u001b[38;5;124;43m'\u001b[39;49m\u001b[43m,\u001b[49m\u001b[43m \u001b[49m\u001b[43mheader\u001b[49m\u001b[43m \u001b[49m\u001b[38;5;241;43m=\u001b[39;49m\u001b[43m \u001b[49m\u001b[38;5;28;43;01mNone\u001b[39;49;00m\u001b[43m)\u001b[49m\n\u001b[0;32m     11\u001b[0m \u001b[38;5;28mprint\u001b[39m (master_df\u001b[38;5;241m.\u001b[39mhead())\n",
      "File \u001b[1;32mc:\\Python310\\lib\\site-packages\\pandas\\io\\parsers\\readers.py:1026\u001b[0m, in \u001b[0;36mread_csv\u001b[1;34m(filepath_or_buffer, sep, delimiter, header, names, index_col, usecols, dtype, engine, converters, true_values, false_values, skipinitialspace, skiprows, skipfooter, nrows, na_values, keep_default_na, na_filter, verbose, skip_blank_lines, parse_dates, infer_datetime_format, keep_date_col, date_parser, date_format, dayfirst, cache_dates, iterator, chunksize, compression, thousands, decimal, lineterminator, quotechar, quoting, doublequote, escapechar, comment, encoding, encoding_errors, dialect, on_bad_lines, delim_whitespace, low_memory, memory_map, float_precision, storage_options, dtype_backend)\u001b[0m\n\u001b[0;32m   1013\u001b[0m kwds_defaults \u001b[38;5;241m=\u001b[39m _refine_defaults_read(\n\u001b[0;32m   1014\u001b[0m     dialect,\n\u001b[0;32m   1015\u001b[0m     delimiter,\n\u001b[1;32m   (...)\u001b[0m\n\u001b[0;32m   1022\u001b[0m     dtype_backend\u001b[38;5;241m=\u001b[39mdtype_backend,\n\u001b[0;32m   1023\u001b[0m )\n\u001b[0;32m   1024\u001b[0m kwds\u001b[38;5;241m.\u001b[39mupdate(kwds_defaults)\n\u001b[1;32m-> 1026\u001b[0m \u001b[38;5;28;01mreturn\u001b[39;00m \u001b[43m_read\u001b[49m\u001b[43m(\u001b[49m\u001b[43mfilepath_or_buffer\u001b[49m\u001b[43m,\u001b[49m\u001b[43m \u001b[49m\u001b[43mkwds\u001b[49m\u001b[43m)\u001b[49m\n",
      "File \u001b[1;32mc:\\Python310\\lib\\site-packages\\pandas\\io\\parsers\\readers.py:620\u001b[0m, in \u001b[0;36m_read\u001b[1;34m(filepath_or_buffer, kwds)\u001b[0m\n\u001b[0;32m    617\u001b[0m _validate_names(kwds\u001b[38;5;241m.\u001b[39mget(\u001b[38;5;124m\"\u001b[39m\u001b[38;5;124mnames\u001b[39m\u001b[38;5;124m\"\u001b[39m, \u001b[38;5;28;01mNone\u001b[39;00m))\n\u001b[0;32m    619\u001b[0m \u001b[38;5;66;03m# Create the parser.\u001b[39;00m\n\u001b[1;32m--> 620\u001b[0m parser \u001b[38;5;241m=\u001b[39m TextFileReader(filepath_or_buffer, \u001b[38;5;241m*\u001b[39m\u001b[38;5;241m*\u001b[39mkwds)\n\u001b[0;32m    622\u001b[0m \u001b[38;5;28;01mif\u001b[39;00m chunksize \u001b[38;5;129;01mor\u001b[39;00m iterator:\n\u001b[0;32m    623\u001b[0m     \u001b[38;5;28;01mreturn\u001b[39;00m parser\n",
      "File \u001b[1;32mc:\\Python310\\lib\\site-packages\\pandas\\io\\parsers\\readers.py:1620\u001b[0m, in \u001b[0;36mTextFileReader.__init__\u001b[1;34m(self, f, engine, **kwds)\u001b[0m\n\u001b[0;32m   1617\u001b[0m     \u001b[38;5;28mself\u001b[39m\u001b[38;5;241m.\u001b[39moptions[\u001b[38;5;124m\"\u001b[39m\u001b[38;5;124mhas_index_names\u001b[39m\u001b[38;5;124m\"\u001b[39m] \u001b[38;5;241m=\u001b[39m kwds[\u001b[38;5;124m\"\u001b[39m\u001b[38;5;124mhas_index_names\u001b[39m\u001b[38;5;124m\"\u001b[39m]\n\u001b[0;32m   1619\u001b[0m \u001b[38;5;28mself\u001b[39m\u001b[38;5;241m.\u001b[39mhandles: IOHandles \u001b[38;5;241m|\u001b[39m \u001b[38;5;28;01mNone\u001b[39;00m \u001b[38;5;241m=\u001b[39m \u001b[38;5;28;01mNone\u001b[39;00m\n\u001b[1;32m-> 1620\u001b[0m \u001b[38;5;28mself\u001b[39m\u001b[38;5;241m.\u001b[39m_engine \u001b[38;5;241m=\u001b[39m \u001b[38;5;28;43mself\u001b[39;49m\u001b[38;5;241;43m.\u001b[39;49m\u001b[43m_make_engine\u001b[49m\u001b[43m(\u001b[49m\u001b[43mf\u001b[49m\u001b[43m,\u001b[49m\u001b[43m \u001b[49m\u001b[38;5;28;43mself\u001b[39;49m\u001b[38;5;241;43m.\u001b[39;49m\u001b[43mengine\u001b[49m\u001b[43m)\u001b[49m\n",
      "File \u001b[1;32mc:\\Python310\\lib\\site-packages\\pandas\\io\\parsers\\readers.py:1880\u001b[0m, in \u001b[0;36mTextFileReader._make_engine\u001b[1;34m(self, f, engine)\u001b[0m\n\u001b[0;32m   1878\u001b[0m     \u001b[38;5;28;01mif\u001b[39;00m \u001b[38;5;124m\"\u001b[39m\u001b[38;5;124mb\u001b[39m\u001b[38;5;124m\"\u001b[39m \u001b[38;5;129;01mnot\u001b[39;00m \u001b[38;5;129;01min\u001b[39;00m mode:\n\u001b[0;32m   1879\u001b[0m         mode \u001b[38;5;241m+\u001b[39m\u001b[38;5;241m=\u001b[39m \u001b[38;5;124m\"\u001b[39m\u001b[38;5;124mb\u001b[39m\u001b[38;5;124m\"\u001b[39m\n\u001b[1;32m-> 1880\u001b[0m \u001b[38;5;28mself\u001b[39m\u001b[38;5;241m.\u001b[39mhandles \u001b[38;5;241m=\u001b[39m \u001b[43mget_handle\u001b[49m\u001b[43m(\u001b[49m\n\u001b[0;32m   1881\u001b[0m \u001b[43m    \u001b[49m\u001b[43mf\u001b[49m\u001b[43m,\u001b[49m\n\u001b[0;32m   1882\u001b[0m \u001b[43m    \u001b[49m\u001b[43mmode\u001b[49m\u001b[43m,\u001b[49m\n\u001b[0;32m   1883\u001b[0m \u001b[43m    \u001b[49m\u001b[43mencoding\u001b[49m\u001b[38;5;241;43m=\u001b[39;49m\u001b[38;5;28;43mself\u001b[39;49m\u001b[38;5;241;43m.\u001b[39;49m\u001b[43moptions\u001b[49m\u001b[38;5;241;43m.\u001b[39;49m\u001b[43mget\u001b[49m\u001b[43m(\u001b[49m\u001b[38;5;124;43m\"\u001b[39;49m\u001b[38;5;124;43mencoding\u001b[39;49m\u001b[38;5;124;43m\"\u001b[39;49m\u001b[43m,\u001b[49m\u001b[43m \u001b[49m\u001b[38;5;28;43;01mNone\u001b[39;49;00m\u001b[43m)\u001b[49m\u001b[43m,\u001b[49m\n\u001b[0;32m   1884\u001b[0m \u001b[43m    \u001b[49m\u001b[43mcompression\u001b[49m\u001b[38;5;241;43m=\u001b[39;49m\u001b[38;5;28;43mself\u001b[39;49m\u001b[38;5;241;43m.\u001b[39;49m\u001b[43moptions\u001b[49m\u001b[38;5;241;43m.\u001b[39;49m\u001b[43mget\u001b[49m\u001b[43m(\u001b[49m\u001b[38;5;124;43m\"\u001b[39;49m\u001b[38;5;124;43mcompression\u001b[39;49m\u001b[38;5;124;43m\"\u001b[39;49m\u001b[43m,\u001b[49m\u001b[43m \u001b[49m\u001b[38;5;28;43;01mNone\u001b[39;49;00m\u001b[43m)\u001b[49m\u001b[43m,\u001b[49m\n\u001b[0;32m   1885\u001b[0m \u001b[43m    \u001b[49m\u001b[43mmemory_map\u001b[49m\u001b[38;5;241;43m=\u001b[39;49m\u001b[38;5;28;43mself\u001b[39;49m\u001b[38;5;241;43m.\u001b[39;49m\u001b[43moptions\u001b[49m\u001b[38;5;241;43m.\u001b[39;49m\u001b[43mget\u001b[49m\u001b[43m(\u001b[49m\u001b[38;5;124;43m\"\u001b[39;49m\u001b[38;5;124;43mmemory_map\u001b[39;49m\u001b[38;5;124;43m\"\u001b[39;49m\u001b[43m,\u001b[49m\u001b[43m \u001b[49m\u001b[38;5;28;43;01mFalse\u001b[39;49;00m\u001b[43m)\u001b[49m\u001b[43m,\u001b[49m\n\u001b[0;32m   1886\u001b[0m \u001b[43m    \u001b[49m\u001b[43mis_text\u001b[49m\u001b[38;5;241;43m=\u001b[39;49m\u001b[43mis_text\u001b[49m\u001b[43m,\u001b[49m\n\u001b[0;32m   1887\u001b[0m \u001b[43m    \u001b[49m\u001b[43merrors\u001b[49m\u001b[38;5;241;43m=\u001b[39;49m\u001b[38;5;28;43mself\u001b[39;49m\u001b[38;5;241;43m.\u001b[39;49m\u001b[43moptions\u001b[49m\u001b[38;5;241;43m.\u001b[39;49m\u001b[43mget\u001b[49m\u001b[43m(\u001b[49m\u001b[38;5;124;43m\"\u001b[39;49m\u001b[38;5;124;43mencoding_errors\u001b[39;49m\u001b[38;5;124;43m\"\u001b[39;49m\u001b[43m,\u001b[49m\u001b[43m \u001b[49m\u001b[38;5;124;43m\"\u001b[39;49m\u001b[38;5;124;43mstrict\u001b[39;49m\u001b[38;5;124;43m\"\u001b[39;49m\u001b[43m)\u001b[49m\u001b[43m,\u001b[49m\n\u001b[0;32m   1888\u001b[0m \u001b[43m    \u001b[49m\u001b[43mstorage_options\u001b[49m\u001b[38;5;241;43m=\u001b[39;49m\u001b[38;5;28;43mself\u001b[39;49m\u001b[38;5;241;43m.\u001b[39;49m\u001b[43moptions\u001b[49m\u001b[38;5;241;43m.\u001b[39;49m\u001b[43mget\u001b[49m\u001b[43m(\u001b[49m\u001b[38;5;124;43m\"\u001b[39;49m\u001b[38;5;124;43mstorage_options\u001b[39;49m\u001b[38;5;124;43m\"\u001b[39;49m\u001b[43m,\u001b[49m\u001b[43m \u001b[49m\u001b[38;5;28;43;01mNone\u001b[39;49;00m\u001b[43m)\u001b[49m\u001b[43m,\u001b[49m\n\u001b[0;32m   1889\u001b[0m \u001b[43m\u001b[49m\u001b[43m)\u001b[49m\n\u001b[0;32m   1890\u001b[0m \u001b[38;5;28;01massert\u001b[39;00m \u001b[38;5;28mself\u001b[39m\u001b[38;5;241m.\u001b[39mhandles \u001b[38;5;129;01mis\u001b[39;00m \u001b[38;5;129;01mnot\u001b[39;00m \u001b[38;5;28;01mNone\u001b[39;00m\n\u001b[0;32m   1891\u001b[0m f \u001b[38;5;241m=\u001b[39m \u001b[38;5;28mself\u001b[39m\u001b[38;5;241m.\u001b[39mhandles\u001b[38;5;241m.\u001b[39mhandle\n",
      "File \u001b[1;32mc:\\Python310\\lib\\site-packages\\pandas\\io\\common.py:873\u001b[0m, in \u001b[0;36mget_handle\u001b[1;34m(path_or_buf, mode, encoding, compression, memory_map, is_text, errors, storage_options)\u001b[0m\n\u001b[0;32m    868\u001b[0m \u001b[38;5;28;01melif\u001b[39;00m \u001b[38;5;28misinstance\u001b[39m(handle, \u001b[38;5;28mstr\u001b[39m):\n\u001b[0;32m    869\u001b[0m     \u001b[38;5;66;03m# Check whether the filename is to be opened in binary mode.\u001b[39;00m\n\u001b[0;32m    870\u001b[0m     \u001b[38;5;66;03m# Binary mode does not support 'encoding' and 'newline'.\u001b[39;00m\n\u001b[0;32m    871\u001b[0m     \u001b[38;5;28;01mif\u001b[39;00m ioargs\u001b[38;5;241m.\u001b[39mencoding \u001b[38;5;129;01mand\u001b[39;00m \u001b[38;5;124m\"\u001b[39m\u001b[38;5;124mb\u001b[39m\u001b[38;5;124m\"\u001b[39m \u001b[38;5;129;01mnot\u001b[39;00m \u001b[38;5;129;01min\u001b[39;00m ioargs\u001b[38;5;241m.\u001b[39mmode:\n\u001b[0;32m    872\u001b[0m         \u001b[38;5;66;03m# Encoding\u001b[39;00m\n\u001b[1;32m--> 873\u001b[0m         handle \u001b[38;5;241m=\u001b[39m \u001b[38;5;28;43mopen\u001b[39;49m\u001b[43m(\u001b[49m\n\u001b[0;32m    874\u001b[0m \u001b[43m            \u001b[49m\u001b[43mhandle\u001b[49m\u001b[43m,\u001b[49m\n\u001b[0;32m    875\u001b[0m \u001b[43m            \u001b[49m\u001b[43mioargs\u001b[49m\u001b[38;5;241;43m.\u001b[39;49m\u001b[43mmode\u001b[49m\u001b[43m,\u001b[49m\n\u001b[0;32m    876\u001b[0m \u001b[43m            \u001b[49m\u001b[43mencoding\u001b[49m\u001b[38;5;241;43m=\u001b[39;49m\u001b[43mioargs\u001b[49m\u001b[38;5;241;43m.\u001b[39;49m\u001b[43mencoding\u001b[49m\u001b[43m,\u001b[49m\n\u001b[0;32m    877\u001b[0m \u001b[43m            \u001b[49m\u001b[43merrors\u001b[49m\u001b[38;5;241;43m=\u001b[39;49m\u001b[43merrors\u001b[49m\u001b[43m,\u001b[49m\n\u001b[0;32m    878\u001b[0m \u001b[43m            \u001b[49m\u001b[43mnewline\u001b[49m\u001b[38;5;241;43m=\u001b[39;49m\u001b[38;5;124;43m\"\u001b[39;49m\u001b[38;5;124;43m\"\u001b[39;49m\u001b[43m,\u001b[49m\n\u001b[0;32m    879\u001b[0m \u001b[43m        \u001b[49m\u001b[43m)\u001b[49m\n\u001b[0;32m    880\u001b[0m     \u001b[38;5;28;01melse\u001b[39;00m:\n\u001b[0;32m    881\u001b[0m         \u001b[38;5;66;03m# Binary mode\u001b[39;00m\n\u001b[0;32m    882\u001b[0m         handle \u001b[38;5;241m=\u001b[39m \u001b[38;5;28mopen\u001b[39m(handle, ioargs\u001b[38;5;241m.\u001b[39mmode)\n",
      "\u001b[1;31mFileNotFoundError\u001b[0m: [Errno 2] No such file or directory: 'C:\\\\Users\\\\DELL\\\\Desktop\\\\vocational traning\\\\project 1\\\\master_data (1).csv'"
     ]
    }
   ],
   "source": [
    "import pandas as pd\n",
    "import numpy as np\n",
    "import glob \n",
    "import os \n",
    "from scipy.signal import find_peaks\n",
    "from scipy.signal import find_peaks\n",
    "\n",
    "\n",
    "\n",
    "master_df = pd.read_csv(r'C:\\Users\\DELL\\Desktop\\vocational traning\\project 1\\master_data (1).csv', header = None)\n",
    "print (master_df.head())"
   ]
  },
  {
   "cell_type": "code",
   "execution_count": null,
   "id": "8a3e11aa",
   "metadata": {},
   "outputs": [],
   "source": [
    "\n",
    "subject_files = sorted(glob.glob(r'C:\\Users\\DELL\\Desktop\\vocational traning\\project 1\\subject_*.csv'))\n",
    "\n",
    "subject_dfs = []\n",
    "\n",
    "for file in subject_files:\n",
    "    df = pd.read_csv(file)\n",
    "    \n",
    "    subject_id = int(os.path.basename(file).split(\"_\")[1].split(\".\")[0]) #subject id extraction from file \n",
    "    \n",
    "    df['subject_id'] = subject_id  #this make sure thata sub id is present \n",
    "    subject_dfs.append(df)\n"
   ]
  },
  {
   "cell_type": "code",
   "execution_count": null,
   "id": "fb123830",
   "metadata": {},
   "outputs": [
    {
     "name": "stdout",
     "output_type": "stream",
     "text": [
      "       time  ppg_signal  subject_id\n",
      "0  0.000000   -0.005162           1\n",
      "1  0.010002    0.115503           1\n",
      "2  0.020003    0.239821           1\n",
      "3  0.030005    0.339529           1\n",
      "4  0.040007    0.472772           1\n"
     ]
    }
   ],
   "source": [
    "all_subjects_df = pd.concat(subject_dfs, ignore_index=True)\n",
    "print(all_subjects_df.head())\n"
   ]
  },
  {
   "cell_type": "code",
   "execution_count": null,
   "id": "6796a4f4",
   "metadata": {},
   "outputs": [
    {
     "name": "stdout",
     "output_type": "stream",
     "text": [
      "       time  ppg_signal  subject_id         hr        hrv\n",
      "0  0.000000   -0.005162           1  95.579696  66.052442\n",
      "1  0.010002    0.115503           1  95.579696  66.052442\n",
      "2  0.020003    0.239821           1  95.579696  66.052442\n",
      "3  0.030005    0.339529           1  95.579696  66.052442\n",
      "4  0.040007    0.472772           1  95.579696  66.052442\n"
     ]
    }
   ],
   "source": [
    "\n",
    "master_df = pd.read_csv(r'C:\\Users\\DELL\\Desktop\\vocational traning\\project 1\\master_data (1).csv')\n",
    "\n",
    "# Ensure both subject_id columns are of the same type (int)\n",
    "master_df['subject_id'] = master_df['subject_id'].astype(int)\n",
    "all_subjects_df['subject_id'] = all_subjects_df['subject_id'].astype(int)\n",
    "\n",
    "merged_df = pd.merge(all_subjects_df, master_df, on=\"subject_id\", how=\"left\")\n",
    "print(merged_df.head())"
   ]
  },
  {
   "cell_type": "code",
   "execution_count": null,
   "id": "328521f1",
   "metadata": {},
   "outputs": [],
   "source": [
    "# Saving \n",
    "merged_df.to_csv(r'C:\\Users\\DELL\\Desktop\\vocational traning\\project 1\\merged_ppg_data.csv', index=False)\n",
    "\n"
   ]
  },
  {
   "cell_type": "code",
   "execution_count": null,
   "id": "718b7108",
   "metadata": {},
   "outputs": [
    {
     "name": "stdout",
     "output_type": "stream",
     "text": [
      "0.0014826874985018348\n"
     ]
    }
   ],
   "source": [
    "# mean\n",
    "mean_val = merged_df[\"ppg_signal\"].mean()\n",
    "print(mean_val)\n"
   ]
  },
  {
   "cell_type": "code",
   "execution_count": null,
   "id": "5137100f",
   "metadata": {},
   "outputs": [
    {
     "name": "stdout",
     "output_type": "stream",
     "text": [
      "subject_id\n",
      "1     0.224945\n",
      "2     0.225262\n",
      "3     0.225294\n",
      "4     0.225213\n",
      "5     0.225614\n",
      "6     0.225374\n",
      "7     0.225453\n",
      "8     0.225395\n",
      "9     0.224770\n",
      "10    0.225635\n",
      "11    0.225579\n",
      "12    0.225418\n",
      "13    0.224923\n",
      "14    0.225644\n",
      "15    0.225434\n",
      "16    0.225176\n",
      "17    0.224751\n",
      "18    0.225300\n",
      "19    0.224341\n",
      "20    0.225228\n",
      "Name: ppg_signal, dtype: float64\n"
     ]
    }
   ],
   "source": [
    "variance_val = merged_df.groupby(\"subject_id\")[\"ppg_signal\"].var()\n",
    "print(variance_val)"
   ]
  },
  {
   "cell_type": "code",
   "execution_count": null,
   "id": "c873a886",
   "metadata": {},
   "outputs": [
    {
     "name": "stdout",
     "output_type": "stream",
     "text": [
      "     0\n",
      "0  411\n",
      "1  440\n",
      "2  531\n",
      "3  438\n",
      "4  394\n"
     ]
    }
   ],
   "source": [
    "\n",
    "#peak count \n",
    "peak_count =[]\n",
    "for subject_id in merged_df['subject_id'].unique():\n",
    "    sub_data = merged_df[merged_df['subject_id'] == subject_id]\n",
    "    signal = sub_data['ppg_signal'].values\n",
    "    peaks, _ = find_peaks(signal)\n",
    "    peak_count.append(len(peaks))\n",
    "    \n",
    "peak_count_df = pd.DataFrame(peak_count)\n",
    "print(peak_count_df.head())\n",
    "\n",
    " \n"
   ]
  },
  {
   "cell_type": "code",
   "execution_count": null,
   "id": "6ae04951",
   "metadata": {},
   "outputs": [],
   "source": []
  },
  {
   "cell_type": "code",
   "execution_count": null,
   "id": "99e3070e",
   "metadata": {},
   "outputs": [
    {
     "name": "stdout",
     "output_type": "stream",
     "text": [
      "   subject_id  avg_rr_interval_ms  std_rr_interval_ms\n",
      "0           1          146.048732          130.102519\n",
      "1          10          136.309734          137.221061\n",
      "2          11          112.792384          132.876321\n",
      "3          12          136.086754          135.478672\n",
      "4          13          152.366361          133.995159\n"
     ]
    }
   ],
   "source": [
    "#peak to peak interval\n",
    "\n",
    "rr_interval = []\n",
    "rr_interval_stats = []\n",
    "\n",
    "for subject_id in merged_df['subject_id'].unique():\n",
    "    \n",
    "    subject_data = merged_df[merged_df['subject_id'] == subject_id]\n",
    "    \n",
    "    signal = subject_data['ppg_signal'].values\n",
    "    time = subject_data['time'].values\n",
    "    \n",
    "\n",
    "    peaks, _ = find_peaks(signal)  \n",
    "\n",
    "\n",
    "    rr_intervals = np.diff(time[peaks]) * 1000  \n",
    "\n",
    "    rr_interval_stats.append({\n",
    "        'subject_id': subject_id,\n",
    "        'avg_rr_interval_ms': np.mean(rr_intervals) if len(rr_intervals) > 0 else np.nan,\n",
    "        'std_rr_interval_ms': np.std(rr_intervals) if len(rr_intervals) > 0 else np.nan\n",
    "    })\n",
    "\n",
    "\n",
    "rr_interval_df = pd.DataFrame(rr_interval_stats)\n",
    "\n",
    "print(rr_interval_df.head())\n",
    "\n"
   ]
  },
  {
   "cell_type": "code",
   "execution_count": null,
   "id": "38823e00",
   "metadata": {},
   "outputs": [],
   "source": [
    "\n"
   ]
  },
  {
   "cell_type": "markdown",
   "id": "52b4f450",
   "metadata": {},
   "source": []
  },
  {
   "cell_type": "code",
   "execution_count": null,
   "id": "51e2b652",
   "metadata": {},
   "outputs": [],
   "source": [
    "from sklearn.model_selection import train_test_split\n",
    "from sklearn.linear_model import LinearRegression\n",
    "from sklearn.metrics import mean_absolute_error, mean_squared_error, r2_score\n",
    "import numpy as np\n",
    "\n",
    "# Merge rr_interval_df with master_df to get hr as target\n",
    "features_df = pd.merge(rr_interval_df, master_df[['subject_id', 'hr']], on='subject_id')\n",
    "\n",
    "# Features (X) and Target (y)\n",
    "X = features_df.drop(columns=['subject_id', 'hr'])\n",
    "y = features_df['hr']\n",
    "\n",
    "# Train-test split\n",
    "X_train, X_test, y_train, y_test = train_test_split(X, y, test_size=0.2, random_state=42)\n"
   ]
  },
  {
   "cell_type": "code",
   "execution_count": null,
   "id": "2a051a2f",
   "metadata": {},
   "outputs": [
    {
     "data": {
      "text/html": [
       "<style>#sk-container-id-3 {\n",
       "  /* Definition of color scheme common for light and dark mode */\n",
       "  --sklearn-color-text: black;\n",
       "  --sklearn-color-line: gray;\n",
       "  /* Definition of color scheme for unfitted estimators */\n",
       "  --sklearn-color-unfitted-level-0: #fff5e6;\n",
       "  --sklearn-color-unfitted-level-1: #f6e4d2;\n",
       "  --sklearn-color-unfitted-level-2: #ffe0b3;\n",
       "  --sklearn-color-unfitted-level-3: chocolate;\n",
       "  /* Definition of color scheme for fitted estimators */\n",
       "  --sklearn-color-fitted-level-0: #f0f8ff;\n",
       "  --sklearn-color-fitted-level-1: #d4ebff;\n",
       "  --sklearn-color-fitted-level-2: #b3dbfd;\n",
       "  --sklearn-color-fitted-level-3: cornflowerblue;\n",
       "\n",
       "  /* Specific color for light theme */\n",
       "  --sklearn-color-text-on-default-background: var(--sg-text-color, var(--theme-code-foreground, var(--jp-content-font-color1, black)));\n",
       "  --sklearn-color-background: var(--sg-background-color, var(--theme-background, var(--jp-layout-color0, white)));\n",
       "  --sklearn-color-border-box: var(--sg-text-color, var(--theme-code-foreground, var(--jp-content-font-color1, black)));\n",
       "  --sklearn-color-icon: #696969;\n",
       "\n",
       "  @media (prefers-color-scheme: dark) {\n",
       "    /* Redefinition of color scheme for dark theme */\n",
       "    --sklearn-color-text-on-default-background: var(--sg-text-color, var(--theme-code-foreground, var(--jp-content-font-color1, white)));\n",
       "    --sklearn-color-background: var(--sg-background-color, var(--theme-background, var(--jp-layout-color0, #111)));\n",
       "    --sklearn-color-border-box: var(--sg-text-color, var(--theme-code-foreground, var(--jp-content-font-color1, white)));\n",
       "    --sklearn-color-icon: #878787;\n",
       "  }\n",
       "}\n",
       "\n",
       "#sk-container-id-3 {\n",
       "  color: var(--sklearn-color-text);\n",
       "}\n",
       "\n",
       "#sk-container-id-3 pre {\n",
       "  padding: 0;\n",
       "}\n",
       "\n",
       "#sk-container-id-3 input.sk-hidden--visually {\n",
       "  border: 0;\n",
       "  clip: rect(1px 1px 1px 1px);\n",
       "  clip: rect(1px, 1px, 1px, 1px);\n",
       "  height: 1px;\n",
       "  margin: -1px;\n",
       "  overflow: hidden;\n",
       "  padding: 0;\n",
       "  position: absolute;\n",
       "  width: 1px;\n",
       "}\n",
       "\n",
       "#sk-container-id-3 div.sk-dashed-wrapped {\n",
       "  border: 1px dashed var(--sklearn-color-line);\n",
       "  margin: 0 0.4em 0.5em 0.4em;\n",
       "  box-sizing: border-box;\n",
       "  padding-bottom: 0.4em;\n",
       "  background-color: var(--sklearn-color-background);\n",
       "}\n",
       "\n",
       "#sk-container-id-3 div.sk-container {\n",
       "  /* jupyter's `normalize.less` sets `[hidden] { display: none; }`\n",
       "     but bootstrap.min.css set `[hidden] { display: none !important; }`\n",
       "     so we also need the `!important` here to be able to override the\n",
       "     default hidden behavior on the sphinx rendered scikit-learn.org.\n",
       "     See: https://github.com/scikit-learn/scikit-learn/issues/21755 */\n",
       "  display: inline-block !important;\n",
       "  position: relative;\n",
       "}\n",
       "\n",
       "#sk-container-id-3 div.sk-text-repr-fallback {\n",
       "  display: none;\n",
       "}\n",
       "\n",
       "div.sk-parallel-item,\n",
       "div.sk-serial,\n",
       "div.sk-item {\n",
       "  /* draw centered vertical line to link estimators */\n",
       "  background-image: linear-gradient(var(--sklearn-color-text-on-default-background), var(--sklearn-color-text-on-default-background));\n",
       "  background-size: 2px 100%;\n",
       "  background-repeat: no-repeat;\n",
       "  background-position: center center;\n",
       "}\n",
       "\n",
       "/* Parallel-specific style estimator block */\n",
       "\n",
       "#sk-container-id-3 div.sk-parallel-item::after {\n",
       "  content: \"\";\n",
       "  width: 100%;\n",
       "  border-bottom: 2px solid var(--sklearn-color-text-on-default-background);\n",
       "  flex-grow: 1;\n",
       "}\n",
       "\n",
       "#sk-container-id-3 div.sk-parallel {\n",
       "  display: flex;\n",
       "  align-items: stretch;\n",
       "  justify-content: center;\n",
       "  background-color: var(--sklearn-color-background);\n",
       "  position: relative;\n",
       "}\n",
       "\n",
       "#sk-container-id-3 div.sk-parallel-item {\n",
       "  display: flex;\n",
       "  flex-direction: column;\n",
       "}\n",
       "\n",
       "#sk-container-id-3 div.sk-parallel-item:first-child::after {\n",
       "  align-self: flex-end;\n",
       "  width: 50%;\n",
       "}\n",
       "\n",
       "#sk-container-id-3 div.sk-parallel-item:last-child::after {\n",
       "  align-self: flex-start;\n",
       "  width: 50%;\n",
       "}\n",
       "\n",
       "#sk-container-id-3 div.sk-parallel-item:only-child::after {\n",
       "  width: 0;\n",
       "}\n",
       "\n",
       "/* Serial-specific style estimator block */\n",
       "\n",
       "#sk-container-id-3 div.sk-serial {\n",
       "  display: flex;\n",
       "  flex-direction: column;\n",
       "  align-items: center;\n",
       "  background-color: var(--sklearn-color-background);\n",
       "  padding-right: 1em;\n",
       "  padding-left: 1em;\n",
       "}\n",
       "\n",
       "\n",
       "/* Toggleable style: style used for estimator/Pipeline/ColumnTransformer box that is\n",
       "clickable and can be expanded/collapsed.\n",
       "- Pipeline and ColumnTransformer use this feature and define the default style\n",
       "- Estimators will overwrite some part of the style using the `sk-estimator` class\n",
       "*/\n",
       "\n",
       "/* Pipeline and ColumnTransformer style (default) */\n",
       "\n",
       "#sk-container-id-3 div.sk-toggleable {\n",
       "  /* Default theme specific background. It is overwritten whether we have a\n",
       "  specific estimator or a Pipeline/ColumnTransformer */\n",
       "  background-color: var(--sklearn-color-background);\n",
       "}\n",
       "\n",
       "/* Toggleable label */\n",
       "#sk-container-id-3 label.sk-toggleable__label {\n",
       "  cursor: pointer;\n",
       "  display: block;\n",
       "  width: 100%;\n",
       "  margin-bottom: 0;\n",
       "  padding: 0.5em;\n",
       "  box-sizing: border-box;\n",
       "  text-align: center;\n",
       "}\n",
       "\n",
       "#sk-container-id-3 label.sk-toggleable__label-arrow:before {\n",
       "  /* Arrow on the left of the label */\n",
       "  content: \"▸\";\n",
       "  float: left;\n",
       "  margin-right: 0.25em;\n",
       "  color: var(--sklearn-color-icon);\n",
       "}\n",
       "\n",
       "#sk-container-id-3 label.sk-toggleable__label-arrow:hover:before {\n",
       "  color: var(--sklearn-color-text);\n",
       "}\n",
       "\n",
       "/* Toggleable content - dropdown */\n",
       "\n",
       "#sk-container-id-3 div.sk-toggleable__content {\n",
       "  max-height: 0;\n",
       "  max-width: 0;\n",
       "  overflow: hidden;\n",
       "  text-align: left;\n",
       "  /* unfitted */\n",
       "  background-color: var(--sklearn-color-unfitted-level-0);\n",
       "}\n",
       "\n",
       "#sk-container-id-3 div.sk-toggleable__content.fitted {\n",
       "  /* fitted */\n",
       "  background-color: var(--sklearn-color-fitted-level-0);\n",
       "}\n",
       "\n",
       "#sk-container-id-3 div.sk-toggleable__content pre {\n",
       "  margin: 0.2em;\n",
       "  border-radius: 0.25em;\n",
       "  color: var(--sklearn-color-text);\n",
       "  /* unfitted */\n",
       "  background-color: var(--sklearn-color-unfitted-level-0);\n",
       "}\n",
       "\n",
       "#sk-container-id-3 div.sk-toggleable__content.fitted pre {\n",
       "  /* unfitted */\n",
       "  background-color: var(--sklearn-color-fitted-level-0);\n",
       "}\n",
       "\n",
       "#sk-container-id-3 input.sk-toggleable__control:checked~div.sk-toggleable__content {\n",
       "  /* Expand drop-down */\n",
       "  max-height: 200px;\n",
       "  max-width: 100%;\n",
       "  overflow: auto;\n",
       "}\n",
       "\n",
       "#sk-container-id-3 input.sk-toggleable__control:checked~label.sk-toggleable__label-arrow:before {\n",
       "  content: \"▾\";\n",
       "}\n",
       "\n",
       "/* Pipeline/ColumnTransformer-specific style */\n",
       "\n",
       "#sk-container-id-3 div.sk-label input.sk-toggleable__control:checked~label.sk-toggleable__label {\n",
       "  color: var(--sklearn-color-text);\n",
       "  background-color: var(--sklearn-color-unfitted-level-2);\n",
       "}\n",
       "\n",
       "#sk-container-id-3 div.sk-label.fitted input.sk-toggleable__control:checked~label.sk-toggleable__label {\n",
       "  background-color: var(--sklearn-color-fitted-level-2);\n",
       "}\n",
       "\n",
       "/* Estimator-specific style */\n",
       "\n",
       "/* Colorize estimator box */\n",
       "#sk-container-id-3 div.sk-estimator input.sk-toggleable__control:checked~label.sk-toggleable__label {\n",
       "  /* unfitted */\n",
       "  background-color: var(--sklearn-color-unfitted-level-2);\n",
       "}\n",
       "\n",
       "#sk-container-id-3 div.sk-estimator.fitted input.sk-toggleable__control:checked~label.sk-toggleable__label {\n",
       "  /* fitted */\n",
       "  background-color: var(--sklearn-color-fitted-level-2);\n",
       "}\n",
       "\n",
       "#sk-container-id-3 div.sk-label label.sk-toggleable__label,\n",
       "#sk-container-id-3 div.sk-label label {\n",
       "  /* The background is the default theme color */\n",
       "  color: var(--sklearn-color-text-on-default-background);\n",
       "}\n",
       "\n",
       "/* On hover, darken the color of the background */\n",
       "#sk-container-id-3 div.sk-label:hover label.sk-toggleable__label {\n",
       "  color: var(--sklearn-color-text);\n",
       "  background-color: var(--sklearn-color-unfitted-level-2);\n",
       "}\n",
       "\n",
       "/* Label box, darken color on hover, fitted */\n",
       "#sk-container-id-3 div.sk-label.fitted:hover label.sk-toggleable__label.fitted {\n",
       "  color: var(--sklearn-color-text);\n",
       "  background-color: var(--sklearn-color-fitted-level-2);\n",
       "}\n",
       "\n",
       "/* Estimator label */\n",
       "\n",
       "#sk-container-id-3 div.sk-label label {\n",
       "  font-family: monospace;\n",
       "  font-weight: bold;\n",
       "  display: inline-block;\n",
       "  line-height: 1.2em;\n",
       "}\n",
       "\n",
       "#sk-container-id-3 div.sk-label-container {\n",
       "  text-align: center;\n",
       "}\n",
       "\n",
       "/* Estimator-specific */\n",
       "#sk-container-id-3 div.sk-estimator {\n",
       "  font-family: monospace;\n",
       "  border: 1px dotted var(--sklearn-color-border-box);\n",
       "  border-radius: 0.25em;\n",
       "  box-sizing: border-box;\n",
       "  margin-bottom: 0.5em;\n",
       "  /* unfitted */\n",
       "  background-color: var(--sklearn-color-unfitted-level-0);\n",
       "}\n",
       "\n",
       "#sk-container-id-3 div.sk-estimator.fitted {\n",
       "  /* fitted */\n",
       "  background-color: var(--sklearn-color-fitted-level-0);\n",
       "}\n",
       "\n",
       "/* on hover */\n",
       "#sk-container-id-3 div.sk-estimator:hover {\n",
       "  /* unfitted */\n",
       "  background-color: var(--sklearn-color-unfitted-level-2);\n",
       "}\n",
       "\n",
       "#sk-container-id-3 div.sk-estimator.fitted:hover {\n",
       "  /* fitted */\n",
       "  background-color: var(--sklearn-color-fitted-level-2);\n",
       "}\n",
       "\n",
       "/* Specification for estimator info (e.g. \"i\" and \"?\") */\n",
       "\n",
       "/* Common style for \"i\" and \"?\" */\n",
       "\n",
       ".sk-estimator-doc-link,\n",
       "a:link.sk-estimator-doc-link,\n",
       "a:visited.sk-estimator-doc-link {\n",
       "  float: right;\n",
       "  font-size: smaller;\n",
       "  line-height: 1em;\n",
       "  font-family: monospace;\n",
       "  background-color: var(--sklearn-color-background);\n",
       "  border-radius: 1em;\n",
       "  height: 1em;\n",
       "  width: 1em;\n",
       "  text-decoration: none !important;\n",
       "  margin-left: 1ex;\n",
       "  /* unfitted */\n",
       "  border: var(--sklearn-color-unfitted-level-1) 1pt solid;\n",
       "  color: var(--sklearn-color-unfitted-level-1);\n",
       "}\n",
       "\n",
       ".sk-estimator-doc-link.fitted,\n",
       "a:link.sk-estimator-doc-link.fitted,\n",
       "a:visited.sk-estimator-doc-link.fitted {\n",
       "  /* fitted */\n",
       "  border: var(--sklearn-color-fitted-level-1) 1pt solid;\n",
       "  color: var(--sklearn-color-fitted-level-1);\n",
       "}\n",
       "\n",
       "/* On hover */\n",
       "div.sk-estimator:hover .sk-estimator-doc-link:hover,\n",
       ".sk-estimator-doc-link:hover,\n",
       "div.sk-label-container:hover .sk-estimator-doc-link:hover,\n",
       ".sk-estimator-doc-link:hover {\n",
       "  /* unfitted */\n",
       "  background-color: var(--sklearn-color-unfitted-level-3);\n",
       "  color: var(--sklearn-color-background);\n",
       "  text-decoration: none;\n",
       "}\n",
       "\n",
       "div.sk-estimator.fitted:hover .sk-estimator-doc-link.fitted:hover,\n",
       ".sk-estimator-doc-link.fitted:hover,\n",
       "div.sk-label-container:hover .sk-estimator-doc-link.fitted:hover,\n",
       ".sk-estimator-doc-link.fitted:hover {\n",
       "  /* fitted */\n",
       "  background-color: var(--sklearn-color-fitted-level-3);\n",
       "  color: var(--sklearn-color-background);\n",
       "  text-decoration: none;\n",
       "}\n",
       "\n",
       "/* Span, style for the box shown on hovering the info icon */\n",
       ".sk-estimator-doc-link span {\n",
       "  display: none;\n",
       "  z-index: 9999;\n",
       "  position: relative;\n",
       "  font-weight: normal;\n",
       "  right: .2ex;\n",
       "  padding: .5ex;\n",
       "  margin: .5ex;\n",
       "  width: min-content;\n",
       "  min-width: 20ex;\n",
       "  max-width: 50ex;\n",
       "  color: var(--sklearn-color-text);\n",
       "  box-shadow: 2pt 2pt 4pt #999;\n",
       "  /* unfitted */\n",
       "  background: var(--sklearn-color-unfitted-level-0);\n",
       "  border: .5pt solid var(--sklearn-color-unfitted-level-3);\n",
       "}\n",
       "\n",
       ".sk-estimator-doc-link.fitted span {\n",
       "  /* fitted */\n",
       "  background: var(--sklearn-color-fitted-level-0);\n",
       "  border: var(--sklearn-color-fitted-level-3);\n",
       "}\n",
       "\n",
       ".sk-estimator-doc-link:hover span {\n",
       "  display: block;\n",
       "}\n",
       "\n",
       "/* \"?\"-specific style due to the `<a>` HTML tag */\n",
       "\n",
       "#sk-container-id-3 a.estimator_doc_link {\n",
       "  float: right;\n",
       "  font-size: 1rem;\n",
       "  line-height: 1em;\n",
       "  font-family: monospace;\n",
       "  background-color: var(--sklearn-color-background);\n",
       "  border-radius: 1rem;\n",
       "  height: 1rem;\n",
       "  width: 1rem;\n",
       "  text-decoration: none;\n",
       "  /* unfitted */\n",
       "  color: var(--sklearn-color-unfitted-level-1);\n",
       "  border: var(--sklearn-color-unfitted-level-1) 1pt solid;\n",
       "}\n",
       "\n",
       "#sk-container-id-3 a.estimator_doc_link.fitted {\n",
       "  /* fitted */\n",
       "  border: var(--sklearn-color-fitted-level-1) 1pt solid;\n",
       "  color: var(--sklearn-color-fitted-level-1);\n",
       "}\n",
       "\n",
       "/* On hover */\n",
       "#sk-container-id-3 a.estimator_doc_link:hover {\n",
       "  /* unfitted */\n",
       "  background-color: var(--sklearn-color-unfitted-level-3);\n",
       "  color: var(--sklearn-color-background);\n",
       "  text-decoration: none;\n",
       "}\n",
       "\n",
       "#sk-container-id-3 a.estimator_doc_link.fitted:hover {\n",
       "  /* fitted */\n",
       "  background-color: var(--sklearn-color-fitted-level-3);\n",
       "}\n",
       "</style><div id=\"sk-container-id-3\" class=\"sk-top-container\"><div class=\"sk-text-repr-fallback\"><pre>LinearRegression()</pre><b>In a Jupyter environment, please rerun this cell to show the HTML representation or trust the notebook. <br />On GitHub, the HTML representation is unable to render, please try loading this page with nbviewer.org.</b></div><div class=\"sk-container\" hidden><div class=\"sk-item\"><div class=\"sk-estimator fitted sk-toggleable\"><input class=\"sk-toggleable__control sk-hidden--visually\" id=\"sk-estimator-id-3\" type=\"checkbox\" checked><label for=\"sk-estimator-id-3\" class=\"sk-toggleable__label fitted sk-toggleable__label-arrow fitted\">&nbsp;&nbsp;LinearRegression<a class=\"sk-estimator-doc-link fitted\" rel=\"noreferrer\" target=\"_blank\" href=\"https://scikit-learn.org/1.5/modules/generated/sklearn.linear_model.LinearRegression.html\">?<span>Documentation for LinearRegression</span></a><span class=\"sk-estimator-doc-link fitted\">i<span>Fitted</span></span></label><div class=\"sk-toggleable__content fitted\"><pre>LinearRegression()</pre></div> </div></div></div></div>"
      ],
      "text/plain": [
       "LinearRegression()"
      ]
     },
     "execution_count": 72,
     "metadata": {},
     "output_type": "execute_result"
    }
   ],
   "source": [
    "# traing \n",
    "lr_model = LinearRegression()\n",
    "lr_model.fit(X_train, y_train)\n"
   ]
  },
  {
   "cell_type": "code",
   "execution_count": null,
   "id": "32157d4f",
   "metadata": {},
   "outputs": [
    {
     "name": "stdout",
     "output_type": "stream",
     "text": [
      "Linear Regression Performance:\n",
      "MAE: 1.80\n",
      "RMSE: 2.55\n",
      "R² Score: 0.97\n"
     ]
    }
   ],
   "source": [
    "# Make predictions\n",
    "y_pred = lr_model.predict(X_test)\n",
    "\n",
    "# Evaluation metrics\n",
    "mae = mean_absolute_error(y_test, y_pred)\n",
    "rmse = np.sqrt(mean_squared_error(y_test, y_pred))\n",
    "r2 = r2_score(y_test, y_pred)\n",
    "\n",
    "# Display metrics\n",
    "print(f\"Linear Regression Performance:\\nMAE: {mae:.2f}\\nRMSE: {rmse:.2f}\\nR² Score: {r2:.2f}\")\n"
   ]
  },
  {
   "cell_type": "code",
   "execution_count": null,
   "id": "a87b9a8a",
   "metadata": {},
   "outputs": [
    {
     "name": "stdout",
     "output_type": "stream",
     "text": [
      "Defaulting to user installation because normal site-packages is not writeable\n",
      "Requirement already satisfied: nbformat in c:\\users\\dell\\appdata\\roaming\\python\\python312\\site-packages (5.10.4)\n",
      "Requirement already satisfied: fastjsonschema>=2.15 in c:\\users\\dell\\appdata\\roaming\\python\\python312\\site-packages (from nbformat) (2.20.0)\n",
      "Requirement already satisfied: jsonschema>=2.6 in c:\\users\\dell\\appdata\\roaming\\python\\python312\\site-packages (from nbformat) (4.24.0)\n",
      "Requirement already satisfied: jupyter-core!=5.0.*,>=4.12 in c:\\users\\dell\\appdata\\roaming\\python\\python312\\site-packages (from nbformat) (5.7.2)\n",
      "Requirement already satisfied: traitlets>=5.1 in c:\\users\\dell\\appdata\\roaming\\python\\python312\\site-packages (from nbformat) (5.14.3)\n",
      "Requirement already satisfied: attrs>=22.2.0 in c:\\users\\dell\\appdata\\roaming\\python\\python312\\site-packages (from jsonschema>=2.6->nbformat) (25.3.0)\n",
      "Requirement already satisfied: jsonschema-specifications>=2023.03.6 in c:\\users\\dell\\appdata\\roaming\\python\\python312\\site-packages (from jsonschema>=2.6->nbformat) (2025.4.1)\n",
      "Requirement already satisfied: referencing>=0.28.4 in c:\\users\\dell\\appdata\\roaming\\python\\python312\\site-packages (from jsonschema>=2.6->nbformat) (0.36.2)\n",
      "Requirement already satisfied: rpds-py>=0.7.1 in c:\\users\\dell\\appdata\\roaming\\python\\python312\\site-packages (from jsonschema>=2.6->nbformat) (0.20.0)\n",
      "Requirement already satisfied: platformdirs>=2.5 in c:\\users\\dell\\appdata\\roaming\\python\\python312\\site-packages (from jupyter-core!=5.0.*,>=4.12->nbformat) (4.2.2)\n",
      "Requirement already satisfied: pywin32>=300 in c:\\users\\dell\\appdata\\roaming\\python\\python312\\site-packages (from jupyter-core!=5.0.*,>=4.12->nbformat) (306)\n",
      "Requirement already satisfied: typing-extensions>=4.4.0 in c:\\users\\dell\\appdata\\roaming\\python\\python312\\site-packages (from referencing>=0.28.4->jsonschema>=2.6->nbformat) (4.13.2)\n",
      "Note: you may need to restart the kernel to use updated packages.\n"
     ]
    },
    {
     "name": "stderr",
     "output_type": "stream",
     "text": [
      "\n",
      "[notice] A new release of pip is available: 24.0 -> 25.1.1\n",
      "[notice] To update, run: python.exe -m pip install --upgrade pip\n"
     ]
    }
   ],
   "source": [
    "\n",
    "\n",
    "%pip install nbformat\n",
    "\n"
   ]
  },
  {
   "cell_type": "code",
   "execution_count": null,
   "id": "8ed8f4bd",
   "metadata": {},
   "outputs": [
    {
     "name": "stdout",
     "output_type": "stream",
     "text": [
      "Please run the cell that defines 'merged_df' before running this cell.\n"
     ]
    }
   ],
   "source": [
    "import plotly.express as px\n",
    "\n",
    "if 'merged_df' in globals():\n",
    "\tfig = px.line(x=merged_df['time'], y=merged_df['ppg_signal'], title='PPG Signal Over Time')\n",
    "\tfig.show()\n",
    "else:\n",
    "\tprint(\"Please run the cell that defines 'merged_df' before running this cell.\")"
   ]
  },
  {
   "cell_type": "code",
   "execution_count": null,
   "id": "01378aa3",
   "metadata": {},
   "outputs": [],
   "source": []
  },
  {
   "cell_type": "code",
   "execution_count": null,
   "id": "ec172423",
   "metadata": {},
   "outputs": [
    {
     "name": "stdout",
     "output_type": "stream",
     "text": [
      "       time  ppg_signal  subject_id\n",
      "0  0.000000   -0.005162           1\n",
      "1  0.010002    0.115503           1\n",
      "2  0.020003    0.239821           1\n",
      "3  0.030005    0.339529           1\n",
      "4  0.040007    0.472772           1\n"
     ]
    }
   ],
   "source": [
    "#loading subject 1 data\n",
    "\n",
    "subject_1_df = pd.read_csv(r'C:\\Users\\DELL\\Desktop\\vocational traning\\project 1\\subject_1.csv')\n",
    "print(subject_1_df.head())"
   ]
  },
  {
   "cell_type": "code",
   "execution_count": null,
   "id": "4fa8fb42",
   "metadata": {},
   "outputs": [
    {
     "data": {
      "application/vnd.plotly.v1+json": {
       "config": {
        "plotlyServerURL": "https://plot.ly"
       },
       "data": [
        {
         "hovertemplate": "x=%{x}<br>y=%{y}<extra></extra>",
         "legendgroup": "",
         "line": {
          "color": "#636efa",
          "dash": "solid"
         },
         "marker": {
          "symbol": "circle"
         },
         "mode": "lines",
         "name": "",
         "showlegend": false,
         "type": "scattergl",
         "x": {
          "bdata": "AAAAAAAAAAAQ4nQDwXuEPxDidAPBe5Q/NVMvhaG5nj8e4nQDwXukP7EaUkSxmqk/NVMvhaG5rj/jRQbjSOyxPyXidAPBe7Q/b37jIzkLtz+xGlJEsZq5P/q2wGQpKrw/PFMvhaG5vj/C987SjKTAP+NFBuNI7ME/CJQ98wQ0wz8p4nQDwXvEP04wrBN9w8U/cn7jIzkLxz+TzBo09VLIP7QaUkSxmsk/2WiJVG3iyj/6tsBkKSrMPx4F+HTlcc0/P1MvhaG5zj+yULPKrgDQP8T3ztKMpNA/1Z7q2mpI0T/lRQbjSOzRP/jsIesmkNI/CJQ98wQ00z8aO1n74tfTPyvidAPBe9Q/PYmQC58f1T9PMKwTfcPVP2DXxxtbZ9Y/cn7jIzkL1z+DJf8rF6/XP5PMGjT1Utg/pnM2PNP22D+2GlJEsZrZP8jBbUyPPto/2WiJVG3i2j/rD6VcS4bbP/y2wGQpKtw/Dl7cbAfO3D8eBfh05XHdPzGsE33DFd4/QVMvhaG53j9S+kqNf13fP7JQs8quAOA/OyTBzp1S4D/E987SjKTgP0zL3NZ79uA/1Z7q2mpI4T9ecvjeWZrhP+ZFBuNI7OE/bxkU5zc+4j/47CHrJpDiP4HAL+8V4uI/CZQ98wQ04z+SZ0v384XjPxs7Wfvi1+M/ow5n/9Ep5D8s4nQDwXvkP7W1ggewzeQ/PYmQC58f5T/GXJ4PjnHlP08wrBN9w+U/1wO6F2wV5j9g18cbW2fmP+mq1R9KueY/cn7jIzkL5z/6UfEnKF3nP4Ml/ysXr+c/DPkMMAYB6D+UzBo09VLoPx2gKDjkpOg/pnM2PNP26D8uR0RAwkjpP7caUkSxmuk/QO5fSKDs6T/IwW1Mjz7qP1GVe1B+kOo/2miJVG3i6j9iPJdYXDTrP+sPpVxLhus/dOOyYDrY6z/8tsBkKSrsP4WKzmgYfOw/Dl7cbAfO7D+XMepw9h/tPx4F+HTlce0/qNgFedTD7T8xrBN9wxXuP7p/IYGyZ+4/Q1MvhaG57j/MJj2JkAvvP1L6So1/Xe8/281YkW6v7z+yULPKrgDwP3c6ukymKfA/OyTBzp1S8D//DchQlXvwP8T3ztKMpPA/iOHVVITN8D9My9zWe/bwPxG141hzH/E/1Z7q2mpI8T+ZiPFcYnHxP15y+N5ZmvE/Ilz/YFHD8T/mRQbjSOzxP6wvDWVAFfI/bhkU5zc+8j80AxtpL2fyP/jsIesmkPI/vNYobR658j+BwC/vFeLyP0WqNnENC/M/CZQ98wQ08z/OfUR1/FzzP5JnS/fzhfM/VlFSeeuu8z8bO1n74tfzP98kYH3aAPQ/pA5n/9Ep9D9o+G2ByVL0Py3idAPBe/Q/78t7hbik9D+1tYIHsM30P3mfiYmn9vQ/PYmQC58f9T8Cc5eNlkj1P8Zcng+OcfU/ikalkYWa9T9PMKwTfcP1PxMas5V07PU/1wO6F2wV9j+b7cCZYz72P2DXxxtbZ/Y/JcHOnVKQ9j/pqtUfSrn2P62U3KFB4vY/cn7jIzkL9z82aOqlMDT3P/pR8ScoXfc/vzv4qR+G9z+DJf8rF6/3P0cPBq4O2Pc/DPkMMAYB+D/Q4hOy/Sn4P5TMGjT1Uvg/WrYhtux7+D8coCg45KT4P+GJL7rbzfg/pnM2PNP2+D9qXT2+yh/5Py5HREDCSPk/8zBLwrlx+T+3GlJEsZr5P3sEWcaow/k/QO5fSKDs+T8E2GbKlxX6P8jBbUyPPvo/jat0zoZn+j9RlXtQfpD6PxV/gtJ1ufo/22iJVG3i+j+dUpDWZAv7P2I8l1hcNPs/Jyae2lNd+z/rD6VcS4b7P6/5q95Cr/s/dOOyYDrY+z84zbniMQH8P/y2wGQpKvw/waDH5iBT/D+Fis5oGHz8P0l01eoPpfw/Dl7cbAfO/D/RR+Pu/vb8P5cx6nD2H/0/Wxvx8u1I/T8eBfh05XH9P+Xu/vbcmv0/qdgFedTD/T9swgz7y+z9PzGsE33DFf4/9ZUa/7o+/j+6fyGBsmf+P35pKAOqkP4/Q1MvhaG5/j8GPTYHmeL+P8omPYmQC/8/jxBEC4g0/z9U+kqNf13/PxjkUQ93hv8/3c1YkW6v/z+gt18TZtj/P7JQs8quAABAlcW2iyoVAEB3OrpMpikAQFmvvQ0iPgBAOyTBzp1SAEAdmcSPGWcAQP8NyFCVewBA4oLLERGQAEDE987SjKQAQKZs0pMIuQBAiOHVVITNAEBqVtkVAOIAQEzL3NZ79gBAL0Dgl/cKAUARteNYcx8BQPMp5xnvMwFA1Z7q2mpIAUC3E+6b5lwBQJmI8VxicQFAfP30Hd6FAUBecvjeWZoBQEDn+5/VrgFAIlz/YFHDAUAE0QIizdcBQOZFBuNI7AFAyLoJpMQAAkCrLw1lQBUCQI2kECa8KQJAbxkU5zc+AkBRjheos1ICQDQDG2kvZwJAFngeKqt7AkD47CHrJpACQNphJayipAJAvNYobR65AkCeSywums0CQIHAL+8V4gJAZDUzsJH2AkBFqjZxDQsDQCcfOjKJHwNACpQ98wQ0A0DrCEG0gEgDQM59RHX8XANAsPJHNnhxA0CSZ0v384UDQHTcTrhvmgNAVlFSeeuuA0A4xlU6Z8MDQBs7Wfvi1wNA/a9cvF7sA0DfJGB92gAEQMGZYz5WFQRApA5n/9EpBECFg2rATT4EQGj4bYHJUgRASm1xQkVnBEAt4nQDwXsEQA5XeMQ8kARA8Mt7hbikBEDTQH9GNLkEQLW1ggewzQRAliqGyCviBEB5n4mJp/YEQFsUjUojCwVAPImQC58fBUAg/pPMGjQFQANzl42WSAVA5OeaThJdBUDGXJ4PjnEFQKnRodAJhgVAikalkYWaBUBtu6hSAa8FQE8wrBN9wwVAMaWv1PjXBUATGrOVdOwFQPWOtlbwAAZA1wO6F2wVBkC6eL3Y5ykGQJztwJljPgZAfmLEWt9SBkBg18cbW2cGQEJMy9zWewZAJMHOnVKQBkAHNtJezqQGQOmq1R9KuQZAyx/Z4MXNBkCtlNyhQeIGQI8J4GK99gZAcn7jIzkLB0BU8+bktB8HQDVo6qUwNAdAGN3tZqxIB0D6UfEnKF0HQNvG9OijcQdAvzv4qR+GB0ChsPtqm5oHQIMl/ysXrwdAZZoC7ZLDB0BHDwauDtgHQCmECW+K7AdADPkMMAYBCEDubRDxgRUIQNDiE7L9KQhAslcXc3k+CECUzBo09VIIQHZBHvVwZwhAWbYhtux7CEA7KyV3aJAIQB2gKDjkpAhA/xQs+V+5CEDhiS+6280IQMP+MntX4ghApnM2PNP2CECI6Dn9TgsJQGpdPb7KHwlATNJAf0Y0CUAuR0RAwkgJQBC8RwE+XQlA8zBLwrlxCUDVpU6DNYYJQLgaUkSxmglAmY9VBS2vCUB7BFnGqMMJQF55XIck2AlAQO5fSKDsCUAhY2MJHAEKQATYZsqXFQpA5kxqixMqCkDHwW1Mjz4KQKw2cQ0LUwpAjat0zoZnCkBvIHiPAnwKQFGVe1B+kApANAp/EfqkCkAVf4LSdbkKQPjzhZPxzQpA22iJVG3iCkC83YwV6fYKQJ5SkNZkCwtAgceTl+AfC0BiPJdYXDQLQESxmhnYSAtAJyae2lNdC0AJm6Gbz3ELQOoPpVxLhgtAzYSoHceaC0Cv+aveQq8LQJJur5++wwtAdOOyYDrYC0BXWLYhtuwLQDjNueIxAQxAGkK9o60VDED9tsBkKSoMQN8rxCWlPgxAwaDH5iBTDECjFcunnGcMQIWKzmgYfAxAZ//RKZSQDEBKdNXqD6UMQCzp2KuLuQxADl7cbAfODEDv0t8tg+IMQNJH4+7+9gxAtLzmr3oLDUCXMepw9h8NQHim7TFyNA1AWxvx8u1IDUA9kPSzaV0NQCAF+HTlcQ1AAXr7NWGGDUDj7v723JoNQMZjArhYrw1AqdgFedTDDUCJTQk6UNgNQGzCDPvL7A1ATzcQvEcBDkAxrBN9wxUOQBQhFz4/Kg5A9ZUa/7o+DkDXCh7ANlMOQLp/IYGyZw5Am/QkQi58DkB+aSgDqpAOQGDeK8QlpQ5AQ1MvhaG5DkAjyDJGHc4OQAY9NgeZ4g5A6bE5yBT3DkDKJj2JkAsPQKybQEoMIA9AjxBEC4g0D0BwhUfMA0kPQFL6So1/XQ9AN29OTvtxD0AY5FEPd4YPQPpYVdDymg9A3c1YkW6vD0C+QlxS6sMPQKC3XxNm2A9Agyxj1OHsD0CyULPKrgAQQCMLNavsChBAlcW2iyoVEEAGgDhsaB8QQHc6ukymKRBA6PQ7LeQzEEBZr70NIj4QQMppP+5fSBBAOyTBzp1SEECs3kKv21wQQB2ZxI8ZZxBAjlNGcFdxEED/DchQlXsQQHDISTHThRBA4oLLERGQEEBTPU3yTpoQQMT3ztKMpBBANbJQs8quEECmbNKTCLkQQBcnVHRGwxBAiOHVVITNEED5m1c1wtcQQGpW2RUA4hBA2hBb9j3sEEBMy9zWe/YQQL6FXre5ABFAL0Dgl/cKEUCg+mF4NRURQBG141hzHxFAgm9lObEpEUDzKecZ7zMRQGTkaPosPhFA1Z7q2mpIEUBGWWy7qFIRQLcT7pvmXBFAKM5vfCRnEUCZiPFcYnERQAtDcz2gexFAfP30Hd6FEUDtt3b+G5ARQF5y+N5ZmhFAzyx6v5ekEUBA5/uf1a4RQLGhfYATuRFAIlz/YFHDEUCTFoFBj80RQATRAiLN1xFAdYuEAgviEUDmRQbjSOwRQFgAiMOG9hFAyboJpMQAEkA6dYuEAgsSQKsvDWVAFRJAHOqORX4fEkCNpBAmvCkSQP5ekgb6MxJAbxkU5zc+EkDg05XHdUgSQFGOF6izUhJAwkiZiPFcEkA0AxtpL2cSQKa9nEltcRJAFngeKqt7EkCHMqAK6YUSQPjsIesmkBJAaaejy2SaEkDaYSWsoqQSQEscp4zgrhJAvNYobR65EkAtkapNXMMSQJ5LLC6azRJADwauDtjXEkCBwC/vFeISQPJ6sc9T7BJAYzUzsJH2EkDU77SQzwATQEWqNnENCxNAtmS4UUsVE0AnHzoyiR8TQJjZuxLHKRNACZQ98wQ0E0B6Tr/TQj4TQOsIQbSASBNAXcPClL5SE0DOfUR1/FwTQD84xlU6ZxNAsPJHNnhxE0AhrckWtnsTQJJnS/fzhRNAAyLN1zGQE0B03E64b5oTQOWW0JitpBNAVlFSeeuuE0DHC9RZKbkTQDjGVTpnwxNAqoDXGqXNE0AbO1n74tcTQIz12tsg4hNA/a9cvF7sE0Buat6cnPYTQN8kYH3aABRAUN/hXRgLFEDBmWM+VhUUQDNU5R6UHxRAow5n/9EpFEAUyejfDzQUQIaDasBNPhRA9z3soItIFEBo+G2ByVIUQNmy72EHXRRASm1xQkVnFEC7J/Mig3EUQCzidAPBexRAnZz24/6FFEAOV3jEPJAUQH8R+qR6mhRA8Mt7hbikFEBhhv1l9q4UQNNAf0Y0uRRARPsAJ3LDFEC1tYIHsM0UQCZwBOjt1xRAlyqGyCviFEAI5QepaewUQHmfiYmn9hRA6lkLauUAFUBbFI1KIwsVQMzODithFRVAPYmQC58fFUCuQxLs3CkVQCD+k8waNBVAkbgVrVg+FUACc5eNlkgVQHMtGW7UUhVA5OeaThJdFUBVohwvUGcVQMZcng+OcRVANxcg8Mt7FUCo0aHQCYYVQBmMI7FHkBVAikalkYWaFUD7ACdyw6QVQG27qFIBrxVA3nUqMz+5FUBPMKwTfcMVQMDqLfS6zRVAMaWv1PjXFUCiXzG1NuIVQBMas5V07BVAhNQ0drL2FUD1jrZW8AAWQGZJODcuCxZA1wO6F2wVFkBJvjv4qR8WQLp4vdjnKRZAKzM/uSU0FkCc7cCZYz4WQA2oQnqhSBZAfmLEWt9SFkDvHEY7HV0WQGDXxxtbZxZA0ZFJ/JhxFkBCTMvc1nsWQLMGTb0UhhZAJMHOnVKQFkCWe1B+kJoWQAc20l7OpBZAePBTPwyvFkDpqtUfSrkWQFplVwCIwxZAyx/Z4MXNFkA82lrBA9gWQK2U3KFB4hZAHk9egn/sFkCPCeBivfYWQADEYUP7ABdAcn7jIzkLF0DiOGUEdxUXQFTz5uS0HxdAxa1oxfIpF0A2aOqlMDQXQKcibIZuPhdAGN3tZqxIF0CJl29H6lIXQPpR8ScoXRdAawxzCGZnF0DcxvToo3EXQE2BdsnhexdAvzv4qR+GF0Aw9nmKXZAXQKGw+2qbmhdAEmt9S9mkF0CDJf8rF68XQPTfgAxVuRdAZZoC7ZLDF0DWVITN0M0XQEcPBq4O2BdAuMmHjkziF0AqhAlviuwXQJo+i0/I9hdADPkMMAYBGEB9s44QRAsYQO5tEPGBFRhAXyiS0b8fGEDQ4hOy/SkYQEGdlZI7NBhAslcXc3k+GEAjEplTt0gYQJTMGjT1UhhABYecFDNdGEB2QR71cGcYQOj7n9WucRhAWbYhtux7GEDKcKOWKoYYQDsrJXdokBhArOWmV6aaGEAdoCg45KQYQI5aqhgirxhA/xQs+V+5GEBwz63ZncMYQOGJL7rbzRhAUkSxmhnYGEDD/jJ7V+IYQDW5tFuV7BhApnM2PNP2GEAXLrgcEQEZQIjoOf1OCxlA+aK73YwVGUBqXT2+yh8ZQNsXv54IKhlATNJAf0Y0GUC9jMJfhD4ZQC5HREDCSBlAnwHGIABTGUAQvEcBPl0ZQIJ2yeF7ZxlA8zBLwrlxGUBk68yi93sZQNWlToM1hhlARmDQY3OQGUC3GlJEsZoZQCjV0yTvpBlAmY9VBS2vGUAKStflarkZQHsEWcaowxlA7L7apubNGUBeeVyHJNgZQM8z3mdi4hlAQO5fSKDsGUCxqOEo3vYZQCJjYwkcARpAkx3l6VkLGkAE2GbKlxUaQHWS6KrVHxpA5kxqixMqGkBXB+xrUTQaQMjBbUyPPhpAOXzvLM1IGkCrNnENC1MaQBzx8u1IXRpAjqt0zoZnGkD+ZfauxHEaQG8geI8CfBpA4dr5b0CGGkBRlXtQfpAaQMJP/TC8mhpANAp/EfqkGkCkxADyN68aQBV/gtJ1uRpAhzkEs7PDGkD484WT8c0aQGmuB3Qv2BpA2miJVG3iGkBLIws1q+waQLzdjBXp9hpALpgO9iYBG0CeUpDWZAsbQA8NEreiFRtAgceTl+AfG0DxgRV4HiobQGI8l1hcNBtA1PYYOZo+G0BFsZoZ2EgbQLZrHPoVUxtAJyae2lNdG0CY4B+7kWcbQAmboZvPcRtAelUjfA18G0DrD6VcS4YbQFzKJj2JkBtAzYSoHceaG0A+Pyr+BKUbQK/5q95CrxtAIbQtv4C5G0CSbq+fvsMbQAMpMYD8zRtAdOOyYDrYG0DlnTRBeOIbQFZYtiG27BtAxxI4AvT2G0A4zbniMQEcQKmHO8NvCxxAGkK9o60VHECL/D6E6x8cQPy2wGQpKhxAbnFCRWc0HEDfK8QlpT4cQFDmRQbjSBxAwaDH5iBTHEAyW0nHXl0cQKMVy6ecZxxAFNBMiNpxHECFis5oGHwcQPZEUElWhhxAZ//RKZSQHEDYuVMK0pocQEp01eoPpRxAuy5Xy02vHEAs6diri7kcQJ2jWozJwxxADl7cbAfOHEB/GF5NRdgcQPDS3y2D4hxAYY1hDsHsHEDSR+Pu/vYcQEMCZc88AR1AtLzmr3oLHUAld2iQuBUdQJcx6nD2Hx1ACOxrUTQqHUB5pu0xcjQdQOpgbxKwPh1AWxvx8u1IHUDM1XLTK1MdQD2Q9LNpXR1Arkp2lKdnHUAfBfh05XEdQJC/eVUjfB1AAXr7NWGGHUBzNH0Wn5AdQOPu/vbcmh1AVamA1xqlHUDGYwK4WK8dQDYehJiWuR1AqNgFedTDHUAZk4dZEs4dQIlNCTpQ2B1A+weLGo7iHUBswgz7y+wdQNx8jtsJ9x1ATjcQvEcBHkDA8ZGchQseQDGsE33DFR5AomaVXQEgHkATIRc+PyoeQITbmB59NB5A9ZUa/7o+HkBmUJzf+EgeQNcKHsA2Ux5ASMWfoHRdHkC5fyGBsmceQCo6o2HwcR5Am/QkQi58HkANr6YibIYeQH5pKAOqkB5A7yOq4+eaHkBg3ivEJaUeQNGYraRjrx5AQlMvhaG5HkCzDbFl38MeQCPIMkYdzh5AlYK0JlvYHkAGPTYHmeIeQHb3t+fW7B5A6bE5yBT3HkBabLuoUgEfQMsmPYmQCx9APOG+ac4VH0Ctm0BKDCAfQB5WwipKKh9AjxBEC4g0H0AAy8XrxT4fQHGFR8wDSR9A4j/JrEFTH0BT+kqNf10fQMS0zG29Zx9ANm9OTvtxH0CnKdAuOXwfQBjkUQ93hh9AiZ7T77SQH0D6WFXQ8pofQGsT17AwpR9A3M1YkW6vH0BNiNpxrLkfQL5CXFLqwx9AL/3dMijOH0Cgt18TZtgfQBFy4fOj4h9Agyxj1OHsH0D05uS0H/cfQLJQs8quACBA6y30us0FIEAjCzWr7AogQFzodZsLECBAlcW2iyoVIEDNovd7SRogQAaAOGxoHyBAPl15XIckIEB3OrpMpikgQK8X+zzFLiBA6PQ7LeQzIEAg0nwdAzkgQFmvvQ0iPiBAkYz+/UBDIEDKaT/uX0ggQANHgN5+TSBAOyTBzp1SIEB0AQK/vFcgQKzeQq/bXCBA5buDn/phIEAdmcSPGWcgQFZ2BYA4bCBAjlNGcFdxIEDHMIdgdnYgQP8NyFCVeyBAOOsIQbSAIEBwyEkx04UgQKmliiHyiiBA4oLLERGQIEAaYAwCMJUgQFM9TfJOmiBAixqO4m2fIEDE987SjKQgQPzUD8OrqSBANbJQs8quIEBtj5Gj6bMgQKZs0pMIuSBA3kkThCe+IEAXJ1R0RsMgQFAElWRlyCBAiOHVVITNIEDBvhZFo9IgQPmbVzXC1yBAMnmYJeHcIEBqVtkVAOIgQKMzGgYf5yBA2xBb9j3sIEAU7pvmXPEgQEzL3NZ79iBAhagdx5r7IEC+hV63uQAhQPZin6fYBSFAL0Dgl/cKIUBnHSGIFhAhQKD6YXg1FSFA2NeiaFQaIUARteNYcx8hQEmSJEmSJCFAgm9lObEpIUC6TKYp0C4hQPMp5xnvMyFAKwcoCg45IUBk5Gj6LD4hQJ3BqepLQyFA1Z7q2mpIIUAOfCvLiU0hQEZZbLuoUiFAfzatq8dXIUC3E+6b5lwhQPDwLowFYiFAKM5vfCRnIUBhq7BsQ2whQJmI8VxicSFA0mUyTYF2IUALQ3M9oHshQEMgtC2/gCFAfP30Hd6FIUC02jUO/YohQO23dv4bkCFAJZW37jqVIUBecvjeWZohQJZPOc94nyFAzyx6v5ekIUAHCruvtqkhQEDn+5/VriFAecQ8kPSzIUCxoX2AE7khQOp+vnAyviFAIlz/YFHDIUBbOUBRcMghQJMWgUGPzSFAzPPBMa7SIUAE0QIizdchQD2uQxLs3CFAdYuEAgviIUCuaMXyKechQOZFBuNI7CFAHyNH02fxIUBYAIjDhvYhQJDdyLOl+yFAyboJpMQAIkABmEqU4wUiQDp1i4QCCyJAclLMdCEQIkCqLw1lQBUiQOQMTlVfGiJAHeqORX4fIkBUx881nSQiQI2kECa8KSJAxoFRFtsuIkD9XpIG+jMiQDc80/YYOSJAcBkU5zc+IkCo9lTXVkMiQODTlcd1SCJAGbHWt5RNIkBQjheos1IiQIprWJjSVyJAw0iZiPFcIkD7Jdp4EGIiQDQDG2kvZyJAbOBbWU5sIkCmvZxJbXEiQNya3TmMdiJAFngeKqt7IkBOVV8ayoAiQIcyoArphSJAvw/h+geLIkD47CHrJpAiQC/KYttFlSJAaaejy2SaIkCihOS7g58iQNphJayipCJAEz9mnMGpIkBLHKeM4K4iQIT553z/syJAvNYobR65IkD1s2ldPb4iQC2Rqk1cwyJAZW7rPXvIIkCeSywums0iQNgobR650iJADwauDtjXIkBI4+7+9twiQIHAL+8V4iJAuJ1w3zTnIkDxerHPU+wiQCtY8r9y8SJAYzUzsJH2IkCbEnSgsPsiQNTvtJDPACNAC831gO4FI0BEqjZxDQsjQH6Hd2EsECNAtmS4UUsVI0DvQflBahojQCcfOjKJHyNAYPx6IqgkI0CX2bsSxykjQNG2/ALmLiNACZQ98wQ0I0BCcX7jIzkjQHpOv9NCPiNAsysAxGFDI0DqCEG0gEgjQCTmgaSfTSNAXcPClL5SI0CVoAOF3VcjQM59RHX8XCNABluFZRtiI0BAOMZVOmcjQHcVB0ZZbCNAsPJHNnhxI0Doz4gml3YjQCGtyRa2eyNAWYoKB9WAI0CTZ0v384UjQMpEjOcSiyNAAyLN1zGQI0A8/w3IUJUjQHTcTrhvmiNArLmPqI6fI0DmltCYraQjQB90EYnMqSNAVlFSeeuuI0CPLpNpCrQjQMcL1FkpuSNAAOkUSki+I0A5xlU6Z8MjQHGjliqGyCNAqoDXGqXNI0DiXRgLxNIjQBs7Wfvi1yNAUhia6wHdI0CM9drbIOIjQMXSG8w/5yNA/a9cvF7sI0A1jZ2sffEjQG5q3pyc9iNApUcfjbv7I0DeJGB92gAkQBgCoW35BSRAUN/hXRgLJECJvCJONxAkQMGZYz5WFSRA+nakLnUaJEAxVOUelB8kQGsxJg+zJCRAow5n/9EpJEDc66fv8C4kQBTJ6N8PNCRATaYp0C45JECEg2rATT4kQL5gq7BsQyRA9z3soItIJEAvGy2Rqk0kQGf4bYHJUiRAoNWucehXJEDasu9hB10kQBGQMFImYiRASm1xQkVnJECCSrIyZGwkQLon8yKDcSRA8wQ0E6J2JEAt4nQDwXskQGW/tfPfgCRAnZz24/6FJEDWeTfUHYskQA5XeMQ8kCRARjS5tFuVJEB/EfqkepokQLjuOpWZnyRA8Mt7hbikJEApqbx116kkQGGG/WX2riRAmWM+VhW0JEDTQH9GNLkkQAsewDZTviRARPsAJ3LDJEB82EEXkcgkQLW1ggewzSRA7ZLD987SJEAmcATo7dckQF5NRdgM3SRAlyqGyCviJEDPB8e4SuckQAjlB6lp7CRAP8JImYjxJEB5n4mJp/YkQLJ8ynnG+yRA6lkLauUAJUAjN0xaBAYlQFsUjUojCyVAlfHNOkIQJUDMzg4rYRUlQAWsTxuAGiVAPYmQC58fJUB2ZtH7vSQlQK5DEuzcKSVA6CBT3PsuJUAh/pPMGjQlQFjb1Lw5OSVAkbgVrVg+JUDJlVadd0MlQAFzl42WSCVAO1DYfbVNJUB0LRlu1FIlQKsKWl7zVyVA5OeaThJdJUAcxds+MWIlQFSiHC9QZyVAjn9dH29sJUDHXJ4PjnElQP853/+sdiVANxcg8Mt7JUBw9GDg6oAlQKfRodAJhiVA4K7iwCiLJUAajCOxR5AlQFJpZKFmlSVAikalkYWaJUDDI+aBpJ8lQPsAJ3LDpCVAM95nYuKpJUBtu6hSAa8lQKWY6UIgtCVA3nUqMz+5JUAWU2sjXr4lQE8wrBN9wyVAhg3tA5zIJUDA6i30us0lQPjHbuTZ0iVAMaWv1PjXJUBpgvDEF90lQKJfMbU24iVA2zxypVXnJUATGrOVdOwlQEz384WT8SVAhNQ0drL2JUC8sXVm0fslQPWOtlbwACZAL2z3Rg8GJkBmSTg3LgsmQJ8meSdNECZA1wO6F2wVJkAP4foHixomQEi+O/ipHyZAgpt86MgkJkC6eL3Y5ykmQPJV/sgGLyZAKzM/uSU0JkBjEICpRDkmQJvtwJljPiZA1coBioJDJkANqEJ6oUgmQEWFg2rATSZAfmLEWt9SJkC2PwVL/lcmQO4cRjsdXSZAKPqGKzxiJkBg18cbW2cmQJm0CAx6bCZA0ZFJ/JhxJkAKb4rst3YmQEFMy9zWeyZAeykMzfWAJkC0Bk29FIYmQOzjja0ziyZAJMHOnVKQJkBdng+OcZUmQJd7UH6QmiZAzliRbq+fJkAHNtJezqQmQD8TE0/tqSZAePBTPwyvJkCwzZQvK7QmQOqq1R9KuSZAIYgWEGm+JkBaZVcAiMMmQJJCmPCmyCZAyx/Z4MXNJkAD/RnR5NImQD3aWsED2CZAdrebsSLdJkCtlNyhQeImQOZxHZJg5yZAHk9egn/sJkBXLJ9ynvEmQJAJ4GK99iZAyOYgU9z7JkAAxGFD+wAnQDmhojMaBidAcn7jIzkLJ0CpWyQUWBAnQOI4ZQR3FSdAHBam9JUaJ0BU8+bktB8nQIzQJ9XTJCdAxa1oxfIpJ0D8iqm1ES8nQDVo6qUwNCdAb0Urlk85J0CnImyGbj4nQN//rHaNQydAGN3tZqxIJ0BRui5Xy00nQIiXb0fqUidAwnSwNwlYJ0D6UfEnKF0nQDMvMhhHYidAawxzCGZnJ0Ck6bP4hGwnQNvG9OijcSdAFaQ12cJ2J0BNgXbJ4XsnQIZet7kAgSdAvjv4qR+GJ0D3GDmaPosnQDH2eYpdkCdAaNO6enyVJ0ChsPtqm5onQNmNPFu6nydAEWt9S9mkJ0BKSL47+KknQIQl/ysXrydAuwJAHDa0J0D034AMVbknQC29wfxzvidAZZoC7ZLDJ0Cdd0PdscgnQNZUhM3QzSdADzLFve/SJ0BHDwauDtgnQIDsRp4t3SdAuMmHjkziJ0Dwpsh+a+cnQCqECW+K7CdAYmFKX6nxJ0CaPotPyPYnQNMbzD/n+ydADPkMMAYBKEBE1k0gJQYoQH2zjhBECyhAtZDPAGMQKEDubRDxgRUoQCZLUeGgGihAXyiS0b8fKECWBdPB3iQoQNDiE7L9KShACcBUohwvKEBBnZWSOzQoQHp61oJaOShAslcXc3k+KEDsNFhjmEMoQCMSmVO3SChAXO/ZQ9ZNKECUzBo09VIoQM2pWyQUWChABYecFDNdKEA/ZN0EUmIoQHZBHvVwZyhArx5f5Y9sKEDo+5/VrnEoQCDZ4MXNdihAWLYhtux7KECSk2KmC4EoQMtwo5YqhihAAk7khkmLKEA7KyV3aJAoQHMIZmeHlShAq+WmV6aaKEDkwudHxZ8oQB6gKDjkpChAVX1pKAOqKECOWqoYIq8oQMc36whBtChA/hQs+V+5KEA38mzpfr4oQHHPrdmdwyhAqazuybzIKEDhiS+6280oQBpncKr60ihAUkSxmhnYKECKIfKKON0oQMP+MntX4ihA/Ntza3bnKEA1ubRblewoQG2W9Uu08ShApnM2PNP2KEDdUHcs8vsoQBcuuBwRASlATwv5DDAGKUCI6Dn9TgspQMDFeu1tEClA+aK73YwVKUAwgPzNqxopQGpdPb7KHylAozp+rukkKUDbF7+eCCopQBP1/44nLylATNJAf0Y0KUCGr4FvZTkpQL2Mwl+EPilA9mkDUKNDKUAuR0RAwkgpQGckhTDhTSlAnwHGIABTKUDZ3gYRH1gpQBC8RwE+XSlASZmI8VxiKUCCdsnhe2cpQLpTCtKabClA8jBLwrlxKUAsDoyy2HYpQGTrzKL3eylAnMgNkxaBKUDVpU6DNYYpQA2Dj3NUiylARWDQY3OQKUB/PRFUkpUpQLgaUkSxmilA8PeSNNCfKUAo1dMk76QpQGGyFBUOqilAmI9VBS2vKUDSbJb1S7QpQAtK1+VquSlAQycY1om+KUB7BFnGqMMpQLThmbbHyClA677apubNKUAlnBuXBdMpQF55XIck2ClAlladd0PdKUDPM95nYuIpQAcRH1iB5ylAQe5fSKDsKUB4y6A4v/EpQLGo4Sje9ilA6YUiGf37KUAiY2MJHAEqQFpApPk6BipAlB3l6VkLKkDL+iXaeBAqQATYZsqXFSpAPbWnurYaKkB1kuiq1R8qQK5vKZv0JCpA5kxqixMqKkAfKqt7Mi8qQFcH7GtRNCpAkOQsXHA5KkDIwW1Mjz4qQACfrjyuQypAOXzvLM1IKkBzWTAd7E0qQKs2cQ0LUypA4xOy/SlYKkAc8fLtSF0qQFPOM95nYipAjKt0zoZnKkDGiLW+pWwqQP5l9q7EcSpANkM3n+N2KkBvIHiPAnwqQKb9uH8hgSpA39r5b0CGKkAZuDpgX4sqQFGVe1B+kCpAinK8QJ2VKkDCT/0wvJoqQPssPiHbnypAMgp/EfqkKkBs578BGaoqQKTEAPI3rypA3aFB4la0KkAVf4LSdbkqQE5cw8KUvipAhTkEs7PDKkC/FkWj0sgqQPjzhZPxzSpAMNHGgxDTKkBprgd0L9gqQKGLSGRO3SpA22iJVG3iKkASRspEjOcqQEsjCzWr7CpAgwBMJcrxKkC83YwV6fYqQPS6zQUI/CpALpgO9iYBK0BmdU/mRQYrQJ5SkNZkCytA1y/RxoMQK0APDRK3ohUrQEfqUqfBGitAgceTl+AfK0C6pNSH/yQrQPGBFXgeKitAKl9WaD0vK0BiPJdYXDQrQJsZ2Eh7OStA1PYYOZo+K0AM1FkpuUMrQEWxmhnYSCtAfY7bCfdNK0C2axz6FVMrQO1IXeo0WCtAJyae2lNdK0BgA9/KcmIrQJjgH7uRZytA0L1gq7BsK0AJm6Gbz3ErQEB44ovuditAelUjfA18K0CzMmRsLIErQOsPpVxLhitAJO3lTGqLK0BcyiY9iZArQJanZy2olStAzYSoHceaK0AGYukN5p8rQD4/Kv4EpStAdxxr7iOqK0Cv+aveQq8rQOjW7M5htCtAIrQtv4C5K0BZkW6vn74rQJJur5++wytAykvwj93IK0ACKTGA/M0rQDsGcnAb0ytAdeOyYDrYK0CswPNQWd0rQOWdNEF44itAHXt1MZfnK0BVWLYhtuwrQI419xHV8StAyBI4AvT2K0AA8HjyEvwrQDjNueIxASxAcar60lAGLECphzvDbwssQOFkfLOOECxAGkK9o60VLEBTH/6TzBosQIv8PoTrHyxAxNl/dAolLED7tsBkKSosQDSUAVVILyxAbnFCRWc0LECmToM1hjksQN8rxCWlPixAFwkFFsRDLEBQ5kUG40gsQIfDhvYBTixAwaDH5iBTLED5fQjXP1gsQDJbScdeXSxAajiKt31iLECjFcunnGcsQN3yC5i7bCxAFNBMiNpxLEBNrY14+XYsQIWKzmgYfCxAvmcPWTeBLED2RFBJVoYsQDAikTl1iyxAZ//RKZSQLECg3BIas5UsQNi5UwrSmixAEZeU+vCfLEBJdNXqD6UsQINRFtsuqixAvC5Xy02vLEDzC5i7bLQsQCzp2KuLuSxAZMYZnKq+LECco1qMycMsQNaAm3zoyCxAD17cbAfOLEBGOx1dJtMsQH8YXk1F2CxAuPWePWTdLEDv0t8tg+IsQCmwIB6i5yxAYo1hDsHsLECaaqL+3/EsQNJH4+7+9ixACyUk3x38LEBCAmXPPAEtQHzfpb9bBi1Atbzmr3oLLUDtmSegmRAtQCV3aJC4FS1AXlSpgNcaLUCYMepw9h8tQM8OK2EVJS1ACOxrUTQqLUBAyaxBUy8tQHmm7TFyNC1AsYMuIpE5LUDqYG8SsD4tQCE+sALPQy1AWxvx8u1ILUCT+DHjDE4tQMzVctMrUy1ABbOzw0pYLUA9kPSzaV0tQHZtNaSIYi1Arkp2lKdnLUDnJ7eExmwtQB8F+HTlcS1AV+I4ZQR3LUCQv3lVI3wtQMqcukVCgS1AAXr7NWGGLUA6VzwmgIstQHM0fRafkC1AqhG+Br6VLUDj7v723JotQB3MP+f7ny1AVamA1xqlLUCNhsHHOaotQMZjArhYry1A/UBDqHe0LUA2HoSYlrktQHD7xIi1vi1AqNgFedTDLUDgtUZp88gtQBmTh1kSzi1AUnDISTHTLUCJTQk6UNgtQMMqSipv3S1A+weLGo7iLUA05csKrectQGzCDPvL7C1ApZ9N6+rxLUDcfI7bCfctQBZaz8so/C1ATjcQvEcBLkCHFFGsZgYuQMDxkZyFCy5A+M7SjKQQLkAyrBN9wxUuQGmJVG3iGi5AomaVXQEgLkDaQ9ZNICUuQBMhFz4/Ki5AS/5XLl4vLkCF25gefTQuQLy42Q6cOS5A9ZUa/7o+LkAuc1vv2UMuQGZQnN/4SC5Ani3dzxdOLkDYCh7ANlMuQBHoXrBVWC5ASMWfoHRdLkCBouCQk2IuQLl/IYGyZy5A8lxicdFsLkArOqNh8HEuQGMX5FEPdy5Am/QkQi58LkDU0WUyTYEuQA2vpiJshi5ARIznEouLLkB+aSgDqpAuQLdGafPIlS5A7yOq4+eaLkAnAevTBqAuQGDeK8QlpS5Al7tstESqLkDRmK2kY68uQAp27pSCtC5AQlMvhaG5LkB7MHB1wL4uQLMNsWXfwy5A7OrxVf7ILkAjyDJGHc4uQF2lczY80y5AlYK0JlvYLkDOX/UWet0uQAY9NgeZ4i5APxp397fnLkB297fn1uwuQLDU+Nf18S5A6bE5yBT3LkAhj3q4M/wuQFlsu6hSAS9Akkn8mHEGL0DMJj2JkAsvQAMEfnmvEC9APOG+ac4VL0B0vv9Z7RovQKybQEoMIC9A5XiBOislL0AfVsIqSiovQFYzAxtpLy9AjxBEC4g0L0DI7YT7pjkvQADLxevFPi9AOKgG3ORDL0BxhUfMA0kvQKpiiLwiTi9A4j/JrEFTL0AbHQqdYFgvQFP6So1/XS9Ai9eLfZ5iL0DFtMxtvWcvQP2RDV7cbC9ANm9OTvtxL0BuTI8+GncvQKcp0C45fC9A3gYRH1iBL0AY5FEPd4YvQFDBkv+Viy9AiZ7T77SQL0DBexTg05UvQPpYVdDymi9AMTaWwBGgL0BrE9ewMKUvQKTwF6FPqi9A3M1YkW6vL0AVq5mBjbQvQE2I2nGsuS9Ah2UbYsu+L0C+QlxS6sMvQPcfnUIJyS9AL/3dMijOL0Bo2h4jR9MvQKC3XxNm2C9A2pSgA4XdL0ARcuHzo+IvQEpPIuTC5y9Agyxj1OHsL0C7CaTEAPIvQPPm5LQf9y9ALcQlpT78L0CyULPKrgAwQE+/00I+AzBA6y30us0FMECHnBQzXQgwQCMLNavsCjBAwHlVI3wNMEBc6HWbCxAwQPhWlhObEjBAlcW2iyoVMEAxNNcDuhcwQM2i93tJGjBAaREY9NgcMEAGgDhsaB8wQKLuWOT3ITBAPl15XIckMEDay5nUFicwQHc6ukymKTBAE6naxDUsMECvF/s8xS4wQEyGG7VUMTBA6PQ7LeQzMECEY1ylczYwQCDSfB0DOTBAvUCdlZI7MEBZr70NIj4wQPUd3oWxQDBAkYz+/UBDMEAu+x520EUwQMppP+5fSDBAZthfZu9KMEADR4Defk0wQJ+1oFYOUDBAOyTBzp1SMEDXkuFGLVUwQHQBAr+8VzBAEHAiN0xaMECs3kKv21wwQEhNYydrXzBA5buDn/phMECBKqQXimQwQB2ZxI8ZZzBAugflB6lpMEBWdgWAOGwwQPLkJfjHbjBAjlNGcFdxMEArwmbo5nMwQMcwh2B2djBAY5+n2AV5MED/DchQlXswQJx86MgkfjBAOOsIQbSAMEDUWSm5Q4MwQHDISTHThTBADTdqqWKIMECppYoh8oowQEUUq5mBjTBA4oLLERGQMEB+8euJoJIwQBpgDAIwlTBAts4ser+XMEBTPU3yTpowQO+rbWrenDBAixqO4m2fMEAnia5a/aEwQMT3ztKMpDBAYGbvShynMED81A/Dq6kwQJlDMDs7rDBANbJQs8quMEDRIHErWrEwQG2PkaPpszBACv6xG3m2MECmbNKTCLkwQELb8guYuzBA3kkThCe+MEB7uDP8tsAwQBcnVHRGwzBAs5V07NXFMEBQBJVkZcgwQOxytdz0yjBAiOHVVITNMEAkUPbME9AwQMG+FkWj0jBAXS03vTLVMED5m1c1wtcwQJUKeK1R2jBAMnmYJeHcMEDO57idcN8wQGpW2RUA4jBAB8X5jY/kMECjMxoGH+cwQD+iOn6u6TBA2xBb9j3sMEB4f3tuze4wQBTum+Zc8TBAsFy8XuzzMEBMy9zWe/YwQOk5/U4L+TBAhagdx5r7MEAhFz4/Kv4wQL6FXre5ADFAWvR+L0kDMUD2Yp+n2AUxQJLRvx9oCDFAL0Dgl/cKMUDLrgAQhw0xQGcdIYgWEDFAA4xBAKYSMUCg+mF4NRUxQDxpgvDEFzFA2NeiaFQaMUB1RsPg4xwxQBG141hzHzFArSME0QIiMUBJkiRJkiQxQOYARcEhJzFAgm9lObEpMUAe3oWxQCwxQLpMpinQLjFAV7vGoV8xMUDzKecZ7zMxQI+YB5J+NjFAKwcoCg45MUDIdUiCnTsxQGTkaPosPjFAAFOJcrxAMUCdwanqS0MxQDkwymLbRTFA1Z7q2mpIMUBxDQtT+koxQA58K8uJTTFAqupLQxlQMUBGWWy7qFIxQOLHjDM4VTFAfzatq8dXMUAbpc0jV1oxQLcT7pvmXDFAVIIOFHZfMUDw8C6MBWIxQIxfTwSVZDFAKM5vfCRnMUDFPJD0s2kxQGGrsGxDbDFA/RnR5NJuMUCZiPFcYnExQDb3EdXxczFA0mUyTYF2MUBu1FLFEHkxQAtDcz2gezFAp7GTtS9+MUBDILQtv4AxQN+O1KVOgzFAfP30Hd6FMUAYbBWWbYgxQLTaNQ79ijFAUElWhoyNMUDtt3b+G5AxQIkml3arkjFAJZW37jqVMUDCA9hmypcxQF5y+N5ZmjFA+uAYV+mcMUCWTznPeJ8xQDO+WUcIojFAzyx6v5ekMUBrm5o3J6cxQAcKu6+2qTFApHjbJ0asMUBA5/uf1a4xQNxVHBhlsTFAecQ8kPSzMUAVM10IhLYxQLGhfYATuTFATRCe+KK7MUDqfr5wMr4xQIbt3ujBwDFAIlz/YFHDMUC+yh/Z4MUxQFs5QFFwyDFA96dgyf/KMUCTFoFBj80xQDCFobke0DFAzPPBMa7SMUBoYuKpPdUxQATRAiLN1zFAoT8jmlzaMUA9rkMS7NwxQNkcZIp73zFAdYuEAgviMUAS+qR6muQxQK5oxfIp5zFAStflarnpMUDmRQbjSOwxQIO0JlvY7jFAHyNH02fxMUC7kWdL9/MxQFgAiMOG9jFA9G6oOxb5MUCQ3cizpfsxQCxM6Ss1/jFAyboJpMQAMkBlKSocVAMyQAGYSpTjBTJAnQZrDHMIMkA6dYuEAgsyQNbjq/yRDTJAclLMdCEQMkAPwezssBIyQKsvDWVAFTJAR54t3c8XMkDiDE5VXxoyQIB7bs3uHDJAHeqORX4fMkC4WK+9DSIyQFTHzzWdJDJA8TXwrSwnMkCNpBAmvCkyQCkTMZ5LLDJAxoFRFtsuMkBj8HGOajEyQP5ekgb6MzJAmc2yfok2MkA3PNP2GDkyQNOq826oOzJAbxkU5zc+MkAKiDRfx0AyQKj2VNdWQzJARWV1T+ZFMkDg05XHdUgyQH1Ctj8FSzJAGbHWt5RNMkC1H/cvJFAyQFGOF6izUjJA7vw3IENVMkCLa1iY0lcyQCbaeBBiWjJAwkiZiPFcMkBft7kAgV8yQPwl2ngQYjJAmJT68J9kMkA0AxtpL2cyQNBxO+G+aTJAbOBbWU5sMkAIT3zR3W4yQKa9nEltcTJAQSy9wfxzMkDcmt05jHYyQHkJ/rEbeTJAFngeKqt7MkCy5j6iOn4yQE5VXxrKgDJA6sN/klmDMkCHMqAK6YUyQCShwIJ4iDJAvw/h+geLMkBcfgFzl40yQPjsIesmkDJAlFtCY7aSMkAwymLbRZUyQM04g1PVlzJAaqejy2SaMkAFFsRD9JwyQKKE5LuDnzJAPfMENBOiMkDbYSWsoqQyQHbQRSQypzJAEz9mnMGpMkCvrYYUUawyQEscp4zgrjJA54rHBHCxMkCE+ed8/7MyQCBoCPWOtjJAvNYobR65MkBYRUnlrbsyQPWzaV09vjJAkiKK1czAMkAtkapNXMMyQMr/ysXrxTJAZm7rPXvIMkAD3Qu2CssyQJ5LLC6azTJAO7pMpinQMkDXKG0eudIyQHOXjZZI1TJADwauDtjXMkCsdM6GZ9oyQEjj7v723DJA41EPd4bfMkCAwC/vFeIyQB0vUGel5DJAuZ1w3zTnMkBVDJFXxOkyQPF6sc9T7DJAjunRR+PuMkArWPK/cvEyQMbGEjgC9DJAYzUzsJH2MkD/o1MoIfkyQJsSdKCw+zJAOIGUGED+MkDU77SQzwAzQHFe1QhfAzNADM31gO4FM0CpOxb5fQgzQESqNnENCzNA4hhX6ZwNM0B+h3dhLBAzQBr2l9m7EjNAtmS4UUsVM0BS09jJ2hczQO5B+UFqGjNAi7AZuvkcM0AnHzoyiR8zQMONWqoYIjNAX/x6IqgkM0D8apuaNyczQJnZuxLHKTNANEjcilYsM0DRtvwC5i4zQG0lHXt1MTNACpQ98wQ0M0CmAl5rlDYzQEJxfuMjOTNA3t+eW7M7M0B6Tr/TQj4zQBe930vSQDNAsysAxGFDM0BPmiA88UUzQOoIQbSASDNAiHdhLBBLM0Ak5oGkn00zQMBUohwvUDNAXcPClL5SM0D5MeMMTlUzQJWgA4XdVzNAMg8k/WxaM0DOfUR1/FwzQGrsZO2LXzNABluFZRtiM0CiyaXdqmQzQD44xlU6ZzNA26bmzclpM0B4FQdGWWwzQBOEJ77objNAsPJHNnhxM0BLYWiuB3QzQOnPiCaXdjNAhT6pniZ5M0AhrckWtnszQL0b6o5FfjNAWYoKB9WAM0D1+Cp/ZIMzQJNnS/fzhTNALtZrb4OIM0DKRIznEoszQGazrF+ijTNAAyLN1zGQM0CfkO1PwZIzQDz/DchQlTNA2G0uQOCXM0B03E64b5ozQBFLbzD/nDNArbmPqI6fM0BJKLAgHqIzQOWW0JitpDNAgQXxED2nM0AedBGJzKkzQLriMQFcrDNAV1FSeeuuM0D0v3LxerEzQI8uk2kKtDNAK52z4Zm2M0DHC9RZKbkzQGR69NG4uzNAAOkUSki+M0CcVzXC18AzQDnGVTpnwzNA1TR2svbFM0Bxo5YqhsgzQA0St6IVyzNAqoDXGqXNM0BF7/eSNNAzQOJdGAvE0jNAf8w4g1PVM0AbO1n74tczQLepeXNy2jNAUxia6wHdM0Dwhrpjkd8zQIz12tsg4jNAKGT7U7DkM0DE0hvMP+czQGFBPETP6TNA/K9cvF7sM0CaHn007u4zQDWNnax98TNA0vu9JA30M0Btat6cnPYzQArZ/hQs+TNApkcfjbv7M0BDtj8FS/4zQN4kYH3aADRAe5OA9WkDNEAYAqFt+QU0QLRwweWICDRAUN/hXRgLNEDsTQLWpw00QIm8Ik43EDRAJStDxsYSNEDBmWM+VhU0QF4IhLblFzRA+nakLnUaNECW5cSmBB00QDFU5R6UHzRAz8IFlyMiNEBrMSYPsyQ0QAegRodCJzRAow5n/9EpNEA/fYd3YSw0QNzrp+/wLjRAeFrIZ4AxNEAUyejfDzQ0QLE3CVifNjRATKYp0C45NEDpFEpIvjs0QIaDasBNPjRAIvKKON1ANEC+YKuwbEM0QFrPyyj8RTRA9z3soItINECTrAwZG0s0QC8bLZGqTTRAy4lNCTpQNEBo+G2ByVI0QARnjvlYVTRAoNWucehXNEA8RM/pd1o0QNqy72EHXTRAdCEQ2pZfNEARkDBSJmI0QK7+UMq1ZDRASm1xQkVnNEDl25G61Gk0QIJKsjJkbDRAH7nSqvNuNEC7J/Mig3E0QFeWE5sSdDRA8wQ0E6J2NECQc1SLMXk0QCzidAPBezRAyFCVe1B+NEBmv7Xz34A0QAEu1mtvgzRAnZz24/6FNEA4Cxdcjog0QNZ5N9QdizRAcuhXTK2NNEAOV3jEPJA0QKrFmDzMkjRARjS5tFuVNEDiotks65c0QH8R+qR6mjRAHIAaHQqdNEC47jqVmZ80QFNdWw0pojRA8Mt7hbikNECOOpz9R6c0QCmpvHXXqTRAxRfd7WasNEBhhv1l9q40QP70Hd6FsTRAmmM+VhW0NEA20l7OpLY0QNRAf0Y0uTRAb6+fvsO7NEALHsA2U740QKeM4K7iwDRARfsAJ3LDNEDhaSGfAcY0QHzYQReRyDRAGEdijyDLNEC1tYIHsM00QFEko38/0DRA7ZLD987SNECKAeRvXtU0QCZwBOjt1zRAwt4kYH3aNEBeTUXYDN00QPu7ZVCc3zRAlyqGyCviNEAymaZAu+Q0QM8Hx7hK5zRAbXbnMNrpNEAI5Qepaew0QKRTKCH57jRAP8JImYjxNEDdMGkRGPQ0QHmfiYmn9jRAFQ6qATf5NECzfMp5xvs0QE3r6vFV/jRA6VkLauUANUCHyCvidAM1QCM3TFoEBjVAv6Vs0pMINUBaFI1KIws1QPeCrcKyDTVAlfHNOkIQNUAwYO6y0RI1QMzODithFTVAaT0vo/AXNUAFrE8bgBo1QKEacJMPHTVAPYmQC58fNUDb97CDLiI1QHZm0fu9JDVAEtXxc00nNUCuQxLs3Ck1QEyyMmRsLDVA6CBT3PsuNUCDj3NUizE1QCD+k8waNDVAvGy0RKo2NUBY29S8OTk1QPRJ9TTJOzVAkbgVrVg+NUAtJzYl6EA1QMmVVp13QzVAZQR3FQdGNUACc5eNlkg1QJ7htwUmSzVAOVDYfbVNNUDXvvj1RFA1QHQtGW7UUjVAD5w55mNVNUCrClpe81c1QEh5etaCWjVA5OeaThJdNUCAVrvGoV81QBzF2z4xYjVAujP8tsBkNUBVohwvUGc1QPAQPaffaTVAjn9dH29sNUAq7n2X/m41QMZcng+OcTVAYcu+hx10NUD/Od//rHY1QJyo/3c8eTVANxcg8Mt7NUDThUBoW341QHD0YODqgDVADGOBWHqDNUCo0aHQCYY1QEVAwkiZiDVA4q7iwCiLNUB9HQM5uI01QBmMI7FHkDVAtvpDKdeSNUBTaWShZpU1QO7XhBn2lzVAikalkYWaNUAntcUJFZ01QMMj5oGknzVAX5IG+jOiNUD7ACdyw6Q1QJhvR+pSpzVAM95nYuKpNUDQTIjacaw1QG27qFIBrzVACSrJypCxNUClmOlCILQ1QEAHCruvtjVA3nUqMz+5NUB75Eqrzrs1QBZTayNevjVAssGLm+3ANUBPMKwTfcM1QOuezIsMxjVAhw3tA5zINUAkfA18K8s1QMHqLfS6zTVAXFlObErQNUD4x27k2dI1QJQ2j1xp1TVAMqWv1PjXNUDOE9BMiNo1QGiC8MQX3TVABvEQPaffNUCiXzG1NuI1QD7OUS3G5DVA2zxypVXnNUB3q5Id5ek1QBMas5V07DVAr4jTDQTvNUBM9/OFk/E1QOllFP4i9DVAhNQ0drL2NUAgQ1XuQfk1QL2xdWbR+zVAWiCW3mD+NUD1jrZW8AA2QJL91s5/AzZALmz3Rg8GNkDK2he/ngg2QGZJODcuCzZAA7hYr70NNkCfJnknTRA2QDqVmZ/cEjZA1gO6F2wVNkB0ctqP+xc2QBDh+geLGjZArE8bgBodNkBIvjv4qR82QOUsXHA5IjZAgpt86MgkNkAdCp1gWCc2QLp4vdjnKTZAVufdUHcsNkDyVf7IBi82QI7EHkGWMTZAKzM/uSU0NkDIoV8xtTY2QGMQgKlEOTZAAH+gIdQ7NkCb7cCZYz42QDlc4RHzQDZA1coBioJDNkBxOSICEkY2QA2oQnqhSDZAqRZj8jBLNkBFhYNqwE02QOPzo+JPUDZAfmLEWt9SNkAa0eTSblU2QLY/BUv+VzZAU64lw41aNkDvHEY7HV02QIuLZrOsXzZAKPqGKzxiNkDEaKejy2Q2QGHXxxtbZzZA/EXok+ppNkCZtAgMemw2QDUjKYQJbzZA0ZFJ/JhxNkBtAGp0KHQ2QApviuy3djZAp92qZEd5NkBBTMvc1ns2QN+661RmfjZAeykMzfWANkAXmCxFhYM2QLMGTb0UhjZAUHVtNaSINkDs442tM4s2QIlSriXDjTZAJMHOnVKQNkDBL+8V4pI2QF2eD45xlTZA+QwwBgGYNkCVe1B+kJo2QDLqcPYfnTZAz1iRbq+fNkBqx7HmPqI2QAc20l7OpDZAoqTy1l2nNkBAExNP7ak2QNyBM8d8rDZAePBTPwyvNkAUX3S3m7E2QLDNlC8rtDZATDy1p7q2NkDqqtUfSrk2QIUZ9pfZuzZAIYgWEGm+NkC99jaI+MA2QFplVwCIwzZA9tN3eBfGNkCSQpjwpsg2QC+xuGg2yzZAyx/Z4MXNNkBojvlYVdA2QAT9GdHk0jZAoGs6SXTVNkA82lrBA9g2QNhIezmT2jZAdbebsSLdNkARJrwpst82QK6U3KFB4jZASQP9GdHkNkDmcR2SYOc2QILgPQrw6TZAHk9egn/sNkC7vX76Du82QFcsn3Ke8TZA85q/6i30NkCQCeBivfY2QCx4ANtM+TZAyOYgU9z7NkBkVUHLa/42QADEYUP7ADdAnDKCu4oDN0A5oaIzGgY3QNYPw6upCDdAcn7jIzkLN0AO7QOcyA03QKpbJBRYEDdAR8pEjOcSN0DjOGUEdxU3QH+nhXwGGDdAGxam9JUaN0C3hMZsJR03QFPz5uS0HzdA8GEHXUQiN0CM0CfV0yQ3QCc/SE1jJzdAxK1oxfIpN0BhHIk9giw3QP2KqbURLzdAmvnJLaExN0A1aOqlMDQ3QNLWCh7ANjdAb0Urlk85N0ALtEsO3zs3QKcibIZuPjdAQ5GM/v1AN0Df/6x2jUM3QHxuze4cRjdAGN3tZqxIN0C1Sw7fO0s3QFG6LlfLTTdA7ShPz1pQN0CIl29H6lI3QCYGkL95VTdAwnSwNwlYN0Be49CvmFo3QPpR8ScoXTdAlsARoLdfN0AzLzIYR2I3QM+dUpDWZDdAawxzCGZnN0AIe5OA9Wk3QKPps/iEbDdAQFjUcBRvN0DdxvToo3E3QHk1FWEzdDdAFaQ12cJ2N0CxElZRUnk3QE6BdsnhezdA6u+WQXF+N0CGXre5AIE3QCLN1zGQgzdAvzv4qR+GN0Bbqhgir4g3QPcYOZo+izdAk4dZEs6NN0Ax9nmKXZA3QMtkmgLtkjdAaNO6enyVN0AEQtvyC5g3QKGw+2qbmjdAPB8c4yqdN0DZjTxbup83QHb8XNNJojdAEmt9S9mkN0Cu2Z3DaKc3QEpIvjv4qTdA57bes4esN0CDJf8rF683QB+UH6SmsTdAvAJAHDa0N0BYcWCUxbY3QPTfgAxVuTdAj06hhOS7N0AtvcH8c743QMkr4nQDwTdAZZoC7ZLDN0ABCSNlIsY3QJ13Q92xyDdAOeZjVUHLN0DWVITN0M03QHLDpEVg0DdADzLFve/SN0CqoOU1f9U3QEcPBq4O2DdA430mJp7aN0CA7EaeLd03QBxbZxa93zdAuMmHjkziN0BVOKgG3OQ3QPGmyH5r5zdAjRXp9vrpN0AphAlviuw3QMbyKecZ7zdAYmFKX6nxN0D+z2rXOPQ3QJs+i0/I9jdAOK2rx1f5N0DTG8w/5/s3QG+K7Ld2/jdADPkMMAYBOECoZy2olQM4QETWTSAlBjhA4ERumLQIOEB9s44QRAs4QBkir4jTDThAtZDPAGMQOEBR/+948hI4QO5tEPGBFThAidwwaREYOEAmS1HhoBo4QMS5cVkwHThAXyiS0b8fOED7lrJJTyI4QJYF08HeJDhANHTzOW4nOEDQ4hOy/Sk4QGxRNCqNLDhACMBUohwvOECkLnUarDE4QECdlZI7NDhA3gu2Css2OEB6etaCWjk4QBbp9vrpOzhAsVcXc3k+OEBOxjfrCEE4QOw0WGOYQzhAh6N42ydGOEAjEplTt0g4QL+AuctGSzhAXO/ZQ9ZNOED4Xfq7ZVA4QJTMGjT1UjhAMjs7rIRVOEDNqVskFFg4QGkYfJyjWjhABYecFDNdOECj9byMwl84QD9k3QRSYjhA2tL9fOFkOEB2QR71cGc4QBOwPm0AajhArx5f5Y9sOEBLjX9dH284QOj7n9WucThAhGrATT50OEAg2eDFzXY4QLxHAT5deThAWbYhtux7OED1JEIufH44QJCTYqYLgThALQKDHpuDOEDLcKOWKoY4QGbfww66iDhAAk7khkmLOECevAT/2I04QDsrJXdokDhA15lF7/eSOEBzCGZnh5U4QBF3ht8WmDhArOWmV6aaOEBHVMfPNZ04QOTC50fFnzhAgjEIwFSiOEAdoCg45KQ4QLgOSbBzpzhAVX1pKAOqOEDy64mgkqw4QI5aqhgirzhAKcnKkLGxOEDHN+sIQbQ4QGOmC4HQtjhA/xQs+V+5OECbg0xx77s4QDnybOl+vjhA1GCNYQ7BOEBwz63ZncM4QAw+zlEtxjhAqqzuybzIOEBFGw9CTMs4QOGJL7rbzThAfvhPMmvQOEAaZ3Cq+tI4QLbVkCKK1ThAUkSxmhnYOEDvstESqdo4QIoh8oo43ThAJ5ASA8jfOEDD/jJ7V+I4QGBtU/Pm5DhA/Ntza3bnOECXSpTjBeo4QDW5tFuV7DhA0ifV0yTvOEBtlvVLtPE4QAkFFsRD9DhApnM2PNP2OEBC4la0Yvk4QN5Qdyzy+zhAer+XpIH+OEAYLrgcEQE5QLOc2JSgAzlATwv5DDAGOUDreRmFvwg5QInoOf1OCzlAJVdadd4NOUC/xXrtbRA5QF00m2X9EjlA+aK73YwVOUCVEdxVHBg5QDCA/M2rGjlAzu4cRjsdOUBqXT2+yh85QAbMXTZaIjlAozp+rukkOUBAqZ4meSc5QNsXv54IKjlAd4bfFpgsOUAU9f+OJy85QLFjIAe3MTlATNJAf0Y0OUDoQGH31TY5QIWvgW9lOTlAIR6i5/Q7OUC9jMJfhD45QFn74tcTQTlA9mkDUKNDOUCR2CPIMkY5QC1HREDCSDlAy7VkuFFLOUBnJIUw4U05QAOTpahwUDlAngHGIABTOUA8cOaYj1U5QNneBhEfWDlAdE0nia5aOUAQvEcBPl05QK0qaHnNXzlASZmI8VxiOUDlB6lp7GQ5QIJ2yeF7ZzlAH+XpWQtqOUC6UwrSmmw5QFbCKkoqbzlA8jBLwrlxOUCQn2s6SXQ5QCwOjLLYdjlAx3ysKmh5OUBk68yi93s5QABa7RqHfjlAnMgNkxaBOUA6Ny4LpoM5QNWlToM1hjlAcRRv+8SIOUANg49zVIs5QKrxr+vjjTlARmDQY3OQOUDizvDbApM5QH09EVSSlTlAG6wxzCGYOUC4GlJEsZo5QFOJcrxAnTlA8PeSNNCfOUCMZrOsX6I5QCjV0yTvpDlAxEP0nH6nOUBhshQVDqo5QP4gNY2drDlAmI9VBS2vOUA0/nV9vLE5QNJslvVLtDlAbtu2bdu2OUAKStflark5QKe49136uzlAQycY1om+OUDglThOGcE5QHsEWcaowzlAGHN5PjjGOUC04Zm2x8g5QFBQui5XyzlA7L7apubNOUCJLfsedtA5QCacG5cF0zlAwQo8D5XVOUBeeVyHJNg5QPnnfP+z2jlAl1add0PdOUAzxb3v0t85QM8z3mdi4jlAa6L+3/HkOUAHER9Ygec5QKN/P9AQ6jlAQe5fSKDsOUDcXIDAL+85QHjLoDi/8TlAFDrBsE70OUCxqOEo3vY5QE0XAqFt+TlA6YUiGf37OUCG9EKRjP45QCJjYwkcATpAv9GDgasDOkBaQKT5OgY6QPeuxHHKCDpAkx3l6VkLOkAvjAVi6Q06QMv6Jdp4EDpAaGlGUggTOkAF2GbKlxU6QKBGh0InGDpAPbWnurYaOkDZI8gyRh06QHaS6KrVHzpAEQEJI2UiOkCubymb9CQ6QEreSROEJzpA5kxqixMqOkCCu4oDoyw6QB8qq3syLzpAu5jL88ExOkBXB+xrUTQ6QPN1DOTgNjpAkOQsXHA5OkAtU03U/zs6QMjBbUyPPjpAZTCOxB5BOkABn648rkM6QJ4Nz7Q9RjpAOXzvLM1IOkDW6g+lXEs6QHJZMB3sTTpADshQlXtQOkCrNnENC1M6QEelkYWaVTpA4xOy/SlYOkB+gtJ1uVo6QBvx8u1IXTpAuF8TZthfOkBUzjPeZ2I6QPA8VFb3ZDpAjKt0zoZnOkApGpVGFmo6QMaItb6lbDpAYvfVNjVvOkD+ZfauxHE6QJrUFidUdDpANkM3n+N2OkDTsVcXc3k6QG8geI8CfDpADI+YB5J+OkCn/bh/IYE6QERs2fewgzpA39r5b0CGOkB9SRroz4g6QBm4OmBfizpAtSZb2O6NOkBRlXtQfpA6QO0DnMgNkzpAiXK8QJ2VOkAm4dy4LJg6QMJP/TC8mjpAXr4dqUudOkD6LD4h2586QJebXplqojpANAp/EfqkOkDQeJ+Jiac6QGznvwEZqjpACFbgeaisOkClxADyN686QEEzIWrHsTpA3aFB4la0OkB5EGJa5rY6QBV/gtJ1uTpAsu2iSgW8OkBOXMPClL46QOrK4zokwTpAhTkEs7PDOkAiqCQrQ8Y6QL8WRaPSyDpAW4VlG2LLOkD484WT8c06QJNipguB0DpAMNHGgxDTOkDNP+f7n9U6QGmuB3Qv2DpABR0o7L7aOkChi0hkTt06QD36aNzd3zpA2miJVG3iOkB216nM/OQ6QBNGykSM5zpAr7TqvBvqOkBLIws1q+w6QOaRK6067zpAhABMJcrxOkAgb2ydWfQ6QLzdjBXp9jpAWEytjXj5OkD0us0FCPw6QJAp7n2X/jpALpgO9iYBO0DJBi9utgM7QGZ1T+ZFBjtAAeRvXtUIO0CeUpDWZAs7QDrBsE70DTtA1y/RxoMQO0BznvE+ExM7QA8NEreiFTtArHsyLzIYO0BI6lKnwRo7QORYcx9RHTtAgMeTl+AfO0AdNrQPcCI7QLmk1If/JDtAVRP1/44nO0DygRV4Hio7QI/wNfCtLDtAKl9WaD0vO0DGzXbgzDE7QGI8l1hcNDtA/6q30Os2O0CbGdhIezk7QDeI+MAKPDtA1PYYOZo+O0BwZTmxKUE7QAzUWSm5QztAqEJ6oUhGO0BFsZoZ2Eg7QOAfu5FnSztAfY7bCfdNO0Aa/fuBhlA7QLZrHPoVUztAUto8cqVVO0DtSF3qNFg7QIu3fWLEWjtAJyae2lNdO0DDlL5S4187QF8D38pyYjtA+3H/QgJlO0CX4B+7kWc7QDVPQDMhajtA0L1gq7BsO0BtLIEjQG87QAiboZvPcTtApQnCE190O0BBeOKL7nY7QN7mAgR+eTtAelUjfA18O0AWxEP0nH47QLMyZGwsgTtAT6GE5LuDO0DrD6VcS4Y7QId+xdTaiDtAJO3lTGqLO0DAWwbF+Y07QFzKJj2JkDtA+ThHtRiTO0CWp2ctqJU7QDEWiKU3mDtAzYSoHceaO0Bq88iVVp07QAZi6Q3mnztAotAJhnWiO0A+Pyr+BKU7QNutSnaUpztAdxxr7iOqO0ATi4tms6w7QK/5q95CrztATGjMVtKxO0Dn1uzOYbQ7QIRFDUfxtjtAIrQtv4C5O0C9Ik43ELw7QFmRbq+fvjtA9f+OJy/BO0CSbq+fvsM7QC7dzxdOxjtAykvwj93IO0BmuhAIbcs7QAMpMYD8zTtAn5dR+IvQO0A7BnJwG9M7QNl0kuiq1TtAdOOyYDrYO0APUtPYydo7QKzA81BZ3TtASS8UyejfO0DlnTRBeOI7QIAMVbkH5TtAHXt1MZfnO0C66ZWpJuo7QFZYtiG27DtA8sbWmUXvO0CQNfcR1fE7QCukF4pk9DtAxxI4AvT2O0BjgVh6g/k7QAHwePIS/DtAnF6ZaqL+O0A4zbniMQE8QNM72lrBAzxAcar60lAGPEANGRtL4Ag8QKmHO8NvCzxARvZbO/8NPEDhZHyzjhA8QH7TnCseEzxAGkK9o60VPEC3sN0bPRg8QFMf/pPMGjxA7o0eDFwdPECL/D6E6x88QClrX/x6IjxAxNl/dAolPEBgSKDsmSc8QPy2wGQpKjxAmSXh3LgsPEA1lAFVSC88QNECIs3XMTxAb3FCRWc0PEAK4GK99jY8QKZOgzWGOTxAQr2jrRU8PEDgK8QlpT48QHya5J00QTxAFgkFFsRDPECzdyWOU0Y8QFDmRQbjSDxA7FRmfnJLPECHw4b2AU48QCUyp26RUDxAwaDH5iBTPEBdD+hesFU8QPl9CNc/WDxAl+woT89aPEAyW0nHXl08QM7JaT/uXzxAajiKt31iPEAIp6ovDWU8QKMVy6ecZzxAP4TrHyxqPEDc8guYu2w8QHhhLBBLbzxAFNBMiNpxPECwPm0AanQ8QE2tjXj5djxA6Buu8Ih5PECEis5oGHw8QCL57uCnfjxAvmcPWTeBPEBa1i/RxoM8QPVEUElWhjxAk7NwweWIPEAwIpE5dYs8QMuQsbEEjjxAZ//RKZSQPEAEbvKhI5M8QKDcEhqzlTxAPEszkkKYPEDYuVMK0po8QHYodIJhnTxAEZeU+vCfPECtBbVygKI8QEl01eoPpTxA5+L1Yp+nPECDURbbLqo8QB7ANlO+rDxAuy5Xy02vPEBXnXdD3bE8QPMLmLtstDxAj3q4M/y2PEAs6diri7k8QMhX+SMbvDxAZMYZnKq+PEABNToUOsE8QJ2jWozJwzxAORJ7BFnGPEDUgJt86Mg8QHLvu/R3yzxAD17cbAfOPECqzPzkltA8QEY7HV0m0zxA46k91bXVPEB/GF5NRdg8QBuHfsXU2jxAuPWePWTdPEBVZL+18988QO/S3y2D4jxAi0EAphLlPEApsCAeouc8QMUeQZYx6jxAYY1hDsHsPED8+4GGUO88QJpqov7f8TxAN9nCdm/0PEDSR+Pu/vY8QG62A2eO+TxACyUk3x38PECnk0RXrf48QEMCZc88AT1A4HCFR8wDPUB936W/WwY9QBhOxjfrCD1AtLzmr3oLPUBRKwcoCg49QO6ZJ6CZED1AighIGCkTPUAld2iQuBU9QMLliAhIGD1AXlSpgNcaPUD6wsn4Zh09QJgx6nD2Hz1AM6AK6YUiPUDPDithFSU9QGt9S9mkJz1ACOxrUTQqPUCkWozJwyw9QEDJrEFTLz1A2zfNueIxPUB5pu0xcjQ9QBYVDqoBNz1AsYMuIpE5PUBO8k6aIDw9QOpgbxKwPj1Ahs+Pij9BPUAiPrACz0M9QL+s0HpeRj1AXBvx8u1IPUD3iRFrfUs9QJL4MeMMTj1AL2dSW5xQPUDN1XLTK1M9QGhEk0u7VT1ABbOzw0pYPUChIdQ72lo9QD2Q9LNpXT1A2f4ULPlfPUB2bTWkiGI9QBLcVRwYZT1Arkp2lKdnPUBKuZYMN2o9QOcnt4TGbD1AhJbX/FVvPUAfBfh05XE9QLxzGO10dD1AWOI4ZQR3PUD1UFndk3k9QJC/eVUjfD1ALS6azbJ+PUDJnLpFQoE9QGUL273Rgz1AAXr7NWGGPUCe6Buu8Ig9QDpXPCaAiz1A1cVcng+OPUByNH0Wn5A9QA+jnY4ukz1AqxG+Br6VPUBHgN5+TZg9QOPu/vbcmj1AgF0fb2ydPUAdzD/n+589QLg6YF+Loj1AVamA1xqlPUDxF6FPqqc9QI2Gwcc5qj1AKfXhP8msPUDGYwK4WK89QGPSIjDosT1A/kBDqHe0PUCbr2MgB7c9QDYehJiWuT1A1IykECa8PUBw+8SItb49QAxq5QBFwT1AqNgFedTDPUBERybxY8Y9QOC1RmnzyD1AfSRn4YLLPUAZk4dZEs49QLUBqNGh0D1AUXDISTHTPUDu3ujBwNU9QItNCTpQ2D1AJrwpst/aPUDDKkoqb909QF+ZaqL+3z1A/AeLGo7iPUCXdquSHeU9QDTlywqt5z1A0FPsgjzqPUBswgz7y+w9QAkxLXNb7z1ApZ9N6+rxPUBBDm5jevQ9QNx8jtsJ9z1AeuuuU5n5PUAWWs/LKPw9QLLI70O4/j1ATjcQvEcBPkDrpTA01wM+QIcUUaxmBj5AJINxJPYIPkDA8ZGchQs+QFxgshQVDj5A+M7SjKQQPkCUPfMENBM+QDCsE33DFT5AzRo09VIYPkBqiVRt4ho+QAX4dOVxHT5AomaVXQEgPkA91bXVkCI+QNtD1k0gJT5Ad7L2xa8nPkATIRc+Pyo+QK+PN7bOLD5AS/5XLl4vPkDnbHim7TE+QIXbmB59ND5AIEq5lgw3PkC8uNkOnDk+QFgn+oYrPD5A9ZUa/7o+PkCRBDt3SkE+QC5zW+/ZQz5AyuF7Z2lGPkBmUJzf+Eg+QAO/vFeISz5Any3dzxdOPkA7nP1Hp1A+QNcKHsA2Uz5Ac3k+OMZVPkAQ6F6wVVg+QKxWfyjlWj5AScWfoHRdPkDjM8AYBGA+QIGi4JCTYj5AHREBCSNlPkC5fyGBsmc+QFbuQflBaj5A8lxicdFsPkCOy4LpYG8+QCs6o2HwcT5Ax6jD2X90PkBjF+RRD3c+QP+FBMqeeT5Am/QkQi58PkA3Y0W6vX4+QNTRZTJNgT5AcUCGqtyDPkANr6YibIY+QKkdx5r7iD5ARYznEouLPkDi+geLGo4+QH5pKAOqkD5AGthIezmTPkC2RmnzyJU+QFK1iWtYmD5A7iOq4+eaPkCMkspbd50+QCcB69MGoD5AxG8LTJaiPkBf3ivEJaU+QPxMTDy1pz5AmLtstESqPkA1Ko0s1Kw+QNGYraRjrz5AbQfOHPOxPkAKdu6UgrQ+QKbkDg0Stz5AQlMvhaG5PkDewU/9MLw+QHswcHXAvj5AF5+Q7U/BPkCzDbFl38M+QFB80d1uxj5A7OrxVf7IPkCIWRLOjcs+QCPIMkYdzj5AwTZTvqzQPkBdpXM2PNM+QPkTlK7L1T5AlYK0JlvYPkAx8dSe6to+QM5f9RZ63T5Aas4VjwngPkAGPTYHmeI+QKOrVn8o5T5APhp397fnPkDbiJdvR+o+QHj3t+fW7D5AFGbYX2bvPkCw1PjX9fE+QExDGVCF9D5A6bE5yBT3PkCFIFpApPk+QCGPergz/D5Avf2aMMP+PkBabLuoUgE/QPba2yDiAz9Akkn8mHEGP0AuuBwRAQk/QMsmPYmQCz9AZpVdASAOP0ADBH55rxA/QKBynvE+Ez9APOG+ac4VP0DXT9/hXRg/QHS+/1ntGj9AES0g0nwdP0Ctm0BKDCA/QEkKYcKbIj9A5XiBOislP0CC56Gyuic/QB5WwipKKj9AusTiotksP0BXMwMbaS8/QPOhI5P4MT9AjxBEC4g0P0Aqf2SDFzc/QMjthPumOT9AZFylczY8P0AAy8XrxT4/QJw55mNVQT9AOKgG3ORDP0DUFidUdEY/QHGFR8wDST9ADfRnRJNLP0CqYoi8Ik4/QEXRqDSyUD9A4j/JrEFTP0CArukk0VU/QBsdCp1gWD9At4sqFfBaP0BT+kqNf10/QPBoawUPYD9AjNeLfZ5iP0AoRqz1LWU/QMS0zG29Zz9AYSPt5UxqP0D9kQ1e3Gw/QJkALtZrbz9AN29OTvtxP0DT3W7GinQ/QG5Mjz4adz9ACruvtql5P0CnKdAuOXw/QEOY8KbIfj9A3gYRH1iBP0B7dTGX54M/QBjkUQ93hj9AtFJyhwaJP0BQwZL/lYs/QO0vs3cljj9AiZ7T77SQP0AkDfRnRJM/QMF7FODTlT9AX+o0WGOYP0D6WFXQ8po/QJbHdUiCnT9AMTaWwBGgP0DPpLY4oaI/QGsT17AwpT9AB4L3KMCnP0Cl8BehT6o/QD9fOBnfrD9A281YkW6vP0B5PHkJ/rE/QBWrmYGNtD9AsRm6+Ry3P0BMiNpxrLk/QOn2+uk7vD9Ah2UbYsu+P0Ai1DvaWsE/QL5CXFLqwz9AW7F8ynnGP0D3H51CCck/QJOOvbqYyz9AL/3dMijOP0DNa/6qt9A/QGjaHiNH0z9ABEk/m9bVP0Cgt18TZtg/QD4mgIv12j9A2pSgA4XdP0B1A8F7FOA/QBFy4fOj4j9AruABbDPlP0BKTyLkwuc/QOa9QlxS6j9Agyxj1OHsP0Afm4NMce8/QLsJpMQA8j9AV3jEPJD0P0D05uS0H/c/QJBVBS2v+T9AK8QlpT78P0DIMkYdzv4/QLJQs8quAEBAAYjDhvYBQEBPv9NCPgNAQJ324/6FBEBA6y30us0FQEA5ZQR3FQdAQIecFDNdCEBA1dMk76QJQEAjCzWr7ApAQHJCRWc0DEBAwHlVI3wNQEAOsWXfww5AQFzodZsLEEBAqh+GV1MRQED4VpYTmxJAQEaOps/iE0BAlcW2iyoVQEDj/MZHchZAQDE01wO6F0BAf2vnvwEZQEDNovd7SRpAQBvaBziRG0BAaREY9NgcQEC3SCiwIB5AQAaAOGxoH0BAVLdIKLAgQECj7ljk9yFAQPAlaaA/I0BAPl15XIckQECMlIkYzyVAQNvLmdQWJ0BAKQOqkF4oQEB3OrpMpilAQMVxygjuKkBAE6naxDUsQEBh4OqAfS1AQK8X+zzFLkBA/U4L+QwwQEBMhhu1VDFAQJq9K3GcMkBA6PQ7LeQzQEA2LEzpKzVAQIRjXKVzNkBA0ppsYbs3QEAg0nwdAzlAQG4JjdlKOkBAvUCdlZI7QEALeK1R2jxAQFmvvQ0iPkBAp+bNyWk/QED1Hd6FsUBAQENV7kH5QUBAkYz+/UBDQEDgww66iERAQC77HnbQRUBAfDIvMhhHQEDKaT/uX0hAQBihT6qnSUBAZthfZu9KQEC0D3AiN0xAQANHgN5+TUBAUX6QmsZOQECftaBWDlBAQO3ssBJWUUBAOyTBzp1SQECJW9GK5VNAQNeS4UYtVUBAJcrxAnVWQEB0AQK/vFdAQMI4EnsEWUBAEHAiN0xaQEBepzLzk1tAQKzeQq/bXEBA+hVTayNeQEBITWMna19AQJeEc+OyYEBA5buDn/phQEAz85NbQmNAQIEqpBeKZEBAz2G009FlQEAdmcSPGWdAQGvQ1EthaEBAugflB6lpQEAIP/XD8GpAQFZ2BYA4bEBApK0VPIBtQEDy5CX4x25AQEAcNrQPcEBAjlNGcFdxQEDcilYsn3JAQCvCZujmc0BAefl2pC51QEDHMIdgdnZAQBZolxy+d0BAY5+n2AV5QECx1reUTXpAQP8NyFCVe0BATkXYDN18QECcfOjIJH5AQOqz+IRsf0BAOOsIQbSAQECGIhn9+4FAQNRZKblDg0BAIpE5dYuEQEBwyEkx04VAQL//We0ah0BADTdqqWKIQEBbbnplqolAQKmliiHyikBA99ya3TmMQEBFFKuZgY1AQJNLu1XJjkBA4oLLERGQQEAwutvNWJFAQH7x64mgkkBAzCj8ReiTQEAaYAwCMJVAQGiXHL53lkBAts4ser+XQEAFBj02B5lAQFM9TfJOmkBAoXRdrpabQEDvq21q3pxAQD3jfSYmnkBAixqO4m2fQEDZUZ6etaBAQCeJrlr9oUBAdsC+FkWjQEDE987SjKRAQBIv347UpUBAYGbvShynQECunf8GZKhAQPzUD8OrqUBASgwgf/OqQECZQzA7O6xAQOd6QPeCrUBANbJQs8quQECD6WBvErBAQNEgcStasUBAH1iB56GyQEBtj5Gj6bNAQLzGoV8xtUBACv6xG3m2QEBYNcLXwLdAQKZs0pMIuUBA9KPiT1C6QEBC2/ILmLtAQJASA8jfvEBA3kkThCe+QEAtgSNAb79AQHu4M/y2wEBAye9DuP7BQEAXJ1R0RsNAQGVeZDCOxEBAs5V07NXFQEABzYSoHcdAQFEElWRlyEBAnjulIK3JQEDscrXc9MpAQDqqxZg8zEBAiOHVVITNQEDWGOYQzM5AQCRQ9swT0EBAc4cGiVvRQEDBvhZFo9JAQA/2JgHr00BAXS03vTLVQECrZEd5etZAQPmbVzXC10BAR9Nn8QnZQECVCnitUdpAQORBiGmZ20BAMnmYJeHcQECAsKjhKN5AQM7nuJ1w30BAHR/JWbjgQEBqVtkVAOJAQLiN6dFH40BAB8X5jY/kQEBV/AlK1+VAQKMzGgYf50BA8WoqwmboQEA/ojp+rulAQI3ZSjr26kBA2xBb9j3sQEApSGuyhe1AQHh/e27N7kBAxraLKhXwQEAU7pvmXPFAQGIlrKKk8kBAsFy8XuzzQED+k8waNPVAQEzL3NZ79kBAmwLtksP3QEDpOf1OC/lAQDdxDQtT+kBAhagdx5r7QEDT3y2D4vxAQCEXPj8q/kBAb05O+3H/QEC+hV63uQBBQAy9bnMBAkFAWvR+L0kDQUCoK4/rkARBQPZin6fYBUFARJqvYyAHQUCS0b8faAhBQOAI0NuvCUFAL0Dgl/cKQUB9d/BTPwxBQMuuABCHDUFAGeYQzM4OQUBnHSGIFhBBQLVUMUReEUFAA4xBAKYSQUBSw1G87RNBQKD6YXg1FUFA7jFyNH0WQUA8aYLwxBdBQIqgkqwMGUFA2NeiaFQaQUAmD7MknBtBQHVGw+DjHEFAxH3TnCseQUARteNYcx9BQF/s8xS7IEFArSME0QIiQUD7WhSNSiNBQEmSJEmSJEFAl8k0BdolQUDmAEXBISdBQDQ4VX1pKEFAgm9lObEpQUDQpnX1+CpBQB7ehbFALEFAbBWWbYgtQUC6TKYp0C5BQAmEtuUXMEFAV7vGoV8xQUCl8tZdpzJBQPMp5xnvM0FAQWH31TY1QUCQmAeSfjZBQN3PF07GN0FAKwcoCg45QUB6PjjGVTpBQMh1SIKdO0FAFq1YPuU8QUBk5Gj6LD5BQLIbebZ0P0FAAFOJcrxAQUBOipkuBEJBQJ3BqepLQ0FA6/i5ppNEQUA5MMpi20VBQIdn2h4jR0FA1Z7q2mpIQUAj1vqWsklBQHENC1P6SkFAwEQbD0JMQUAOfCvLiU1BQFyzO4fRTkFAqupLQxlQQUD4IVz/YFFBQEZZbLuoUkFAlJB8d/BTQUDix4wzOFVBQDH/nO9/VkFAfzatq8dXQUDNbb1nD1lBQBulzSNXWkFAadzd355bQUC3E+6b5lxBQAVL/lcuXkFAVIIOFHZfQUCiuR7QvWBBQPDwLowFYkFAPig/SE1jQUCMX08ElWRBQNqWX8DcZUFAKM5vfCRnQUB3BYA4bGhBQMU8kPSzaUFAE3SgsPtqQUBhq7BsQ2xBQK/iwCiLbUFA/RnR5NJuQUBLUeGgGnBBQJmI8VxicUFA6L8BGapyQUA29xHV8XNBQIQuIpE5dUFA0mUyTYF2QUAgnUIJyXdBQG7UUsUQeUFAvAtjgVh6QUALQ3M9oHtBQFl6g/nnfEFAp7GTtS9+QUD16KNxd39BQEMgtC2/gEFAkVfE6QaCQUDfjtSlToNBQC7G5GGWhEFAfP30Hd6FQUDLNAXaJYdBQBhsFZZtiEFAZqMlUrWJQUC02jUO/YpBQAISRspEjEFAUElWhoyNQUCfgGZC1I5BQO23dv4bkEFAO++GumORQUCJJpd2q5JBQNddpzLzk0FAJZW37jqVQUBzzMeqgpZBQMID2GbKl0FAEDvoIhKZQUBecvjeWZpBQKypCJuhm0FA+uAYV+mcQUBIGCkTMZ5BQJdPOc94n0FA5IZJi8CgQUAzvllHCKJBQIH1aQNQo0FAzyx6v5ekQUAdZIp736VBQGubmjcnp0FAudKq826oQUAHCruvtqlBQFZBy2v+qkFApHjbJ0asQUDyr+vjja1BQEDn+5/VrkFAjh4MXB2wQUDcVRwYZbFBQCqNLNSsskFAecQ8kPSzQUDH+0xMPLVBQBUzXQiEtkFAY2ptxMu3QUCxoX2AE7lBQP/YjTxbukFATRCe+KK7QUCbR6606rxBQOp+vnAyvkFAOLbOLHq/QUCG7d7owcBBQNQk76QJwkFAIlz/YFHDQUBwkw8dmcRBQL7KH9ngxUFADQIwlSjHQUBbOUBRcMhBQKlwUA24yUFA96dgyf/KQUBF33CFR8xBQJMWgUGPzUFA4U2R/dbOQUAwhaG5HtBBQH68sXVm0UFAzPPBMa7SQUAaK9Lt9dNBQGhi4qk91UFAtpnyZYXWQUAE0QIizddBQFIIE94U2UFAoT8jmlzaQUDvdjNWpNtBQD6uQxLs3EFAi+VTzjPeQUDZHGSKe99BQCdUdEbD4EFAdYuEAgviQUDEwpS+UuNBQBL6pHqa5EFAYDG1NuLlQUCuaMXyKedBQPyf1a5x6EFAStflarnpQUCYDvYmAetBQOZFBuNI7EFANX0Wn5DtQUCDtCZb2O5BQNHrNhcg8EFAHyNH02fxQUBtWlePr/JBQLuRZ0v380FACsl3Bz/1QUBYAIjDhvZBQKY3mH/O90FA9G6oOxb5QUBCprj3XfpBQJDdyLOl+0FA3hTZb+38QUAsTOkrNf5BQHuD+ed8/0FAyboJpMQAQkAX8hlgDAJCQGUpKhxUA0JAs2A62JsEQkABmEqU4wVCQE/PWlArB0JAnQZrDHMIQkDrPXvIuglCQDp1i4QCC0JAiKybQEoMQkDW46v8kQ1CQCQbvLjZDkJAclLMdCEQQkDAidwwaRFCQA/B7OywEkJAXfj8qPgTQkCrLw1lQBVCQPlmHSGIFkJAR54t3c8XQkCV1T2ZFxlCQOMMTlVfGkJAMkReEacbQkCAe27N7hxCQM6yfok2HkJAHeqORX4fQkBpIZ8BxiBCQLhYr70NIkJABZC/eVUjQkBUx881nSRCQKP+3/HkJUJA8TXwrSwnQkA/bQBqdChCQI2kECa8KUJA29sg4gMrQkApEzGeSyxCQHdKQVqTLUJAxoFRFtsuQkAUuWHSIjBCQGPwcY5qMUJAsSeCSrIyQkD+XpIG+jNCQEyWosJBNUJAms2yfok2QkDpBMM60TdCQDc80/YYOUJAhXPjsmA6QkDTqvNuqDtCQCHiAyvwPEJAbxkU5zc+QkC9UCSjfz9CQAuINF/HQEJAWr9EGw9CQkCo9lTXVkNCQPctZZOeREJARWV1T+ZFQkCSnIULLkdCQODTlcd1SEJALgumg71JQkB9QrY/BUtCQMt5xvtMTEJAGbHWt5RNQkBn6OZz3E5CQLUf9y8kUEJAA1cH7GtRQkBRjheos1JCQJ/FJ2T7U0JA7vw3IENVQkA8NEjcilZCQIprWJjSV0JA2KJoVBpZQkAm2ngQYlpCQHQRicypW0JAwkiZiPFcQkARgKlEOV5CQF+3uQCBX0JAre7JvMhgQkD7Jdp4EGJCQEld6jRYY0JAl5T68J9kQkDlywqt52VCQDQDG2kvZ0JAgjorJXdoQkDQcTvhvmlCQB6pS50Ga0JAbOBbWU5sQkC6F2wVlm1CQAhPfNHdbkJAVoaMjSVwQkCmvZxJbXFCQPL0rAW1ckJAQSy9wfxzQkCQY819RHVCQNya3TmMdkJAK9Lt9dN3QkB5Cf6xG3lCQMhADm5jekJAFngeKqt7QkBkry7m8nxCQLLmPqI6fkJAAB5PXoJ/QkBOVV8ayoBCQJyMb9YRgkJA7MN/klmDQkA5+49OoYRCQIcyoArphUJA1mmwxjCHQkAkocCCeIhCQHHY0D7AiUJAvw/h+geLQkAMR/G2T4xCQFx+AXOXjUJAqrURL9+OQkD47CHrJpBCQEYkMqdukUJAlFtCY7aSQkDiklIf/pNCQDDKYttFlUJAfwFzl42WQkDNOINT1ZdCQBtwkw8dmUJAaqejy2SaQkC43rOHrJtCQAUWxEP0nEJAU03U/zueQkCihOS7g59CQPC79HfLoEJAPvMENBOiQkCMKhXwWqNCQNphJayipEJAKJk1aOqlQkB20EUkMqdCQMQHVuB5qEJAEz9mnMGpQkBhdnZYCatCQK+thhRRrEJA/eSW0JitQkBLHKeM4K5CQJlTt0gosEJA54rHBHCxQkA2wtfAt7JCQIT553z/s0JA0jD4OEe1QkAgaAj1jrZCQG6fGLHWt0JAvNYobR65QkAKDjkpZrpCQFhFSeWtu0JAp3xZofW8QkD1s2ldPb5CQEPreRmFv0JAkSKK1czAQkDfWZqRFMJCQC2Rqk1cw0JAe8i6CaTEQkDK/8rF68VCQBk324Ezx0JAZW7rPXvIQkC0pfv5wslCQALdC7YKy0JAUBQcclLMQkCeSywums1CQO2CPOrhzkJAO7pMpinQQkCJ8VxicdFCQNcobR650kJAJWB92gDUQkBzl42WSNVCQMHOnVKQ1kJADwauDtjXQkBfPb7KH9lCQKx0zoZn2kJA+qveQq/bQkBI4+7+9txCQJca/7o+3kJA41EPd4bfQkAyiR8zzuBCQIHAL+8V4kJAz/c/q13jQkAdL1BnpeRCQGtmYCPt5UJAuZ1w3zTnQkAH1YCbfOhCQFUMkVfE6UJApEOhEwzrQkDzerHPU+xCQECywYub7UJAjunRR+PuQkDdIOIDK/BCQCtY8r9y8UJAeI8CfLryQkDGxhI4AvRCQBX+IvRJ9UJAYzUzsJH2QkCxbENs2fdCQP+jUygh+UJATdtj5Gj6QkCbEnSgsPtCQOlJhFz4/EJAOIGUGED+QkCGuKTUh/9CQNTvtJDPAENAIifFTBcCQ0BxXtUIXwNDQL+V5cSmBENADM31gO4FQ0BaBAY9NgdDQKk7Fvl9CENA93ImtcUJQ0BFqjZxDQtDQJPhRi1VDENA4RhX6ZwNQ0AvUGel5A5DQH2Hd2EsEENAzL6HHXQRQ0Aa9pfZuxJDQGgtqJUDFENAtmS4UUsVQ0AEnMgNkxZDQFLT2MnaF0NAoArphSIZQ0DuQflBahpDQD15Cf6xG0NAi7AZuvkcQ0DZ5yl2QR5DQCcfOjKJH0NAdVZK7tAgQ0DDjVqqGCJDQBHFamZgI0NAYPx6IqgkQ0CuM4ve7yVDQPxqm5o3J0NASqKrVn8oQ0CY2bsSxylDQOYQzM4OK0NANEjcilYsQ0CDf+xGni1DQNK2/ALmLkNAIO4Mvy0wQ0BsJR17dTFDQLtcLTe9MkNACpQ98wQ0Q0BXy02vTDVDQKYCXmuUNkNA9DluJ9w3Q0BCcX7jIzlDQJCojp9rOkNA3t+eW7M7Q0AsF68X+zxDQHpOv9NCPkNAyIXPj4o/Q0AXvd9L0kBDQGb07wcaQkNAsysAxGFDQ0ABYxCAqURDQFCaIDzxRUNAntEw+DhHQ0DrCEG0gEhDQDpAUXDISUNAiHdhLBBLQ0DWrnHoV0xDQCTmgaSfTUNAch2SYOdOQ0DAVKIcL1BDQA6Msth2UUNAXcPClL5SQ0Cr+tJQBlRDQPkx4wxOVUNAR2nzyJVWQ0CVoAOF3VdDQOTXE0ElWUNAMg8k/WxaQ0B/RjS5tFtDQM59RHX8XENAHLVUMUReQ0Bq7GTti19DQLgjdanTYENABluFZRtiQ0BUkpUhY2NDQKLJpd2qZENA8QC2mfJlQ0A/OMZVOmdDQI1v1hGCaENA26bmzclpQ0Ap3vaJEWtDQHcVB0ZZbENAxUwXAqFtQ0AThCe+6G5DQGK7N3owcENAsPJHNnhxQ0D+KVjyv3JDQExhaK4HdENAmph4ak91Q0Doz4gml3ZDQDYHmeLed0NAhT6pniZ5Q0DTdblabnpDQCGtyRa2e0NAb+TZ0v18Q0C9G+qORX5DQAtT+kqNf0NAWYoKB9WAQ0CowRrDHIJDQPX4Kn9kg0NARDA7O6yEQ0CTZ0v384VDQN+eW7M7h0NALtZrb4OIQ0B8DXwry4lDQMpEjOcSi0NAGXyco1qMQ0Bns6xfoo1DQLXqvBvqjkNAAyLN1zGQQ0BRWd2TeZFDQJ+Q7U/BkkNA7cf9CwmUQ0A8/w3IUJVDQIo2HoSYlkNA2W0uQOCXQ0AmpT78J5lDQHTcTrhvmkNAwhNfdLebQ0ARS28w/5xDQF+Cf+xGnkNArbmPqI6fQ0D78J9k1qBDQEkosCAeokNAl1/A3GWjQ0DlltCYraRDQDPO4FT1pUNAgQXxED2nQ0DQPAHNhKhDQB50EYnMqUNAbashRRSrQ0C64jEBXKxDQAgaQr2jrUNAV1FSeeuuQ0CliGI1M7BDQPO/cvF6sUNAQfeCrcKyQ0CPLpNpCrRDQN1loyVStUNAK52z4Zm2Q0B51MOd4bdDQMcL1FkpuUNAFkPkFXG6Q0BkevTRuLtDQLKxBI4AvUNAAOkUSki+Q0BOICUGkL9DQJxXNcLXwENA645Ffh/CQ0A5xlU6Z8NDQIf9ZfauxENA1TR2svbFQ0AjbIZuPsdDQHGjliqGyENAv9qm5s3JQ0ANEreiFctDQFtJx15dzENAqoDXGqXNQ0D4t+fW7M5DQEbv95I00ENAlCYIT3zRQ0DiXRgLxNJDQDCVKMcL1ENAfsw4g1PVQ0DMA0k/m9ZDQBs7Wfvi10NAaHJptyrZQ0C3qXlzctpDQAXhiS+620NAUxia6wHdQ0ChT6qnSd5DQO+GumOR30NAPr7KH9ngQ0CM9drbIOJDQNos65do40NAKGT7U7DkQ0B2mwsQ+OVDQMTSG8w/50NAEgosiIfoQ0BhQTxEz+lDQK94TAAX60NA/a9cvF7sQ0BM52x4pu1DQJoefTTu7kNA5lWN8DXwQ0A1jZ2sffFDQITErWjF8kNA0vu9JA30Q0AgM87gVPVDQG5q3pyc9kNAvKHuWOT3Q0AK2f4ULPlDQFgQD9Fz+kNApkcfjbv7Q0D1fi9JA/1DQEO2PwVL/kNAke1PwZL/Q0DgJGB92gBEQC1ccDkiAkRAe5OA9WkDREDKypCxsQREQBgCoW35BURAZjmxKUEHREC0cMHliAhEQAKo0aHQCURAUN/hXRgLRECeFvIZYAxEQOxNAtanDURAOoUSku8ORECJvCJONxBEQNfzMgp/EURAJStDxsYSREBzYlOCDhREQMGZYz5WFURAD9Fz+p0WREBeCIS25RdEQKw/lHItGURA+nakLnUaREBIrrTqvBtEQJblxKYEHURA5BzVYkweREAyVOUelB9EQICL9drbIERAzsIFlyMiREAd+hVTayNEQGsxJg+zJERAuWg2y/olREAHoEaHQidEQFXXVkOKKERAow5n/9EpREDxRXe7GStEQD99h3dhLERAjrSXM6ktREDc66fv8C5EQCojuKs4MERAeFrIZ4AxREDGkdgjyDJEQBTJ6N8PNERAYwD5m1c1RECxNwlYnzZEQP9uGRTnN0RATaYp0C45RECb3TmMdjpEQOkUSki+O0RAN0xaBAY9RECFg2rATT5EQNS6enyVP0RAIvKKON1AREBvKZv0JEJEQL5gq7BsQ0RADZi7bLREREBZz8so/EVEQKgG3ORDR0RA9z3soItIREBFdfxc00lEQJOsDBkbS0RA4eMc1WJMREAvGy2Rqk1EQH1SPU3yTkRAy4lNCTpQREAbwV3FgVFEQGj4bYHJUkRAti9+PRFUREAEZ475WFVEQFOenrWgVkRAoNWucehXREDuDL8tMFlEQDxEz+l3WkRAi3vfpb9bREDZsu9hB11EQCfq/x1PXkRAdSEQ2pZfREDDWCCW3mBEQBGQMFImYkRAX8dADm5jRECu/lDKtWREQPw1YYb9ZURASm1xQkVnRECYpIH+jGhEQOfbkbrUaURANBOidhxrRECCSrIyZGxEQNGBwu6rbURAH7nSqvNuREBt8OJmO3BEQLsn8yKDcURACV8D38pyREBXlhObEnREQKXNI1dadURA8wQ0E6J2REBCPETP6XdEQJBzVIsxeURA3qpkR3l6REAs4nQDwXtEQHoZhb8IfURAyFCVe1B+REAWiKU3mH9EQGW/tfPfgERAs/bFryeCREABLtZrb4NEQE9l5ie3hERAnZz24/6FREDr0wagRodEQDkLF1yOiERAh0InGNaJREDWeTfUHYtEQCSxR5BljERAcuhXTK2NREDAH2gI9Y5EQA5XeMQ8kERAXI6IgISRRECqxZg8zJJEQPr8qPgTlERARjS5tFuVRECVa8lwo5ZEQOKi2Szrl0RAMdrp6DKZREB/EfqkeppEQM1ICmHCm0RAHIAaHQqdREBqtyrZUZ5EQLjuOpWZn0RABiZLUeGgREBUXVsNKaJEQKKUa8lwo0RA8Mt7hbikREA+A4xBAKZEQI46nP1Hp0RA23GsuY+oREApqbx116lEQHfgzDEfq0RAxhfd7WasREAUT+2prq1EQGCG/WX2rkRAsL0NIj6wRED+9B3ehbFEQEwsLprNskRAmmM+VhW0REDomk4SXbVEQDbSXs6ktkRAhAlviuy3REDTQH9GNLlEQCJ4jwJ8ukRAb6+fvsO7REC95q96C71EQAsewDZTvkRAWlXQ8pq/RECnjOCu4sBEQPXD8GoqwkRARPsAJ3LDRECSMhHjucREQOBpIZ8BxkRALqExW0nHREB82EEXkchEQMoPUtPYyURAGEdijyDLREBnfnJLaMxEQLW1ggewzURAA+2Sw/fOREBRJKN/P9BEQJ9bszuH0URA7ZLD987SREA7ytOzFtREQIoB5G9e1URA2Dj0K6bWREAmcATo7ddEQHSnFKQ12URAwt4kYH3aREAQFjUcxdtEQF5NRdgM3URArIRVlFTeRED7u2VQnN9EQEnzdQzk4ERAlyqGyCviREDlYZaEc+NEQDOZpkC75ERAgdC2/ALmREDPB8e4SudEQB4/13SS6ERAbXbnMNrpREC5rffsIetEQAjlB6lp7ERAVhwYZbHtRECkUygh+e5EQPKKON1A8ERAQMJImYjxRECP+VhV0PJEQN0waREY9ERAK2h5zV/1REB5n4mJp/ZEQMfWmUXv90RAFQ6qATf5REBjRbq9fvpEQLN8ynnG+0RAAbTaNQ79REBO6+rxVf5EQJwi+62d/0RA6VkLauUARUA4kRsmLQJFQIfIK+J0A0VA1f87nrwERUAjN0xaBAZFQHFuXBZMB0VAv6Vs0pMIRUAN3XyO2wlFQFsUjUojC0VAqUudBmsMRUD3gq3Csg1FQEe6vX76DkVAlfHNOkIQRUDiKN72iRFFQDBg7rLREkVAfpf+bhkURUDNzg4rYRVFQBoGH+eoFkVAaT0vo/AXRUC3dD9fOBlFQAWsTxuAGkVAU+Nf18cbRUChGnCTDx1FQO9RgE9XHkVAPYmQC58fRUCMwKDH5iBFQNr3sIMuIkVAKC/BP3YjRUB2ZtH7vSRFQMSd4bcFJkVAEtXxc00nRUBhDAIwlShFQK5DEuzcKUVA/XoiqCQrRUBLsjJkbCxFQJnpQiC0LUVA5yBT3PsuRUA1WGOYQzBFQIOPc1SLMUVA0caDENMyRUAg/pPMGjRFQG41pIhiNUVAvGy0RKo2RUAKpMQA8jdFQFjb1Lw5OUVAphLleIE6RUD0SfU0yTtFQEKBBfEQPUVAkbgVrVg+RUDf7yVpoD9FQC0nNiXoQEVAe15G4S9CRUDJlVadd0NFQBfNZlm/REVAZQR3FQdGRUC0O4fRTkdFQAJzl42WSEVAUKqnSd5JRUCe4bcFJktFQOwYyMFtTEVAOlDYfbVNRUCIh+g5/U5FQNe++PVEUEVAJvYIsoxRRUB0LRlu1FJFQMBkKSocVEVAD5w55mNVRUBc00miq1ZFQKsKWl7zV0VA+UFqGjtZRUBIeXrWglpFQJawipLKW0VA5OeaThJdRUAyH6sKWl5FQIBWu8ahX0VAzo3LgulgRUAcxds+MWJFQGv86/p4Y0VAujP8tsBkRUAIawxzCGZFQFWiHC9QZ0VAo9ks65doRUDxED2n32lFQEBITWMna0VAjn9dH29sRUDctm3btm1FQCrufZf+bkVAeCWOU0ZwRUDGXJ4PjnFFQBSUrsvVckVAYsu+hx10RUCwAs9DZXVFQP853/+sdkVATXHvu/R3RUCcqP93PHlFQOnfDzSEekVANxcg8Mt7RUCFTjCsE31FQNSFQGhbfkVAIr1QJKN/RUBw9GDg6oBFQL4rcZwygkVADGOBWHqDRUBampEUwoRFQKjRodAJhkVA9giyjFGHRUBFQMJImYhFQJN30gThiUVA4a7iwCiLRUAv5vJ8cIxFQH0dAzm4jUVAy1QT9f+ORUAZjCOxR5BFQGfDM22PkUVAtvpDKdeSRUAEMlTlHpRFQFJpZKFmlUVAoKB0Xa6WRUDu14QZ9pdFQDwPldU9mUVAikalkYWaRUDZfbVNzZtFQCe1xQkVnUVAdezVxVyeRUDDI+aBpJ9FQBFb9j3soEVAX5IG+jOiRUCtyRa2e6NFQPsAJ3LDpEVASTg3LgumRUCYb0fqUqdFQOemV6aaqEVAM95nYuKpRUCCFXgeKqtFQNBMiNpxrEVAHoSYlrmtRUBtu6hSAa9FQLvyuA5JsEVACSrJypCxRUBXYdmG2LJFQKWY6UIgtEVA88/5/me1RUBBBwq7r7ZFQJA+Gnf3t0VA3nUqMz+5RUAtrTrvhrpFQHvkSqvOu0VAyBtbZxa9RUAWU2sjXr5FQGOKe9+lv0VAssGLm+3ARUAB+ZtXNcJFQE8wrBN9w0VAnWe8z8TERUDrnsyLDMZFQDnW3EdUx0VAhw3tA5zIRUDVRP2/48lFQCR8DXwry0VAcrMdOHPMRUDB6i30us1FQA8iPrACz0VAXFlObErQRUCqkF4oktFFQPjHbuTZ0kVAR/9+oCHURUCVNo9cadVFQONtnxix1kVAMaWv1PjXRUB/3L+QQNlFQM0T0EyI2kVAG0vgCNDbRUBpgvDEF91FQLi5AIFf3kVABvEQPaffRUBUKCH57uBFQKJfMbU24kVA8JZBcX7jRUA+zlEtxuRFQIwFYukN5kVA2zxypVXnRUApdIJhnehFQHerkh3l6UVAxeKi2SzrRUATGrOVdOxFQGFRw1G87UVAr4jTDQTvRUD+v+PJS/BFQEz384WT8UVAmi4EQtvyRUDoZRT+IvRFQDadJLpq9UVAhNQ0drL2RUDSC0Uy+vdFQCBDVe5B+UVAcHplqon6RUC8sXVm0ftFQAvphSIZ/UVAWSCW3mD+RUCnV6aaqP9FQPWOtlbwAEZAQ8bGEjgCRkCS/dbOfwNGQOA054rHBEZALmz3Rg8GRkB8owcDVwdGQMraF7+eCEZAGBIoe+YJRkBmSTg3LgtGQLSASPN1DEZAA7hYr70NRkBR72hrBQ9GQKAmeSdNEEZA7l2J45QRRkA6lZmf3BJGQInMqVskFEZA1gO6F2wVRkAmO8rTsxZGQHRy2o/7F0ZAwqnqS0MZRkAQ4foHixpGQF4YC8TSG0ZArE8bgBodRkD6his8Yh5GQEq+O/ipH0ZAl/VLtPEgRkDlLFxwOSJGQDRkbCyBI0ZAgpt86MgkRkDP0oykECZGQB0KnWBYJ0ZAa0GtHKAoRkC6eL3Y5ylGQAiwzZQvK0ZAVufdUHcsRkCkHu4Mvy1GQPJV/sgGL0ZAQI0OhU4wRkCOxB5BljFGQN37Lv3dMkZAKzM/uSU0RkB5ak91bTVGQMehXzG1NkZAFtlv7fw3RkBjEICpRDlGQLFHkGWMOkZAAH+gIdQ7RkBOtrDdGz1GQJztwJljPkZA6iTRVas/RkA4XOER80BGQIaT8c06QkZA1MoBioJDRkAiAhJGykRGQHE5IgISRkZAv3AyvllHRkANqEJ6oUhGQFvfUjbpSUZAqRZj8jBLRkD3TXOueExGQEWFg2rATUZAlLyTJghPRkDj86PiT1BGQDArtJ6XUUZAfmLEWt9SRkDMmdQWJ1RGQBrR5NJuVUZAaAj1jrZWRkC2PwVL/ldGQAV3FQdGWUZAU64lw41aRkCh5TV/1VtGQO8cRjsdXUZAPVRW92ReRkCLi2azrF9GQNnCdm/0YEZAKfqGKzxiRkB2MZfng2NGQMNop6PLZEZAEqC3XxNmRkBh18cbW2dGQK0O2NeiaEZA/EXok+ppRkBLffhPMmtGQJm0CAx6bEZA5+sYyMFtRkA1IymECW9GQINaOUBRcEZA0ZFJ/JhxRkAfyVm44HJGQG0AanQodEZAvTd6MHB1RkAKb4rst3ZGQFimmqj/d0ZAp92qZEd5RkD1FLsgj3pGQEJMy9zWe0ZAkIPbmB59RkDfuutUZn5GQC3y+xCuf0ZAeykMzfWARkDJYByJPYJGQBeYLEWFg0ZAZc88Ac2ERkCzBk29FIZGQAI+XXlch0ZAUHVtNaSIRkCerH3x64lGQOzjja0zi0ZAOxueaXuMRkCJUq4lw41GQNaJvuEKj0ZAJMHOnVKQRkBz+N5ZmpFGQMEv7xXikkZAD2f/0SmURkBdng+OcZVGQKvVH0q5lkZA+QwwBgGYRkBHREDCSJlGQJZ7UH6QmkZA5LJgOtibRkAy6nD2H51GQIAhgbJnnkZAzliRbq+fRkAckKEq96BGQGrHseY+okZAuf7BooajRkAHNtJezqRGQFVt4hoWpkZAo6Ty1l2nRkDx2wKTpahGQD8TE0/tqUZAjUojCzWrRkDbgTPHfKxGQCq5Q4PErUZAePBTPwyvRkDGJ2T7U7BGQBRfdLebsUZAYpaEc+OyRkCwzZQvK7RGQP4EpetytUZATDy1p7q2RkCbc8VjArhGQOqq1R9KuUZANuLl25G6RkCFGfaX2btGQNNQBlQhvUZAIYgWEGm+RkBvvybMsL9GQL72Noj4wEZADC5HREDCRkBaZVcAiMNGQKicZ7zPxEZA9tN3eBfGRkBEC4g0X8dGQJJCmPCmyEZA4XmorO7JRkAwsbhoNstGQH3oyCR+zEZAyx/Z4MXNRkAaV+mcDc9GQGiO+VhV0EZAtMUJFZ3RRkAE/RnR5NJGQFI0Ko0s1EZAoGs6SXTVRkDuokoFvNZGQDzaWsED2EZAihFrfUvZRkDYSHs5k9pGQCaAi/Xa20ZAdbebsSLdRkDE7qttat5GQBEmvCmy30ZAX13M5fngRkCulNyhQeJGQPzL7F2J40ZASQP9GdHkRkCYOg3WGOZGQOZxHZJg50ZANKktTqjoRkCC4D0K8OlGQNAXTsY360ZAHk9egn/sRkBshm4+x+1GQLu9fvoO70ZACfWOtlbwRkBXLJ9ynvFGQKVjry7m8kZA85q/6i30RkBB0s+mdfVGQJAJ4GK99kZA3UDwHgX4RkAseADbTPlGQHqvEJeU+kZAyOYgU9z7RkAWHjEPJP1GQGRVQctr/kZAsoxRh7P/RkAAxGFD+wBHQE/7cf9CAkdAnTKCu4oDR0DraZJ30gRHQDmhojMaBkdAh9iy72EHR0DVD8OrqQhHQCNH02fxCUdAcn7jIzkLR0C/tfPfgAxHQA7tA5zIDUdAXCQUWBAPR0CqWyQUWBBHQPiSNNCfEUdARspEjOcSR0CUAVVILxRHQOM4ZQR3FUdAMXB1wL4WR0B/p4V8BhhHQM3elThOGUdAGxam9JUaR0BpTbaw3RtHQLeExmwlHUdABrzWKG0eR0BU8+bktB9HQKMq96D8IEdA8GEHXUQiR0A9mRcZjCNHQIzQJ9XTJEdA2wc4kRsmR0AnP0hNYydHQHd2WAmrKEdAxa1oxfIpR0AT5XiBOitHQGEciT2CLEdAr1OZ+cktR0D9iqm1ES9HQEvCuXFZMEdAmvnJLaExR0DoMNrp6DJHQDdo6qUwNEdAhJ/6YXg1R0DS1goewDZHQCEOG9oHOEdAb0Urlk85R0C9fDtSlzpHQAu0Sw7fO0dAWetbyiY9R0CnImyGbj5HQPVZfEK2P0dAQ5GM/v1AR0CRyJy6RUJHQN//rHaNQ0dALje9MtVER0B8bs3uHEZHQMql3apkR0dAGN3tZqxIR0BmFP4i9ElHQLVLDt87S0dAA4Mem4NMR0BRui5Xy01HQJ/xPhMTT0dA7ShPz1pQR0A7YF+LolFHQImXb0fqUkdA185/AzJUR0AlBpC/eVVHQHQ9oHvBVkdAwnSwNwlYR0AQrMDzUFlHQF7j0K+YWkdArBrha+BbR0D6UfEnKF1HQEiJAeRvXkdAlsARoLdfR0Dl9yFc/2BHQDMvMhhHYkdAgWZC1I5jR0DPnVKQ1mRHQB3VYkweZkdAawxzCGZnR0C5Q4PErWhHQAh7k4D1aUdAVrKjPD1rR0Ck6bP4hGxHQPIgxLTMbUdAQFjUcBRvR0COj+QsXHBHQNzG9OijcUdAKv4EpetyR0B5NRVhM3RHQMZsJR17dUdAFaQ12cJ2R0Bk20WVCnhHQLASVlFSeUdA/0lmDZp6R0BNgXbJ4XtHQJy4hoUpfUdA6u+WQXF+R0A4J6f9uH9HQIZet7kAgUdA1JXHdUiCR0AizdcxkINHQHAE6O3XhEdAvzv4qR+GR0ANcwhmZ4dHQFuqGCKviEdAquEo3vaJR0D3GDmaPotHQEVQSVaGjEdAlIdZEs6NR0DivmnOFY9HQDD2eYpdkEdAfi2KRqWRR0DMZJoC7ZJHQBqcqr40lEdAaNO6enyVR0C2Css2xJZHQARC2/ILmEdAU3nrrlOZR0ChsPtqm5pHQO/nCyfjm0dAPh8c4yqdR0CLViyfcp5HQNmNPFu6n0dAKMVMFwKhR0B2/FzTSaJHQMQzbY+Ro0dAEmt9S9mkR0Bgoo0HIaZHQK7ZncNop0dA/BCuf7CoR0BKSL47+KlHQJh/zvc/q0dA57bes4esR0A17u5vz61HQIMl/ysXr0dA0VwP6F6wR0AflB+kprFHQG3LL2DuskdAuwJAHDa0R0AKOlDYfbVHQFhxYJTFtkdApqhwUA24R0D034AMVblHQEIXkcicukdAkE6hhOS7R0DehbFALL1HQC29wfxzvkdAe/TRuLu/R0DJK+J0A8FHQBdj8jBLwkdAZZoC7ZLDR0Cz0RKp2sRHQAEJI2UixkdAT0AzIWrHR0Cdd0PdschHQOyuU5n5yUdAOeZjVUHLR0CIHXQRicxHQNZUhM3QzUdAJIyUiRjPR0Byw6RFYNBHQMH6tAGo0UdADzLFve/SR0BdadV5N9RHQKug5TV/1UdA+df18cbWR0BHDwauDthHQJVGFmpW2UdA430mJp7aR0AytTbi5dtHQIDsRp4t3UdAziNXWnXeR0AdW2cWvd9HQGqSd9IE4UdAt8mHjkziR0AGAZhKlONHQFU4qAbc5EdAo2+4wiPmR0Dxpsh+a+dHQD/e2Dqz6EdAjRXp9vrpR0DbTPmyQutHQCmECW+K7EdAeLsZK9LtR0DG8innGe9HQBQqOqNh8EdAYmFKX6nxR0CxmFob8fJHQP7Patc49EdATAd7k4D1R0CbPotPyPZHQOl1mwsQ+EdAN62rx1f5R0CF5LuDn/pHQNMbzD/n+0dAIVPc+y79R0Bviuy3dv5HQL3B/HO+/0dADPkMMAYBSEBaMB3sTQJIQKhnLaiVA0hA9p49ZN0ESEBE1k0gJQZIQJINXtxsB0hA4ERumLQISEAvfH5U/AlIQH2zjhBEC0hAy+qezIsMSEAZIq+I0w1IQGdZv0QbD0hAtZDPAGMQSEADyN+8qhFIQFH/73jyEkhAoDYANToUSEDubRDxgRVIQDylIK3JFkhAitwwaREYSEDYE0ElWRlIQCZLUeGgGkhAdIJhnegbSEDEuXFZMB1IQBDxgRV4HkhAXyiS0b8fSECtX6KNByFIQPuWsklPIkhASc7CBZcjSECXBdPB3iRIQOU8430mJkhANHTzOW4nSECCqwP2tShIQNDiE7L9KUhAHhokbkUrSEBsUTQqjSxIQLqIRObULUhACMBUohwvSEBY92ReZDBIQKUudRqsMUhA82WF1vMySEBAnZWSOzRIQI/UpU6DNUhA3gu2Css2SEAqQ8bGEjhIQHp61oJaOUhAyLHmPqI6SEAW6fb66TtIQGQgB7cxPUhAslcXc3k+SEAAjycvwT9IQE7GN+sIQUhAnP1Hp1BCSEDsNFhjmENIQDlsaB/gREhAh6N42ydGSEDV2oiXb0dIQCQSmVO3SEhAcUmpD/9JSEC/gLnLRktIQA64yYeOTEhAXO/ZQ9ZNSECqJur/HU9IQPhd+rtlUEhARpUKeK1RSECUzBo09VJIQOIDK/A8VEhAMTs7rIRVSEB/cktozFZIQM2pWyQUWEhAG+Fr4FtZSEBpGHyco1pIQLhPjFjrW0hABYecFDNdSEBTvqzQel5IQKL1vIzCX0hA8CzNSAphSEA+ZN0EUmJIQIyb7cCZY0hA2tL9fOFkSEAoCg45KWZIQHZBHvVwZ0hAxXgusbhoSEATsD5tAGpIQGHnTilIa0hArx5f5Y9sSED9VW+h121IQEuNf10fb0hAmcSPGWdwSEDo+5/VrnFIQDczsJH2ckhAhGrATT50SEDSodAJhnVIQCDZ4MXNdkhAbhDxgRV4SEC8RwE+XXlIQAp/EfqkekhAWbYhtux7SECn7TFyNH1IQPUkQi58fkhAQ1xS6sN/SECRk2KmC4FIQN/KcmJTgkhALQKDHpuDSEB9OZPa4oRIQMtwo5YqhkhAF6izUnKHSEBm38MOuohIQLMW1MoBikhAAk7khkmLSEBQhfRCkYxIQJ68BP/YjUhA7fMUuyCPSEA7KyV3aJBIQIliNTOwkUhA15lF7/eSSEAl0VWrP5RIQHMIZmeHlUhAwT92I8+WSEARd4bfFphIQF+ulptemUhArOWmV6aaSED6HLcT7ptIQEhUx881nUhAl4vXi32eSEDkwudHxZ9IQDP69wMNoUhAgTEIwFSiSEDPaBh8nKNIQB2gKDjkpEhAa9c49CumSEC5Dkmwc6dIQAdGWWy7qEhAVX1pKAOqSECktHnkSqtIQPLriaCSrEhAQCOaXNqtSECOWqoYIq9IQNyRutRpsEhAK8nKkLGxSEB4ANtM+bJIQMc36whBtEhAFW/7xIi1SEBjpguB0LZIQLHdGz0YuEhA/xQs+V+5SEBNTDy1p7pIQJuDTHHvu0hA6rpcLTe9SEA48mzpfr5IQIYpfaXGv0hA1GCNYQ7BSEAimJ0dVsJIQHDPrdmdw0hAvga+leXESEAMPs5RLcZIQFt13g11x0hAqazuybzISED34/6FBMpIQEUbD0JMy0hAk1If/pPMSEDhiS+6281IQC/BP3Yjz0hAfvhPMmvQSEDML2DustFIQBpncKr60khAaJ6AZkLUSEC21ZAiitVIQAQNod7R1khAUkSxmhnYSECge8FWYdlIQO+y0RKp2khAPurhzvDbSECKIfKKON1IQNlYAkeA3khAJ5ASA8jfSEB1xyK/D+FIQMP+MntX4khAEjZDN5/jSEBgbVPz5uRIQK6kY68u5khA/Ntza3bnSEBKE4QnvuhIQJhKlOMF6khA5oGkn03rSEA1ubRblexIQITwxBfd7UhA0ifV0yTvSEAfX+WPbPBIQG2W9Uu08UhAus0FCPzySEAJBRbEQ/RIQFg8JoCL9UhApnM2PNP2SED0qkb4GvhIQELiVrRi+UhAkBlncKr6SEDeUHcs8vtIQCyIh+g5/UhAer+XpIH+SEDJ9qdgyf9IQBguuBwRAUlAZmXI2FgCSUCznNiUoANJQAHU6FDoBElATwv5DDAGSUCeQgnJdwdJQOx5GYW/CElAOrEpQQcKSUCI6Dn9TgtJQNYfSrmWDElAJFdadd4NSUByjmoxJg9JQMDFeu1tEElADv2KqbURSUBdNJtl/RJJQKtrqyFFFElA+aK73YwVSUBH2suZ1BZJQJUR3FUcGElA40jsEWQZSUAygPzNqxpJQIC3DIrzG0lAzu4cRjsdSUAcJi0Cgx5JQGpdPb7KH0lAuJRNehIhSUAGzF02WiJJQFQDbvKhI0lAozp+rukkSUDxcY5qMSZJQD+pniZ5J0lAjeCu4sAoSUDbF7+eCCpJQClPz1pQK0lAd4bfFpgsSUDFve/S3y1JQBP1/44nL0lAYiwQS28wSUCxYyAHtzFJQP6aMMP+MklATNJAf0Y0SUCaCVE7jjVJQOhAYffVNklAN3hxsx04SUCFr4FvZTlJQNPmkSutOklAIR6i5/Q7SUBvVbKjPD1JQL2Mwl+EPklAC8TSG8w/SUBZ++LXE0FJQKgy85NbQklA92kDUKNDSUBFoRMM60RJQJHYI8gyRklA4A80hHpHSUAtR0RAwkhJQHx+VPwJSklAy7VkuFFLSUAZ7XR0mUxJQGckhTDhTUlAtVuV7ChPSUADk6WocFBJQFHKtWS4UUlAnwHGIABTSUDuONbcR1RJQDxw5piPVUlAi6f2VNdWSUDZ3gYRH1hJQCYWF81mWUlAdE0nia5aSUDChDdF9ltJQBG8RwE+XUlAX/NXvYVeSUCtKmh5zV9JQPtheDUVYUlASZmI8VxiSUCX0JitpGNJQOUHqWnsZElAMz+5JTRmSUCCdsnhe2dJQNCt2Z3DaElAHuXpWQtqSUBsHPoVU2tJQLpTCtKabElACIsajuJtSUBWwipKKm9JQKX5OgZycElA8zBLwrlxSUBBaFt+AXNJQI+fazpJdElA3dZ79pB1SUArDoyy2HZJQHlFnG4geElAx3ysKmh5SUAWtLzmr3pJQGTrzKL3e0lAsiLdXj99SUAAWu0ah35JQE6R/dbOf0lAnMgNkxaBSUDq/x1PXoJJQDo3Lgumg0lAh24+x+2ESUDVpU6DNYZJQCPdXj99h0lAcRRv+8SISUC/S3+3DIpJQA2Dj3NUi0lAXLqfL5yMSUCq8a/r441JQPgowKcrj0lARmDQY3OQSUCUl+Afu5FJQOLO8NsCk0lAMAYBmEqUSUB+PRFUkpVJQM10IRDalklAGqwxzCGYSUBp40GIaZlJQLgaUkSxmklABFJiAPmbSUBTiXK8QJ1JQKHAgniInklA8PeSNNCfSUA+L6PwF6FJQIxms6xfoklA2p3DaKejSUAo1dMk76RJQHYM5OA2pklAxEP0nH6nSUASewRZxqhJQGGyFBUOqklAr+kk0VWrSUD+IDWNnaxJQExYRUnlrUlAmY9VBS2vSUDnxmXBdLBJQDT+dX28sUlAhDWGOQSzSUDSbJb1S7RJQCCkprGTtUlAbtu2bdu2SUC8EscpI7hJQApK1+VquUlAWIHnobK6SUCnuPdd+rtJQPXvBxpCvUlAQycY1om+SUCSXiiS0b9JQOCVOE4ZwUlALc1ICmHCSUB7BFnGqMNJQMk7aYLwxElAGHN5PjjGSUBmqon6f8dJQLThmbbHyElAAhmqcg/KSUBQULouV8tJQJ6HyuqezElA7L7apubNSUA79upiLs9JQIkt+x520ElA12QL273RSUAlnBuXBdNJQHPTK1NN1ElAwQo8D5XVSUAPQkzL3NZJQF55XIck2ElArLBsQ2zZSUD653z/s9pJQEgfjbv720lAlladd0PdSUDkja0zi95JQDLFve/S30lAgPzNqxrhSUDPM95nYuJJQB1r7iOq40lAa6L+3/HkSUC52Q6cOeZJQAcRH1iB50lAVUgvFMnoSUCjfz/QEOpJQPK2T4xY60lAQe5fSKDsSUCNJXAE6O1JQNxcgMAv70lAKpSQfHfwSUB4y6A4v/FJQMYCsfQG80lAFTrBsE70SUBjcdFslvVJQLGo4Sje9klA/9/x5CX4SUBNFwKhbflJQJtOEl21+klA6YUiGf37SUA3vTLVRP1JQIf0QpGM/klA1CtTTdT/SUAiY2MJHAFKQHGac8VjAkpAv9GDgasDSkALCZQ98wRKQFpApPk6BkpAqXe0tYIHSkD3rsRxyghKQEXm1C0SCkpAkx3l6VkLSkDhVPWloQxKQC+MBWLpDUpAfcMVHjEPSkDL+iXaeBBKQBsyNpbAEUpAaGlGUggTSkC2oFYOUBRKQAXYZsqXFUpAUw93ht8WSkCgRodCJxhKQO59l/5uGUpAPbWnurYaSkCL7Ld2/htKQNkjyDJGHUpAJ1vY7o0eSkB1kuiq1R9KQMPJ+GYdIUpAEQEJI2UiSkBgOBnfrCNKQK5vKZv0JEpA/KY5VzwmSkBK3kkThCdKQJgVWs/LKEpA5kxqixMqSkA0hHpHWytKQIK7igOjLEpA0fKav+otSkAfKqt7Mi9KQG1huzd6MEpAu5jL88ExSkAJ0NuvCTNKQFcH7GtRNEpApT78J5k1SkD0dQzk4DZKQEKtHKAoOEpAkOQsXHA5SkDeGz0YuDpKQCxTTdT/O0pAeopdkEc9SkDIwW1Mjz5KQBb5fQjXP0pAZTCOxB5BSkC0Z56AZkJKQAGfrjyuQ0pAT9a++PVESkCdDc+0PUZKQOtE33CFR0pAOXzvLM1ISkCIs//oFEpKQNbqD6VcS0pAJCIgYaRMSkByWTAd7E1KQMCQQNkzT0pADshQlXtQSkBc/2BRw1FKQKs2cQ0LU0pA+m2ByVJUSkBHpZGFmlVKQJTcoUHiVkpA4xOy/SlYSkAyS8K5cVlKQH6C0nW5WkpAzbniMQFcSkAc8fLtSF1KQGooA6qQXkpAuF8TZthfSkAGlyMiIGFKQFTOM95nYkpAogVEmq9jSkDwPFRW92RKQD90ZBI/ZkpAjqt0zoZnSkDb4oSKzmhKQCkalUYWakpAeFGlAl5rSkDGiLW+pWxKQBPAxXrtbUpAYvfVNjVvSkCwLubyfHBKQP5l9q7EcUpATJ0GawxzSkCa1BYnVHRKQOgLJ+ObdUpANkM3n+N2SkCEekdbK3hKQNOxVxdzeUpAIeln07p6SkBvIHiPAnxKQL1XiEtKfUpADI+YB5J+SkBaxqjD2X9KQKf9uH8hgUpA9jTJO2mCSkBEbNn3sINKQJKj6bP4hEpA4Nr5b0CGSkAuEgosiIdKQHxJGujPiEpAyoAqpBeKSkAZuDpgX4tKQGfvShynjEpAtSZb2O6NSkADXmuUNo9KQFGVe1B+kEpAn8yLDMaRSkDtA5zIDZNKQDs7rIRVlEpAiXK8QJ2VSkDYqcz85JZKQCbh3LgsmEpAdBjtdHSZSkDCT/0wvJpKQBCHDe0DnEpAXr4dqUudSkCt9S1lk55KQPssPiHbn0pASWRO3SKhSkCXm16ZaqJKQOXSblWyo0pAMwp/EfqkSkCBQY/NQaZKQNB4n4mJp0pAHrCvRdGoSkBs578BGapKQLse0L1gq0pAB1bgeaisSkBWjfA18K1KQKTEAPI3r0pA8vsQrn+wSkBBMyFqx7FKQI9qMSYPs0pA3aFB4la0SkAr2VGenrVKQHkQYlrmtkpAx0dyFi64SkAVf4LSdblKQGS2ko69ukpAsu2iSgW8SkABJbMGTb1KQE5cw8KUvkpAnJPTfty/SkDryuM6JMFKQDkC9PZrwkpAhTkEs7PDSkDVcBRv+8RKQCOoJCtDxkpAcd8054rHSkC/FkWj0shKQA1OVV8aykpAW4VlG2LLSkCpvHXXqcxKQPjzhZPxzUpARiuWTznPSkCVYqYLgdBKQOKZtsfI0UpAMNHGgxDTSkB/CNc/WNRKQM0/5/uf1UpAG3f3t+fWSkBprgd0L9hKQLflFzB32UpABR0o7L7aSkBTVDioBtxKQKGLSGRO3UpA78JYIJbeSkA9+mjc3d9KQIwxeZgl4UpA2miJVG3iSkAooJkQteNKQHbXqcz85EpAxA66iETmSkASRspEjOdKQGF92gDU6EpAr7TqvBvqSkD96/p4Y+tKQEsjCzWr7EpAmVob8fLtSkDnkSutOu9KQDXJO2mC8EpAgwBMJcrxSkDSN1zhEfNKQCBvbJ1Z9EpAbqZ8WaH1SkC83YwV6fZKQAoVndEw+EpAWEytjXj5SkCmg71JwPpKQPS6zQUI/EpAQ/LdwU/9SkCQKe59l/5KQN9g/jnf/0pALpgO9iYBS0B7zx6ybgJLQMkGL262A0tAFz4/Kv4ES0BmdU/mRQZLQLSsX6KNB0tAAuRvXtUIS0BQG4AaHQpLQJ5SkNZkC0tA7ImgkqwMS0A6wbBO9A1LQIn4wAo8D0tA1y/RxoMQS0AlZ+GCyxFLQHSe8T4TE0tAwdUB+1oUS0AODRK3ohVLQF1EInPqFktArHsyLzIYS0D6skLreRlLQEjqUqfBGktAliFjYwkcS0DkWHMfUR1LQDKQg9uYHktAgMeTl+AfS0DO/qNTKCFLQB02tA9wIktAa23Ey7cjS0C5pNSH/yRLQAjc5ENHJktAVRP1/44nS0CjSgW81ihLQPKBFXgeKktAQLklNGYrS0CO8DXwrSxLQNwnRqz1LUtAKl9WaD0vS0B4lmYkhTBLQMbNduDMMUtAFAWHnBQzS0BiPJdYXDRLQLFzpxSkNUtA/6q30Os2S0BN4seMMzhLQJsZ2Eh7OUtA6VDoBMM6S0A3iPjACjxLQIa/CH1SPUtA1PYYOZo+S0AiLin14T9LQHBlObEpQUtAvpxJbXFCS0AM1FkpuUNLQFoLauUARUtAqEJ6oUhGS0D2eYpdkEdLQEWxmhnYSEtAk+iq1R9KS0DhH7uRZ0tLQC9Xy02vTEtAfY7bCfdNS0DLxevFPk9LQBn9+4GGUEtAZzQMPs5RS0C2axz6FVNLQAOjLLZdVEtAUto8cqVVS0CgEU0u7VZLQO5IXeo0WEtAPIBtpnxZS0CLt31ixFpLQNnujR4MXEtAJyae2lNdS0B1Xa6Wm15LQMOUvlLjX0tAEczODithS0BfA9/KcmJLQK0674a6Y0tA/HH/QgJlS0BKqQ//SWZLQJjgH7uRZ0tA5hcwd9loS0A1T0AzIWpLQIGGUO9oa0tA0L1gq7BsS0Af9XBn+G1LQG0sgSNAb0tAu2OR34dwS0AJm6Gbz3FLQFfSsVcXc0tApQnCE190S0DzQNLPpnVLQEF44ovudktAkK/yRzZ4S0De5gIEfnlLQCweE8DFektAe1UjfA18S0DIjDM4VX1LQBbEQ/ScfktAZftTsOR/S0CzMmRsLIFLQAFqdCh0gktAT6GE5LuDS0Cd2JSgA4VLQOsPpVxLhktAOUe1GJOHS0CHfsXU2ohLQNa11ZAiiktAJO3lTGqLS0ByJPYIsoxLQMBbBsX5jUtAD5MWgUGPS0BcyiY9iZBLQKoBN/nQkUtA+ThHtRiTS0BHcFdxYJRLQJWnZy2olUtA49536e+WS0AxFoilN5hLQH9NmGF/mUtAzYSoHceaS0AbvLjZDpxLQGrzyJVWnUtAuCrZUZ6eS0AGYukN5p9LQFSZ+cktoUtAotAJhnWiS0DwBxpCvaNLQD4/Kv4EpUtAjnY6ukymS0DbrUp2lKdLQCnlWjLcqEtAdxxr7iOqS0DFU3uqa6tLQBOLi2azrEtAYcKbIvutS0Cv+aveQq9LQP4wvJqKsEtATGjMVtKxS0Can9wSGrNLQOjW7M5htEtANg79iqm1S0CERQ1H8bZLQNJ8HQM5uEtAIrQtv4C5S0Bu6z17yLpLQL0iTjcQvEtAClpe81e9S0BZkW6vn75LQKjIfmvnv0tA9f+OJy/BS0BEN5/jdsJLQJJur5++w0tA4KW/WwbFS0Au3c8XTsZLQHwU4NOVx0tAykvwj93IS0AYgwBMJcpLQGa6EAhty0tAtvEgxLTMS0ADKTGA/M1LQFFgQTxEz0tAn5dR+IvQS0DuzmG009FLQDsGcnAb00tAiD2CLGPUS0DYdJLoqtVLQCasoqTy1ktAdOOyYDrYS0DCGsMcgtlLQBBS09jJ2ktAXonjlBHcS0CswPNQWd1LQPr3Aw2h3ktASS8UyejfS0CXZiSFMOFLQOWdNEF44ktAM9VE/b/jS0CCDFW5B+VLQM9DZXVP5ktAHXt1MZfnS0BssoXt3uhLQLrplakm6ktACCGmZW7rS0BWWLYhtuxLQKSPxt397UtA8sbWmUXvS0BA/uZVjfBLQI819xHV8UtA3WwHzhzzS0ArpBeKZPRLQHnbJ0as9UtAxxI4AvT2S0AVSki+O/hLQGOBWHqD+UtAsbhoNsv6S0AA8HjyEvxLQE4nia5a/UtAnF6ZaqL+S0Dqlakm6v9LQDjNueIxAUxAhgTKnnkCTEDUO9pawQNMQCNz6hYJBUxAcar60lAGTEC/4QqPmAdMQA0ZG0vgCExAW1ArBygKTECphzvDbwtMQPe+S3+3DExARvZbO/8NTECVLWz3Rg9MQOFkfLOOEExAMJyMb9YRTEB+05wrHhNMQMwKredlFExAGkK9o60VTEBoec1f9RZMQLew3Rs9GExABejt14QZTEBTH/6TzBpMQKFWDlAUHExA740eDFwdTEA9xS7Iox5MQIv8PoTrH0xA2zNPQDMhTEApa1/8eiJMQHaib7jCI0xAxNl/dAolTEASEZAwUiZMQGBIoOyZJ0xAr3+wqOEoTED7tsBkKSpMQEvu0CBxK0xAmSXh3LgsTEDnXPGYAC5MQDWUAVVIL0xAg8sREZAwTEDRAiLN1zFMQB86MokfM0xAb3FCRWc0TEC9qFIBrzVMQArgYr32NkxAWBdzeT44TECmToM1hjlMQPWFk/HNOkxAQr2jrRU8TECR9LNpXT1MQN8rxCWlPkxALWPU4ew/TEB7muSdNEFMQMnR9Fl8QkxAFwkFFsRDTEBlQBXSC0VMQLN3JY5TRkxAAq81SptHTEBQ5kUG40hMQJ4dVsIqSkxA7FRmfnJLTEA6jHY6ukxMQInDhvYBTkxA1vqWsklPTEAlMqdukVBMQHNptyrZUUxAwaDH5iBTTEAP2NeiaFRMQF0P6F6wVUxAq0b4GvhWTED5fQjXP1hMQEi1GJOHWUxAluwoT89aTEDkIzkLF1xMQDJbScdeXUxAgJJZg6ZeTEDOyWk/7l9MQBwBevs1YUxAajiKt31iTEC5b5pzxWNMQAinqi8NZUxAVd6661RmTECjFcunnGdMQPFM22PkaExAP4TrHyxqTECNu/vbc2tMQNzyC5i7bExAKiocVANuTEB4YSwQS29MQMaYPMyScExAFNBMiNpxTEBiB11EInNMQLA+bQBqdExA/3V9vLF1TEBOrY14+XZMQJzknTRBeExA6Buu8Ih5TEA3U76s0HpMQISKzmgYfExA08HeJGB9TEAi+e7gp35MQHAw/5zvf0xAvmcPWTeBTEAMnx8Vf4JMQFrWL9HGg0xAqA1AjQ6FTED2RFBJVoZMQER8YAWeh0xAk7NwweWITEDi6oB9LYpMQDAikTl1i0xAfVmh9byMTEDLkLGxBI5MQBnIwW1Mj0xAaP/RKZSQTEC1NuLl25FMQARu8qEjk0xAUqUCXmuUTECg3BIas5VMQO4TI9b6lkxAPEszkkKYTECKgkNOiplMQNi5UwrSmkxAJ/FjxhmcTEB1KHSCYZ1MQMNfhD6pnkxAEZeU+vCfTEBfzqS2OKFMQK0FtXKAokxA/DzFLsijTEBKdNXqD6VMQJir5aZXpkxA5uL1Yp+nTEA0GgYf56hMQIJRFtsuqkxA0Igml3arTEAewDZTvqxMQGz3Rg8GrkxAuy5Xy02vTEAJZmeHlbBMQFedd0PdsUxApdSH/ySzTEDzC5i7bLRMQEFDqHe0tUxAj3q4M/y2TEDdscjvQ7hMQCzp2KuLuUxAeiDpZ9O6TEDIV/kjG7xMQBaPCeBivUxAZMYZnKq+TECy/SlY8r9MQAE1OhQ6wUxAT2xK0IHCTECdo1qMycNMQOvaakgRxUxAORJ7BFnGTECHSYvAoMdMQNWAm3zoyExAI7irODDKTEBy77v0d8tMQMAmzLC/zExAD17cbAfOTEBblewoT89MQKrM/OSW0ExA+AMNod7RTEBGOx1dJtNMQJVyLRlu1ExA46k91bXVTEAx4U2R/dZMQH8YXk1F2ExAzU9uCY3ZTEAbh37F1NpMQGm+joEc3ExAuPWePWTdTEAGLa/5q95MQFVkv7Xz30xAo5vPcTvhTEDw0t8tg+JMQD4K8OnK40xAjEEAphLlTEDaeBBiWuZMQCmwIB6i50xAd+cw2unoTEDFHkGWMepMQBNWUVJ560xAYY1hDsHsTECvxHHKCO5MQP37gYZQ70xATDOSQpjwTECaaqL+3/FMQOmhsron80xAN9nCdm/0TECEENMyt/VMQNJH4+7+9kxAIH/zqkb4TEBvtgNnjvlMQL3tEyPW+kxACyUk3x38TEBZXDSbZf1MQKeTRFet/kxA9cpUE/X/TEBDAmXPPAFNQJE5dYuEAk1A4HCFR8wDTUAuqJUDFAVNQHzfpb9bBk1Ayha2e6MHTUAYTsY36whNQGaF1vMyCk1AtLzmr3oLTUAD9PZrwgxNQFErBygKDk1An2IX5FEPTUDtmSegmRBNQDvRN1zhEU1AiQhIGCkTTUDXP1jUcBRNQCV3aJC4FU1AdK54TAAXTUDC5YgISBhNQBAdmcSPGU1AXlSpgNcaTUCsi7k8HxxNQPrCyfhmHU1ASPrZtK4eTUCYMepw9h9NQORo+iw+IU1AM6AK6YUiTUCC1xqlzSNNQM8OK2EVJU1AHUY7HV0mTUBrfUvZpCdNQLq0W5XsKE1ACOxrUTQqTUBWI3wNfCtNQKRajMnDLE1A8pGchQsuTUBAyaxBUy9NQI4Avf2aME1A3DfNueIxTUArb911KjNNQHmm7TFyNE1AyN397bk1TUAWFQ6qATdNQGJMHmZJOE1AsYMuIpE5TUD+uj7e2DpNQE7yTpogPE1AnClfVmg9TUDqYG8SsD5NQDiYf873P01Ahs+Pij9BTUDUBqBGh0JNQCI+sALPQ01AcHXAvhZFTUC/rNB6XkZNQA3k4DamR01AXBvx8u1ITUCqUgGvNUpNQPeJEWt9S01ARcEhJ8VMTUCT+DHjDE5NQOIvQp9UT01AMGdSW5xQTUB+nmIX5FFNQMzVctMrU01AGg2Dj3NUTUBoRJNLu1VNQLZ7owcDV01ABbOzw0pYTUBT6sN/kllNQKEh1DvaWk1A71jk9yFcTUA9kPSzaV1NQIvHBHCxXk1A2f4ULPlfTUAnNiXoQGFNQHZtNaSIYk1AxKRFYNBjTUAS3FUcGGVNQGATZthfZk1Arkp2lKdnTUD8gYZQ72hNQEq5lgw3ak1AmfCmyH5rTUDnJ7eExmxNQDVfx0AObk1Ag5bX/FVvTUDRzee4nXBNQB8F+HTlcU1AbTwIMS1zTUC8cxjtdHRNQAurKKm8dU1AV+I4ZQR3TUCmGUkhTHhNQPRQWd2TeU1AQohpmdt6TUCQv3lVI3xNQN72iRFrfU1ALS6azbJ+TUB7ZaqJ+n9NQMmcukVCgU1AF9TKAYqCTUBlC9u90YNNQLNC63kZhU1AAXr7NWGGTUBRsQvyqIdNQJ7oG67wiE1A7B8sajiKTUA6VzwmgItNQImOTOLHjE1A1cVcng+OTUAk/WxaV49NQHM0fRafkE1AwWuN0uaRTUAPo52OLpNNQF3arUp2lE1AqxG+Br6VTUD5SM7CBZdNQEeA3n5NmE1AlbfuOpWZTUDl7v723JpNQDImD7MknE1AgF0fb2ydTUDPlC8rtJ5NQB3MP+f7n01AagNQo0OhTUC4OmBfi6JNQAdycBvTo01AVamA1xqlTUCj4JCTYqZNQPEXoU+qp01AP0+xC/KoTUCNhsHHOapNQNu90YOBq01AKfXhP8msTUB4LPL7EK5NQMZjArhYr01AFJsSdKCwTUBj0iIw6LFNQLEJM+wvs01A/kBDqHe0TUBMeFNkv7VNQJuvYyAHt01A6eZz3E64TUA3HoSYlrlNQIVVlFTeuk1A04ykECa8TUAhxLTMbb1NQG/7xIi1vk1AvjLVRP2/TUAMauUARcFNQFqh9byMwk1AqNgFedTDTUD2DxY1HMVNQERHJvFjxk1Akn42ravHTUDgtUZp88hNQC/tViU7yk1AfSRn4YLLTUDLW3edysxNQBmTh1kSzk1AZ8qXFVrPTUC1AajRodBNQAM5uI3p0U1AUnDISTHTTUCgp9gFedRNQO7e6MHA1U1APBb5fQjXTUCKTQk6UNhNQNiEGfaX2U1AJrwpst/aTUB18zluJ9xNQMQqSipv3U1AEmJa5rbeTUBemWqi/t9NQK3Qel5G4U1A/AeLGo7iTUBJP5vW1eNNQJd2q5Id5U1A5q27TmXmTUA05csKredNQIIc3Mb06E1A0FPsgjzqTUAei/w+hOtNQGzCDPvL7E1AuvkctxPuTUAJMS1zW+9NQFhoPS+j8E1ApZ9N6+rxTUDz1l2nMvNNQEIObmN69E1AkEV+H8L1TUDcfI7bCfdNQCy0npdR+E1AeuuuU5n5TUDIIr8P4fpNQBZaz8so/E1AZJHfh3D9TUCyyO9DuP5NQAAAAAAAAE5A",
          "dtype": "f8"
         },
         "xaxis": "x",
         "y": {
          "bdata": "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",
          "dtype": "f8"
         },
         "yaxis": "y"
        }
       ],
       "layout": {
        "legend": {
         "tracegroupgap": 0
        },
        "template": {
         "data": {
          "bar": [
           {
            "error_x": {
             "color": "#2a3f5f"
            },
            "error_y": {
             "color": "#2a3f5f"
            },
            "marker": {
             "line": {
              "color": "#E5ECF6",
              "width": 0.5
             },
             "pattern": {
              "fillmode": "overlay",
              "size": 10,
              "solidity": 0.2
             }
            },
            "type": "bar"
           }
          ],
          "barpolar": [
           {
            "marker": {
             "line": {
              "color": "#E5ECF6",
              "width": 0.5
             },
             "pattern": {
              "fillmode": "overlay",
              "size": 10,
              "solidity": 0.2
             }
            },
            "type": "barpolar"
           }
          ],
          "carpet": [
           {
            "aaxis": {
             "endlinecolor": "#2a3f5f",
             "gridcolor": "white",
             "linecolor": "white",
             "minorgridcolor": "white",
             "startlinecolor": "#2a3f5f"
            },
            "baxis": {
             "endlinecolor": "#2a3f5f",
             "gridcolor": "white",
             "linecolor": "white",
             "minorgridcolor": "white",
             "startlinecolor": "#2a3f5f"
            },
            "type": "carpet"
           }
          ],
          "choropleth": [
           {
            "colorbar": {
             "outlinewidth": 0,
             "ticks": ""
            },
            "type": "choropleth"
           }
          ],
          "contour": [
           {
            "colorbar": {
             "outlinewidth": 0,
             "ticks": ""
            },
            "colorscale": [
             [
              0,
              "#0d0887"
             ],
             [
              0.1111111111111111,
              "#46039f"
             ],
             [
              0.2222222222222222,
              "#7201a8"
             ],
             [
              0.3333333333333333,
              "#9c179e"
             ],
             [
              0.4444444444444444,
              "#bd3786"
             ],
             [
              0.5555555555555556,
              "#d8576b"
             ],
             [
              0.6666666666666666,
              "#ed7953"
             ],
             [
              0.7777777777777778,
              "#fb9f3a"
             ],
             [
              0.8888888888888888,
              "#fdca26"
             ],
             [
              1,
              "#f0f921"
             ]
            ],
            "type": "contour"
           }
          ],
          "contourcarpet": [
           {
            "colorbar": {
             "outlinewidth": 0,
             "ticks": ""
            },
            "type": "contourcarpet"
           }
          ],
          "heatmap": [
           {
            "colorbar": {
             "outlinewidth": 0,
             "ticks": ""
            },
            "colorscale": [
             [
              0,
              "#0d0887"
             ],
             [
              0.1111111111111111,
              "#46039f"
             ],
             [
              0.2222222222222222,
              "#7201a8"
             ],
             [
              0.3333333333333333,
              "#9c179e"
             ],
             [
              0.4444444444444444,
              "#bd3786"
             ],
             [
              0.5555555555555556,
              "#d8576b"
             ],
             [
              0.6666666666666666,
              "#ed7953"
             ],
             [
              0.7777777777777778,
              "#fb9f3a"
             ],
             [
              0.8888888888888888,
              "#fdca26"
             ],
             [
              1,
              "#f0f921"
             ]
            ],
            "type": "heatmap"
           }
          ],
          "histogram": [
           {
            "marker": {
             "pattern": {
              "fillmode": "overlay",
              "size": 10,
              "solidity": 0.2
             }
            },
            "type": "histogram"
           }
          ],
          "histogram2d": [
           {
            "colorbar": {
             "outlinewidth": 0,
             "ticks": ""
            },
            "colorscale": [
             [
              0,
              "#0d0887"
             ],
             [
              0.1111111111111111,
              "#46039f"
             ],
             [
              0.2222222222222222,
              "#7201a8"
             ],
             [
              0.3333333333333333,
              "#9c179e"
             ],
             [
              0.4444444444444444,
              "#bd3786"
             ],
             [
              0.5555555555555556,
              "#d8576b"
             ],
             [
              0.6666666666666666,
              "#ed7953"
             ],
             [
              0.7777777777777778,
              "#fb9f3a"
             ],
             [
              0.8888888888888888,
              "#fdca26"
             ],
             [
              1,
              "#f0f921"
             ]
            ],
            "type": "histogram2d"
           }
          ],
          "histogram2dcontour": [
           {
            "colorbar": {
             "outlinewidth": 0,
             "ticks": ""
            },
            "colorscale": [
             [
              0,
              "#0d0887"
             ],
             [
              0.1111111111111111,
              "#46039f"
             ],
             [
              0.2222222222222222,
              "#7201a8"
             ],
             [
              0.3333333333333333,
              "#9c179e"
             ],
             [
              0.4444444444444444,
              "#bd3786"
             ],
             [
              0.5555555555555556,
              "#d8576b"
             ],
             [
              0.6666666666666666,
              "#ed7953"
             ],
             [
              0.7777777777777778,
              "#fb9f3a"
             ],
             [
              0.8888888888888888,
              "#fdca26"
             ],
             [
              1,
              "#f0f921"
             ]
            ],
            "type": "histogram2dcontour"
           }
          ],
          "mesh3d": [
           {
            "colorbar": {
             "outlinewidth": 0,
             "ticks": ""
            },
            "type": "mesh3d"
           }
          ],
          "parcoords": [
           {
            "line": {
             "colorbar": {
              "outlinewidth": 0,
              "ticks": ""
             }
            },
            "type": "parcoords"
           }
          ],
          "pie": [
           {
            "automargin": true,
            "type": "pie"
           }
          ],
          "scatter": [
           {
            "fillpattern": {
             "fillmode": "overlay",
             "size": 10,
             "solidity": 0.2
            },
            "type": "scatter"
           }
          ],
          "scatter3d": [
           {
            "line": {
             "colorbar": {
              "outlinewidth": 0,
              "ticks": ""
             }
            },
            "marker": {
             "colorbar": {
              "outlinewidth": 0,
              "ticks": ""
             }
            },
            "type": "scatter3d"
           }
          ],
          "scattercarpet": [
           {
            "marker": {
             "colorbar": {
              "outlinewidth": 0,
              "ticks": ""
             }
            },
            "type": "scattercarpet"
           }
          ],
          "scattergeo": [
           {
            "marker": {
             "colorbar": {
              "outlinewidth": 0,
              "ticks": ""
             }
            },
            "type": "scattergeo"
           }
          ],
          "scattergl": [
           {
            "marker": {
             "colorbar": {
              "outlinewidth": 0,
              "ticks": ""
             }
            },
            "type": "scattergl"
           }
          ],
          "scattermap": [
           {
            "marker": {
             "colorbar": {
              "outlinewidth": 0,
              "ticks": ""
             }
            },
            "type": "scattermap"
           }
          ],
          "scattermapbox": [
           {
            "marker": {
             "colorbar": {
              "outlinewidth": 0,
              "ticks": ""
             }
            },
            "type": "scattermapbox"
           }
          ],
          "scatterpolar": [
           {
            "marker": {
             "colorbar": {
              "outlinewidth": 0,
              "ticks": ""
             }
            },
            "type": "scatterpolar"
           }
          ],
          "scatterpolargl": [
           {
            "marker": {
             "colorbar": {
              "outlinewidth": 0,
              "ticks": ""
             }
            },
            "type": "scatterpolargl"
           }
          ],
          "scatterternary": [
           {
            "marker": {
             "colorbar": {
              "outlinewidth": 0,
              "ticks": ""
             }
            },
            "type": "scatterternary"
           }
          ],
          "surface": [
           {
            "colorbar": {
             "outlinewidth": 0,
             "ticks": ""
            },
            "colorscale": [
             [
              0,
              "#0d0887"
             ],
             [
              0.1111111111111111,
              "#46039f"
             ],
             [
              0.2222222222222222,
              "#7201a8"
             ],
             [
              0.3333333333333333,
              "#9c179e"
             ],
             [
              0.4444444444444444,
              "#bd3786"
             ],
             [
              0.5555555555555556,
              "#d8576b"
             ],
             [
              0.6666666666666666,
              "#ed7953"
             ],
             [
              0.7777777777777778,
              "#fb9f3a"
             ],
             [
              0.8888888888888888,
              "#fdca26"
             ],
             [
              1,
              "#f0f921"
             ]
            ],
            "type": "surface"
           }
          ],
          "table": [
           {
            "cells": {
             "fill": {
              "color": "#EBF0F8"
             },
             "line": {
              "color": "white"
             }
            },
            "header": {
             "fill": {
              "color": "#C8D4E3"
             },
             "line": {
              "color": "white"
             }
            },
            "type": "table"
           }
          ]
         },
         "layout": {
          "annotationdefaults": {
           "arrowcolor": "#2a3f5f",
           "arrowhead": 0,
           "arrowwidth": 1
          },
          "autotypenumbers": "strict",
          "coloraxis": {
           "colorbar": {
            "outlinewidth": 0,
            "ticks": ""
           }
          },
          "colorscale": {
           "diverging": [
            [
             0,
             "#8e0152"
            ],
            [
             0.1,
             "#c51b7d"
            ],
            [
             0.2,
             "#de77ae"
            ],
            [
             0.3,
             "#f1b6da"
            ],
            [
             0.4,
             "#fde0ef"
            ],
            [
             0.5,
             "#f7f7f7"
            ],
            [
             0.6,
             "#e6f5d0"
            ],
            [
             0.7,
             "#b8e186"
            ],
            [
             0.8,
             "#7fbc41"
            ],
            [
             0.9,
             "#4d9221"
            ],
            [
             1,
             "#276419"
            ]
           ],
           "sequential": [
            [
             0,
             "#0d0887"
            ],
            [
             0.1111111111111111,
             "#46039f"
            ],
            [
             0.2222222222222222,
             "#7201a8"
            ],
            [
             0.3333333333333333,
             "#9c179e"
            ],
            [
             0.4444444444444444,
             "#bd3786"
            ],
            [
             0.5555555555555556,
             "#d8576b"
            ],
            [
             0.6666666666666666,
             "#ed7953"
            ],
            [
             0.7777777777777778,
             "#fb9f3a"
            ],
            [
             0.8888888888888888,
             "#fdca26"
            ],
            [
             1,
             "#f0f921"
            ]
           ],
           "sequentialminus": [
            [
             0,
             "#0d0887"
            ],
            [
             0.1111111111111111,
             "#46039f"
            ],
            [
             0.2222222222222222,
             "#7201a8"
            ],
            [
             0.3333333333333333,
             "#9c179e"
            ],
            [
             0.4444444444444444,
             "#bd3786"
            ],
            [
             0.5555555555555556,
             "#d8576b"
            ],
            [
             0.6666666666666666,
             "#ed7953"
            ],
            [
             0.7777777777777778,
             "#fb9f3a"
            ],
            [
             0.8888888888888888,
             "#fdca26"
            ],
            [
             1,
             "#f0f921"
            ]
           ]
          },
          "colorway": [
           "#636efa",
           "#EF553B",
           "#00cc96",
           "#ab63fa",
           "#FFA15A",
           "#19d3f3",
           "#FF6692",
           "#B6E880",
           "#FF97FF",
           "#FECB52"
          ],
          "font": {
           "color": "#2a3f5f"
          },
          "geo": {
           "bgcolor": "white",
           "lakecolor": "white",
           "landcolor": "#E5ECF6",
           "showlakes": true,
           "showland": true,
           "subunitcolor": "white"
          },
          "hoverlabel": {
           "align": "left"
          },
          "hovermode": "closest",
          "mapbox": {
           "style": "light"
          },
          "paper_bgcolor": "white",
          "plot_bgcolor": "#E5ECF6",
          "polar": {
           "angularaxis": {
            "gridcolor": "white",
            "linecolor": "white",
            "ticks": ""
           },
           "bgcolor": "#E5ECF6",
           "radialaxis": {
            "gridcolor": "white",
            "linecolor": "white",
            "ticks": ""
           }
          },
          "scene": {
           "xaxis": {
            "backgroundcolor": "#E5ECF6",
            "gridcolor": "white",
            "gridwidth": 2,
            "linecolor": "white",
            "showbackground": true,
            "ticks": "",
            "zerolinecolor": "white"
           },
           "yaxis": {
            "backgroundcolor": "#E5ECF6",
            "gridcolor": "white",
            "gridwidth": 2,
            "linecolor": "white",
            "showbackground": true,
            "ticks": "",
            "zerolinecolor": "white"
           },
           "zaxis": {
            "backgroundcolor": "#E5ECF6",
            "gridcolor": "white",
            "gridwidth": 2,
            "linecolor": "white",
            "showbackground": true,
            "ticks": "",
            "zerolinecolor": "white"
           }
          },
          "shapedefaults": {
           "line": {
            "color": "#2a3f5f"
           }
          },
          "ternary": {
           "aaxis": {
            "gridcolor": "white",
            "linecolor": "white",
            "ticks": ""
           },
           "baxis": {
            "gridcolor": "white",
            "linecolor": "white",
            "ticks": ""
           },
           "bgcolor": "#E5ECF6",
           "caxis": {
            "gridcolor": "white",
            "linecolor": "white",
            "ticks": ""
           }
          },
          "title": {
           "x": 0.05
          },
          "xaxis": {
           "automargin": true,
           "gridcolor": "white",
           "linecolor": "white",
           "ticks": "",
           "title": {
            "standoff": 15
           },
           "zerolinecolor": "white",
           "zerolinewidth": 2
          },
          "yaxis": {
           "automargin": true,
           "gridcolor": "white",
           "linecolor": "white",
           "ticks": "",
           "title": {
            "standoff": 15
           },
           "zerolinecolor": "white",
           "zerolinewidth": 2
          }
         }
        },
        "title": {
         "text": "Subject 1 PPG Signal Over Time"
        },
        "xaxis": {
         "anchor": "y",
         "domain": [
          0,
          1
         ],
         "title": {
          "text": "x"
         }
        },
        "yaxis": {
         "anchor": "x",
         "domain": [
          0,
          1
         ],
         "title": {
          "text": "y"
         }
        }
       }
      }
     },
     "metadata": {},
     "output_type": "display_data"
    }
   ],
   "source": [
    "#ploting subject 1 data \n",
    "\n",
    "fig = px.line(x=subject_1_df['time'], y=subject_1_df['ppg_signal'], title='Subject 1 PPG Signal Over Time')\n",
    "fig.show()"
   ]
  },
  {
   "cell_type": "code",
   "execution_count": null,
   "id": "4dd1063f",
   "metadata": {},
   "outputs": [
    {
     "name": "stdout",
     "output_type": "stream",
     "text": [
      "0.00178060788539396\n"
     ]
    }
   ],
   "source": [
    "#finding subject 1 mean \n",
    "\n",
    "subject_1_mean = subject_1_df['ppg_signal'].mean()\n",
    "print(subject_1_mean)"
   ]
  },
  {
   "cell_type": "code",
   "execution_count": null,
   "id": "65f753a7",
   "metadata": {},
   "outputs": [
    {
     "name": "stdout",
     "output_type": "stream",
     "text": [
      "0.001270761080362\n"
     ]
    }
   ],
   "source": [
    "#subject 1  median \n",
    "\n",
    "subjec_1_median = subject_1_df['ppg_signal'].median()\n",
    "print(subjec_1_median)"
   ]
  },
  {
   "cell_type": "code",
   "execution_count": null,
   "id": "52077bfd",
   "metadata": {},
   "outputs": [
    {
     "name": "stdout",
     "output_type": "stream",
     "text": [
      "0.22494504871165374\n"
     ]
    }
   ],
   "source": [
    "#subject 1 variance \n",
    "\n",
    "subject_1_variance = subject_1_df['ppg_signal'].var()\n",
    "print(subject_1_variance)\n"
   ]
  },
  {
   "cell_type": "code",
   "execution_count": null,
   "id": "fa654511",
   "metadata": {},
   "outputs": [
    {
     "name": "stdout",
     "output_type": "stream",
     "text": [
      "     0\n",
      "0  411\n"
     ]
    }
   ],
   "source": [
    "\n",
    "\n",
    "subject_1_peak_count = []\n",
    "for subject_id in subject_1_df['subject_id'].unique():\n",
    "    sub_data = subject_1_df[subject_1_df['subject_id'] == subject_id]\n",
    "    signal = sub_data['ppg_signal'].values\n",
    "    peaks, _ = find_peaks(signal)\n",
    "    subject_1_peak_count.append(len(peaks))\n",
    "    \n",
    "subject_1_peak_count_df = pd.DataFrame(subject_1_peak_count)\n",
    "print(subject_1_peak_count_df.head())"
   ]
  },
  {
   "cell_type": "code",
   "execution_count": null,
   "id": "f557060d",
   "metadata": {},
   "outputs": [
    {
     "name": "stdout",
     "output_type": "stream",
     "text": [
      "   subject_id  avg_rr_interval_ms  std_rr_interval_ms\n",
      "0           1          146.048732          130.102519\n"
     ]
    }
   ],
   "source": [
    "\n",
    "\n",
    "subject_1_rr_interval = []\n",
    "subject_1_rr_interval_stats = []\n",
    "\n",
    "for subject_id in subject_1_df['subject_id'].unique():\n",
    "    \n",
    "    subject_data = subject_1_df[subject_1_df['subject_id'] == subject_id]\n",
    "    \n",
    "    signal = subject_data['ppg_signal'].values\n",
    "    time = subject_data['time'].values\n",
    "    \n",
    "\n",
    "    peaks, _ = find_peaks(signal)  \n",
    "\n",
    "\n",
    "    rr_intervals = np.diff(time[peaks]) * 1000  \n",
    "\n",
    "    subject_1_rr_interval_stats.append({\n",
    "        'subject_id': subject_id,\n",
    "        'avg_rr_interval_ms': np.mean(rr_intervals) if len(rr_intervals) > 0 else np.nan,\n",
    "        'std_rr_interval_ms': np.std(rr_intervals) if len(rr_intervals) > 0 else np.nan\n",
    "    })\n",
    "\n",
    "subject_1_rr_interval_df = pd.DataFrame(subject_1_rr_interval_stats)\n",
    "\n",
    "print(subject_1_rr_interval_df.head())"
   ]
  },
  {
   "cell_type": "code",
   "execution_count": null,
   "id": "3412cfc6",
   "metadata": {},
   "outputs": [
    {
     "data": {
      "application/vnd.plotly.v1+json": {
       "config": {
        "plotlyServerURL": "https://plot.ly"
       },
       "data": [
        {
         "hovertemplate": "x=%{x}<br>y=%{y}<extra></extra>",
         "legendgroup": "",
         "line": {
          "color": "#636efa",
          "dash": "solid"
         },
         "marker": {
          "symbol": "circle"
         },
         "mode": "lines",
         "name": "",
         "showlegend": false,
         "type": "scattergl",
         "x": {
          "bdata": "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",
          "dtype": "f8"
         },
         "xaxis": "x",
         "y": {
          "bdata": "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",
          "dtype": "f8"
         },
         "yaxis": "y"
        },
        {
         "mode": "markers",
         "name": "Peaks",
         "type": "scatter",
         "x": {
          "bdata": "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",
          "dtype": "f8"
         },
         "y": {
          "bdata": "P3++rn2N6T9CVYnGUoSwP4Bo7C0XBJE/cQHVrx6SgL/VNYNuI+igv2Z6xh6s8+g/hr2baj/t6D9YECfkq4uLPw94aMjknYY/r7o3fCJs6L90TZaW7EjpP9Bdn+hxgX2/3fYEm+MAZz/e4cGYoafoP5enI8W6wuc/NVZn2ksteD9Ra1nm2WaAP6eCAu7BZIY/ODbV36Sr6T90QtX2TatoP5TR/hftIIE/pJStVWlB6T/vPlCzicZ0P6pio+nhAoI/CZOjEOi+Oz/RUiPgUF3ov+/lbFJ87Og/DxEgeEg1mT88SO0/eySbPxLZ7tRx8mY/D9dLOwlxiD/VtX3fgU6gv95BaCvvvei/j/Zs9Ies6D9vg9ch9iGLP7vAuYJyD5A/GodzAXILZj/1F1nZqrHnv7Pg0YNfV+k/miHaaBfUhz8YN4NtuwmJP9x9Oj05j2o/zQxaVYft6L8crBqIXt/oPySVW1yaX6E/ez9tb1kLgz86XfXNFg7pP/O8k/u6pug/Hz7UZvEbhj+DDgHE8NMqv8zN6hBVxXI/sEjMtaAL6T8fFdSSmquLP4zNirUBWoY/3jIICVAneD+Hx2w33WHpP275URKrXoE/KtziLb0xX78NLj4tFi2PP3/bB7eTIek/31BlJNHdlz+YA9eTzXdcvwWlqAqbKGs/6FiLgaljjr8/9kdc/oToP8h9KWYtm+g/9YxZb2T4gj8CIN7/TiLpP4CDxy4mw5k/wQT/xWuWej8ow+OhdzjpP2EOANkftJA/pjKMBMocgz8JBseufWpvP/aNljwPHHw//Gk+j2vx6D9tkL2IrNNwv3eXURjEflc/qK5j3AwW6D/PiqQTRtHoPwqtE2dk4ug/PLNyC4jvdz8AHlA25FeMP9BT9O+CaVq/hYzc08M86T/YtzljzsJMv7IHzcSrv5A/gNBL9dkF6T8mwFork8voP/sF/vbZZXs/UfLHybMDgD/L4Zamp47ov8B/4uJFNek/hjHqHx9TeT9PlSy9QN2RP7wlcN0dFpS/hh4jp2kx6T+T9t0hLHNzPx67TOHjvHQ/AMfJUmp8Ez8mN4ikETzpPy7vEzhh+nU/qf5ql0xbez/Ff+AQ3t7oP8GSlHaE/4M/l8L7c+SPiT81pH8kAwGVv5f176qdPuk/gY6Y5lq3kj9ISD1Y4HFZP0UX3EsDd14/I0G6ZT4S6T+mgW5OOjCgPy2jUhoFA5A/PvLrLkQn6T9qLIKB5amTP494yB2fSIA/Dd1kIBDicz+4TpI/xfR4vwW1aCevrOk/sgCGcA7nmD/E+J1aGGJ/P6iu7Bzzgy2/eBhpt8T26D8UI22PzxuDP7m8qMq3wXY/V1X8hE2J6D+hPJbW+dzoP+bH19qxbYA/6kX7O+VlKj8WJMytcQszv32vXQEZE5C/A5iw7ev86D/ODodAyj6QPzGPVeAKM4Y/x4O6D+0AWD/u1pCtEIDpP/+V1yD2SGi/j+eUIH2igb+L8a06TweVv91bE83rGOk/n/eoODjhkD8vMk2A1k9iv+5LJmZezWS/SOrapZ77lr/2HYGsByPpP5L0cMGDl5A/StgxeWeahj8svAG1h4RwPyUXOijiL+k/yvOtbOQKjj+rnwkCWXp1PzM2+GJiI6a/yrgOP4hp6L+v2McF5IDpP0P4d1vRR3Q/yLK22MR6hz/huQx1HZuDv/DUq8f3hei/O+UtY8oN6T+U5+MaVBGJPz04iVr4vFY/5xNlfl0k6T/e7zD1MI7oP5gN8Lz5cZk/RD4yC3tkjT+PGo5JmuKTv2BOvN/wH+k/fGCHtnKDcz8EO9ctSX4ev0u17OeTEXg/l57P0yY3gD8RrwpizO7oPzlkA999rpE/xVSsY8rajz/06ydvik3pPzUrtc/nOGo/B1YcQIVye7/b1kS/komTv1DXQSr9Gbe/Kl8ju2JK6T/MnTi/ArRiv7ZIg+6LaXG/8ZuZL/Jmkr/YzVl3tPfoP5AohSkEcIU/mJPu5l8GaT95z800JpvoP2y5rcwgrug/xX106BqhoT8ZtjNg3mWDP3dnrZ/kL4A/fmgEvsdWgb8NQD0/viqqv5pW0dRp+eg/ZAOG8aWiYD+vWRJQi+BXv6ho8iYQfq6/ID8OTqdq6L8sasyxnTvpP53DrPdrCIo/ac7K37IUgb9zDK9o5EHov742PY5wmeg/KaoqyYce6T948u7jjTaXP58eAU6q5Vg/V4mxMpHdYL/u9cNQbSalv0BfF14EAug/w+NeK3TY6D8mBzvoa5zoP/gqeLXQKoI/TTyOLl2ed786L23knd6jv0oNybXdi+g/3lBIKS5F6T+0PBd0UKboP1rHPY0H0Kg/lOKqXr67ar/TKs2fkv91v6OkBx8D/Oe/YN1KZyyH6D8y9uGf7oToP7Q//M3dFZU/nygS8RJ1kT/ugOW0y+Byv6WC1MtA+aC/vuhjI1ry579e87r6hLboPzahNfmDnpY/EKSGUqhqdT8sziK5l3PpP4812OMWUX0/g8iK7tQeYz+A9+tLSczoP5nfBo+Wd3w/+8w9C56CLz/mDivBATrov0AtffuII+k/fGT0OZJ0pj/wBCm3ToGLP9ph4XxoxIk/9MZgUQCs6L+QOxICb5bpP8YfTVqG6pM/0hDrHWU8Yj/EudarRmzov3jUxJdHQek/2T9BgEBYbb9hiiG7OU1tP9GTSahRvHm/F/zGoO0s6T8b3I5RudJ/P47yP1FjRIE/f1N+ilmEqb8WBf2AORHpPyOeQePnmok/Y96GH4+IiT/BSZsHkpjoP5uMW8sU8eg/h1Sb/Dh4TD86MqcVD5A+v15j2FfvDJG/D7NyvkW86D9czWtZrHrpP6xnvB0YEm0/QpVjZkHhcj/tHtBsQz/pP9tiA5vPfuk/yZtcYX5NjD9fW+7hQBhsP8LjcspIQna/OJ1a+R8U6T+GRmnuPLCBPwTi6LzZ8mY/23472t/Pg78TpqEdcwfpP6Ds047F9nI/okQyA8tJZD8rJL1UcifoP1IzTZ+wGek/cf4r7tzYaz+npA8pB/SIP8/Itn8oFei/kXnDtyBm6T9leViS562dP8b0exj0E2U/RHETZbYs6T8NdfcZuCqSP10IoD1KnYM/9lm9HiGyZz/csmTHutjoP0CQjYkZIGE/AfQTWZXvkr88y9JjFq/ovxTuBWht9eg/QRszuBgLjj9w6lBEuLOGP3byqWz/3eg/uyOkPSI/nj8vxUJg/91IP3tqDFr2h3E/k107ocnE6D8UaK8wHYzoP35EjJ6aC5Y/yAILVbQe6L/YgIC04PXoPwYGMVwnt4E/o6akUsx3bT8eEN3LS+h0v+l0LG307eg/5PC1EOrjoD8eCP1S7xWRP3UtyYVXPoW/z7QjXYnz6D9tT4BED2eUPy5x8zSYeOk/kDl8KoUwmj/T8fMgRySZP8nbfwdUQWw/d/19pfXpgb+JvvQ/sHHov5PxxoI5Eek/mj3x8+uLgT+Mub80P7qBPzgt2cyjG+k/hps5SvK+lD/2tK492Wtrv+cruRc96nA/p3TaVQSy6D8SW00SZ2DoP+0Je4ba+Ig/peeIsXVXaD/DBJjDnLPov6Y6t5ZuK+k/Q6NINf6fvz/Uh2uu429+P52WvmPw15O/i5cdnT426T/KSqxcXleoPyl3y4sq+JM/FMQ9jR4mnr+MoI4x01PovxYBykP5Hek/Xj3AdXIpkj9QeFG+jiecP/0RFaZUnei/XVkqIaU86T+N5FPHi8GfP02DWsR8m5s/rAlMXInqaj+1dQnQbaXpPwcq3fCLXYU/MBcW9rc9iD8Um05Zi0Z9P9Anachw4+g/g6i90ALSgj/t7sYQZWqOv9saIDgI1ug/TAD5RBPm6D8IJwZbXhGmP2amiXPm4XE/wiuE8yNxdD86cYE0t+3oP6DjHCslR2Y/MZ2FhrOJVL89lm3uUybpPwD8wwyR65I/nL6O1QnNZr9joo9JhJRRPxZhnF54eei/W/W/z+Ev6T8dA9LHpPKPP4TwrnhJHIw/8rhNDk+N6L8xsAnDL/joP9V/tzJf4ug/yzmrV9jQgT8Q3LqRfArpPxgzX3jGlug/aipiXDCskz/eXb0m1SBRP4psiAltXI0/FlHiZdVP6T/xk4u9eSToP0VYTV7TeHw/14AmSwTZoL/q05ZYbo3ov09+52dLleg/rXkZJ9Z06D/oULc8HON8P6hFuiE6U5C/1jo17ofC6L/MHyoQZMnoP8P+vUgWunG/Sz5TTgf+db9FBlx7eORqP6Gj1jPZluk/7S51KWlmjT9fifXY/6prPxUh2YM9vYw/0TV6pdIj6T/hQUVXpgF9P50lsgE2voM/Mu4/dqVRkb9Rz5BCluvovx5XoS0zFOk/YXi5AzqFjz8XbBYbstWQP11EFoGiiEw/",
          "dtype": "f8"
         }
        }
       ],
       "layout": {
        "legend": {
         "tracegroupgap": 0
        },
        "template": {
         "data": {
          "bar": [
           {
            "error_x": {
             "color": "#2a3f5f"
            },
            "error_y": {
             "color": "#2a3f5f"
            },
            "marker": {
             "line": {
              "color": "#E5ECF6",
              "width": 0.5
             },
             "pattern": {
              "fillmode": "overlay",
              "size": 10,
              "solidity": 0.2
             }
            },
            "type": "bar"
           }
          ],
          "barpolar": [
           {
            "marker": {
             "line": {
              "color": "#E5ECF6",
              "width": 0.5
             },
             "pattern": {
              "fillmode": "overlay",
              "size": 10,
              "solidity": 0.2
             }
            },
            "type": "barpolar"
           }
          ],
          "carpet": [
           {
            "aaxis": {
             "endlinecolor": "#2a3f5f",
             "gridcolor": "white",
             "linecolor": "white",
             "minorgridcolor": "white",
             "startlinecolor": "#2a3f5f"
            },
            "baxis": {
             "endlinecolor": "#2a3f5f",
             "gridcolor": "white",
             "linecolor": "white",
             "minorgridcolor": "white",
             "startlinecolor": "#2a3f5f"
            },
            "type": "carpet"
           }
          ],
          "choropleth": [
           {
            "colorbar": {
             "outlinewidth": 0,
             "ticks": ""
            },
            "type": "choropleth"
           }
          ],
          "contour": [
           {
            "colorbar": {
             "outlinewidth": 0,
             "ticks": ""
            },
            "colorscale": [
             [
              0,
              "#0d0887"
             ],
             [
              0.1111111111111111,
              "#46039f"
             ],
             [
              0.2222222222222222,
              "#7201a8"
             ],
             [
              0.3333333333333333,
              "#9c179e"
             ],
             [
              0.4444444444444444,
              "#bd3786"
             ],
             [
              0.5555555555555556,
              "#d8576b"
             ],
             [
              0.6666666666666666,
              "#ed7953"
             ],
             [
              0.7777777777777778,
              "#fb9f3a"
             ],
             [
              0.8888888888888888,
              "#fdca26"
             ],
             [
              1,
              "#f0f921"
             ]
            ],
            "type": "contour"
           }
          ],
          "contourcarpet": [
           {
            "colorbar": {
             "outlinewidth": 0,
             "ticks": ""
            },
            "type": "contourcarpet"
           }
          ],
          "heatmap": [
           {
            "colorbar": {
             "outlinewidth": 0,
             "ticks": ""
            },
            "colorscale": [
             [
              0,
              "#0d0887"
             ],
             [
              0.1111111111111111,
              "#46039f"
             ],
             [
              0.2222222222222222,
              "#7201a8"
             ],
             [
              0.3333333333333333,
              "#9c179e"
             ],
             [
              0.4444444444444444,
              "#bd3786"
             ],
             [
              0.5555555555555556,
              "#d8576b"
             ],
             [
              0.6666666666666666,
              "#ed7953"
             ],
             [
              0.7777777777777778,
              "#fb9f3a"
             ],
             [
              0.8888888888888888,
              "#fdca26"
             ],
             [
              1,
              "#f0f921"
             ]
            ],
            "type": "heatmap"
           }
          ],
          "histogram": [
           {
            "marker": {
             "pattern": {
              "fillmode": "overlay",
              "size": 10,
              "solidity": 0.2
             }
            },
            "type": "histogram"
           }
          ],
          "histogram2d": [
           {
            "colorbar": {
             "outlinewidth": 0,
             "ticks": ""
            },
            "colorscale": [
             [
              0,
              "#0d0887"
             ],
             [
              0.1111111111111111,
              "#46039f"
             ],
             [
              0.2222222222222222,
              "#7201a8"
             ],
             [
              0.3333333333333333,
              "#9c179e"
             ],
             [
              0.4444444444444444,
              "#bd3786"
             ],
             [
              0.5555555555555556,
              "#d8576b"
             ],
             [
              0.6666666666666666,
              "#ed7953"
             ],
             [
              0.7777777777777778,
              "#fb9f3a"
             ],
             [
              0.8888888888888888,
              "#fdca26"
             ],
             [
              1,
              "#f0f921"
             ]
            ],
            "type": "histogram2d"
           }
          ],
          "histogram2dcontour": [
           {
            "colorbar": {
             "outlinewidth": 0,
             "ticks": ""
            },
            "colorscale": [
             [
              0,
              "#0d0887"
             ],
             [
              0.1111111111111111,
              "#46039f"
             ],
             [
              0.2222222222222222,
              "#7201a8"
             ],
             [
              0.3333333333333333,
              "#9c179e"
             ],
             [
              0.4444444444444444,
              "#bd3786"
             ],
             [
              0.5555555555555556,
              "#d8576b"
             ],
             [
              0.6666666666666666,
              "#ed7953"
             ],
             [
              0.7777777777777778,
              "#fb9f3a"
             ],
             [
              0.8888888888888888,
              "#fdca26"
             ],
             [
              1,
              "#f0f921"
             ]
            ],
            "type": "histogram2dcontour"
           }
          ],
          "mesh3d": [
           {
            "colorbar": {
             "outlinewidth": 0,
             "ticks": ""
            },
            "type": "mesh3d"
           }
          ],
          "parcoords": [
           {
            "line": {
             "colorbar": {
              "outlinewidth": 0,
              "ticks": ""
             }
            },
            "type": "parcoords"
           }
          ],
          "pie": [
           {
            "automargin": true,
            "type": "pie"
           }
          ],
          "scatter": [
           {
            "fillpattern": {
             "fillmode": "overlay",
             "size": 10,
             "solidity": 0.2
            },
            "type": "scatter"
           }
          ],
          "scatter3d": [
           {
            "line": {
             "colorbar": {
              "outlinewidth": 0,
              "ticks": ""
             }
            },
            "marker": {
             "colorbar": {
              "outlinewidth": 0,
              "ticks": ""
             }
            },
            "type": "scatter3d"
           }
          ],
          "scattercarpet": [
           {
            "marker": {
             "colorbar": {
              "outlinewidth": 0,
              "ticks": ""
             }
            },
            "type": "scattercarpet"
           }
          ],
          "scattergeo": [
           {
            "marker": {
             "colorbar": {
              "outlinewidth": 0,
              "ticks": ""
             }
            },
            "type": "scattergeo"
           }
          ],
          "scattergl": [
           {
            "marker": {
             "colorbar": {
              "outlinewidth": 0,
              "ticks": ""
             }
            },
            "type": "scattergl"
           }
          ],
          "scattermap": [
           {
            "marker": {
             "colorbar": {
              "outlinewidth": 0,
              "ticks": ""
             }
            },
            "type": "scattermap"
           }
          ],
          "scattermapbox": [
           {
            "marker": {
             "colorbar": {
              "outlinewidth": 0,
              "ticks": ""
             }
            },
            "type": "scattermapbox"
           }
          ],
          "scatterpolar": [
           {
            "marker": {
             "colorbar": {
              "outlinewidth": 0,
              "ticks": ""
             }
            },
            "type": "scatterpolar"
           }
          ],
          "scatterpolargl": [
           {
            "marker": {
             "colorbar": {
              "outlinewidth": 0,
              "ticks": ""
             }
            },
            "type": "scatterpolargl"
           }
          ],
          "scatterternary": [
           {
            "marker": {
             "colorbar": {
              "outlinewidth": 0,
              "ticks": ""
             }
            },
            "type": "scatterternary"
           }
          ],
          "surface": [
           {
            "colorbar": {
             "outlinewidth": 0,
             "ticks": ""
            },
            "colorscale": [
             [
              0,
              "#0d0887"
             ],
             [
              0.1111111111111111,
              "#46039f"
             ],
             [
              0.2222222222222222,
              "#7201a8"
             ],
             [
              0.3333333333333333,
              "#9c179e"
             ],
             [
              0.4444444444444444,
              "#bd3786"
             ],
             [
              0.5555555555555556,
              "#d8576b"
             ],
             [
              0.6666666666666666,
              "#ed7953"
             ],
             [
              0.7777777777777778,
              "#fb9f3a"
             ],
             [
              0.8888888888888888,
              "#fdca26"
             ],
             [
              1,
              "#f0f921"
             ]
            ],
            "type": "surface"
           }
          ],
          "table": [
           {
            "cells": {
             "fill": {
              "color": "#EBF0F8"
             },
             "line": {
              "color": "white"
             }
            },
            "header": {
             "fill": {
              "color": "#C8D4E3"
             },
             "line": {
              "color": "white"
             }
            },
            "type": "table"
           }
          ]
         },
         "layout": {
          "annotationdefaults": {
           "arrowcolor": "#2a3f5f",
           "arrowhead": 0,
           "arrowwidth": 1
          },
          "autotypenumbers": "strict",
          "coloraxis": {
           "colorbar": {
            "outlinewidth": 0,
            "ticks": ""
           }
          },
          "colorscale": {
           "diverging": [
            [
             0,
             "#8e0152"
            ],
            [
             0.1,
             "#c51b7d"
            ],
            [
             0.2,
             "#de77ae"
            ],
            [
             0.3,
             "#f1b6da"
            ],
            [
             0.4,
             "#fde0ef"
            ],
            [
             0.5,
             "#f7f7f7"
            ],
            [
             0.6,
             "#e6f5d0"
            ],
            [
             0.7,
             "#b8e186"
            ],
            [
             0.8,
             "#7fbc41"
            ],
            [
             0.9,
             "#4d9221"
            ],
            [
             1,
             "#276419"
            ]
           ],
           "sequential": [
            [
             0,
             "#0d0887"
            ],
            [
             0.1111111111111111,
             "#46039f"
            ],
            [
             0.2222222222222222,
             "#7201a8"
            ],
            [
             0.3333333333333333,
             "#9c179e"
            ],
            [
             0.4444444444444444,
             "#bd3786"
            ],
            [
             0.5555555555555556,
             "#d8576b"
            ],
            [
             0.6666666666666666,
             "#ed7953"
            ],
            [
             0.7777777777777778,
             "#fb9f3a"
            ],
            [
             0.8888888888888888,
             "#fdca26"
            ],
            [
             1,
             "#f0f921"
            ]
           ],
           "sequentialminus": [
            [
             0,
             "#0d0887"
            ],
            [
             0.1111111111111111,
             "#46039f"
            ],
            [
             0.2222222222222222,
             "#7201a8"
            ],
            [
             0.3333333333333333,
             "#9c179e"
            ],
            [
             0.4444444444444444,
             "#bd3786"
            ],
            [
             0.5555555555555556,
             "#d8576b"
            ],
            [
             0.6666666666666666,
             "#ed7953"
            ],
            [
             0.7777777777777778,
             "#fb9f3a"
            ],
            [
             0.8888888888888888,
             "#fdca26"
            ],
            [
             1,
             "#f0f921"
            ]
           ]
          },
          "colorway": [
           "#636efa",
           "#EF553B",
           "#00cc96",
           "#ab63fa",
           "#FFA15A",
           "#19d3f3",
           "#FF6692",
           "#B6E880",
           "#FF97FF",
           "#FECB52"
          ],
          "font": {
           "color": "#2a3f5f"
          },
          "geo": {
           "bgcolor": "white",
           "lakecolor": "white",
           "landcolor": "#E5ECF6",
           "showlakes": true,
           "showland": true,
           "subunitcolor": "white"
          },
          "hoverlabel": {
           "align": "left"
          },
          "hovermode": "closest",
          "mapbox": {
           "style": "light"
          },
          "paper_bgcolor": "white",
          "plot_bgcolor": "#E5ECF6",
          "polar": {
           "angularaxis": {
            "gridcolor": "white",
            "linecolor": "white",
            "ticks": ""
           },
           "bgcolor": "#E5ECF6",
           "radialaxis": {
            "gridcolor": "white",
            "linecolor": "white",
            "ticks": ""
           }
          },
          "scene": {
           "xaxis": {
            "backgroundcolor": "#E5ECF6",
            "gridcolor": "white",
            "gridwidth": 2,
            "linecolor": "white",
            "showbackground": true,
            "ticks": "",
            "zerolinecolor": "white"
           },
           "yaxis": {
            "backgroundcolor": "#E5ECF6",
            "gridcolor": "white",
            "gridwidth": 2,
            "linecolor": "white",
            "showbackground": true,
            "ticks": "",
            "zerolinecolor": "white"
           },
           "zaxis": {
            "backgroundcolor": "#E5ECF6",
            "gridcolor": "white",
            "gridwidth": 2,
            "linecolor": "white",
            "showbackground": true,
            "ticks": "",
            "zerolinecolor": "white"
           }
          },
          "shapedefaults": {
           "line": {
            "color": "#2a3f5f"
           }
          },
          "ternary": {
           "aaxis": {
            "gridcolor": "white",
            "linecolor": "white",
            "ticks": ""
           },
           "baxis": {
            "gridcolor": "white",
            "linecolor": "white",
            "ticks": ""
           },
           "bgcolor": "#E5ECF6",
           "caxis": {
            "gridcolor": "white",
            "linecolor": "white",
            "ticks": ""
           }
          },
          "title": {
           "x": 0.05
          },
          "xaxis": {
           "automargin": true,
           "gridcolor": "white",
           "linecolor": "white",
           "ticks": "",
           "title": {
            "standoff": 15
           },
           "zerolinecolor": "white",
           "zerolinewidth": 2
          },
          "yaxis": {
           "automargin": true,
           "gridcolor": "white",
           "linecolor": "white",
           "ticks": "",
           "title": {
            "standoff": 15
           },
           "zerolinecolor": "white",
           "zerolinewidth": 2
          }
         }
        },
        "title": {
         "text": "Subject 1 PPG Signal Over Time"
        },
        "xaxis": {
         "anchor": "y",
         "domain": [
          0,
          1
         ],
         "title": {
          "text": "x"
         }
        },
        "yaxis": {
         "anchor": "x",
         "domain": [
          0,
          1
         ],
         "title": {
          "text": "y"
         }
        }
       }
      }
     },
     "metadata": {},
     "output_type": "display_data"
    }
   ],
   "source": [
    "\n",
    "fig = px.line(x=subject_1_df['time'], y=subject_1_df['ppg_signal'], title='Subject 1 PPG Signal Over Time')\n",
    "fig.add_scatter(x=subject_1_df['time'].iloc[peaks], y=subject_1_df['ppg_signal'].iloc[peaks], mode='markers', name='Peaks')\n",
    "fig.show()"
   ]
  },
  {
   "cell_type": "code",
   "execution_count": null,
   "id": "b63a1a5c",
   "metadata": {},
   "outputs": [
    {
     "data": {
      "application/vnd.plotly.v1+json": {
       "config": {
        "plotlyServerURL": "https://plot.ly"
       },
       "data": [
        {
         "hovertemplate": "x=%{x}<br>y=%{y}<extra></extra>",
         "legendgroup": "",
         "line": {
          "color": "#636efa",
          "dash": "solid"
         },
         "marker": {
          "symbol": "circle"
         },
         "mode": "lines",
         "name": "",
         "showlegend": false,
         "type": "scattergl",
         "x": {
          "bdata": "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",
          "dtype": "f8"
         },
         "xaxis": "x",
         "y": {
          "bdata": "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",
          "dtype": "f8"
         },
         "yaxis": "y"
        },
        {
         "mode": "markers",
         "name": "Peaks",
         "type": "scatter",
         "x": {
          "bdata": "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",
          "dtype": "f8"
         },
         "y": {
          "bdata": "P3++rn2N6T9CVYnGUoSwP4Bo7C0XBJE/cQHVrx6SgL/VNYNuI+igv2Z6xh6s8+g/hr2baj/t6D9YECfkq4uLPw94aMjknYY/r7o3fCJs6L90TZaW7EjpP9Bdn+hxgX2/3fYEm+MAZz/e4cGYoafoP5enI8W6wuc/NVZn2ksteD9Ra1nm2WaAP6eCAu7BZIY/ODbV36Sr6T90QtX2TatoP5TR/hftIIE/pJStVWlB6T/vPlCzicZ0P6pio+nhAoI/CZOjEOi+Oz/RUiPgUF3ov+/lbFJ87Og/DxEgeEg1mT88SO0/eySbPxLZ7tRx8mY/D9dLOwlxiD/VtX3fgU6gv95BaCvvvei/j/Zs9Ies6D9vg9ch9iGLP7vAuYJyD5A/GodzAXILZj/1F1nZqrHnv7Pg0YNfV+k/miHaaBfUhz8YN4NtuwmJP9x9Oj05j2o/zQxaVYft6L8crBqIXt/oPySVW1yaX6E/ez9tb1kLgz86XfXNFg7pP/O8k/u6pug/Hz7UZvEbhj+DDgHE8NMqv8zN6hBVxXI/sEjMtaAL6T8fFdSSmquLP4zNirUBWoY/3jIICVAneD+Hx2w33WHpP275URKrXoE/KtziLb0xX78NLj4tFi2PP3/bB7eTIek/31BlJNHdlz+YA9eTzXdcvwWlqAqbKGs/6FiLgaljjr8/9kdc/oToP8h9KWYtm+g/9YxZb2T4gj8CIN7/TiLpP4CDxy4mw5k/wQT/xWuWej8ow+OhdzjpP2EOANkftJA/pjKMBMocgz8JBseufWpvP/aNljwPHHw//Gk+j2vx6D9tkL2IrNNwv3eXURjEflc/qK5j3AwW6D/PiqQTRtHoPwqtE2dk4ug/PLNyC4jvdz8AHlA25FeMP9BT9O+CaVq/hYzc08M86T/YtzljzsJMv7IHzcSrv5A/gNBL9dkF6T8mwFork8voP/sF/vbZZXs/UfLHybMDgD/L4Zamp47ov8B/4uJFNek/hjHqHx9TeT9PlSy9QN2RP7wlcN0dFpS/hh4jp2kx6T+T9t0hLHNzPx67TOHjvHQ/AMfJUmp8Ez8mN4ikETzpPy7vEzhh+nU/qf5ql0xbez/Ff+AQ3t7oP8GSlHaE/4M/l8L7c+SPiT81pH8kAwGVv5f176qdPuk/gY6Y5lq3kj9ISD1Y4HFZP0UX3EsDd14/I0G6ZT4S6T+mgW5OOjCgPy2jUhoFA5A/PvLrLkQn6T9qLIKB5amTP494yB2fSIA/Dd1kIBDicz+4TpI/xfR4vwW1aCevrOk/sgCGcA7nmD/E+J1aGGJ/P6iu7Bzzgy2/eBhpt8T26D8UI22PzxuDP7m8qMq3wXY/V1X8hE2J6D+hPJbW+dzoP+bH19qxbYA/6kX7O+VlKj8WJMytcQszv32vXQEZE5C/A5iw7ev86D/ODodAyj6QPzGPVeAKM4Y/x4O6D+0AWD/u1pCtEIDpP/+V1yD2SGi/j+eUIH2igb+L8a06TweVv91bE83rGOk/n/eoODjhkD8vMk2A1k9iv+5LJmZezWS/SOrapZ77lr/2HYGsByPpP5L0cMGDl5A/StgxeWeahj8svAG1h4RwPyUXOijiL+k/yvOtbOQKjj+rnwkCWXp1PzM2+GJiI6a/yrgOP4hp6L+v2McF5IDpP0P4d1vRR3Q/yLK22MR6hz/huQx1HZuDv/DUq8f3hei/O+UtY8oN6T+U5+MaVBGJPz04iVr4vFY/5xNlfl0k6T/e7zD1MI7oP5gN8Lz5cZk/RD4yC3tkjT+PGo5JmuKTv2BOvN/wH+k/fGCHtnKDcz8EO9ctSX4ev0u17OeTEXg/l57P0yY3gD8RrwpizO7oPzlkA999rpE/xVSsY8rajz/06ydvik3pPzUrtc/nOGo/B1YcQIVye7/b1kS/komTv1DXQSr9Gbe/Kl8ju2JK6T/MnTi/ArRiv7ZIg+6LaXG/8ZuZL/Jmkr/YzVl3tPfoP5AohSkEcIU/mJPu5l8GaT95z800JpvoP2y5rcwgrug/xX106BqhoT8ZtjNg3mWDP3dnrZ/kL4A/fmgEvsdWgb8NQD0/viqqv5pW0dRp+eg/ZAOG8aWiYD+vWRJQi+BXv6ho8iYQfq6/ID8OTqdq6L8sasyxnTvpP53DrPdrCIo/ac7K37IUgb9zDK9o5EHov742PY5wmeg/KaoqyYce6T948u7jjTaXP58eAU6q5Vg/V4mxMpHdYL/u9cNQbSalv0BfF14EAug/w+NeK3TY6D8mBzvoa5zoP/gqeLXQKoI/TTyOLl2ed786L23knd6jv0oNybXdi+g/3lBIKS5F6T+0PBd0UKboP1rHPY0H0Kg/lOKqXr67ar/TKs2fkv91v6OkBx8D/Oe/YN1KZyyH6D8y9uGf7oToP7Q//M3dFZU/nygS8RJ1kT/ugOW0y+Byv6WC1MtA+aC/vuhjI1ry579e87r6hLboPzahNfmDnpY/EKSGUqhqdT8sziK5l3PpP4812OMWUX0/g8iK7tQeYz+A9+tLSczoP5nfBo+Wd3w/+8w9C56CLz/mDivBATrov0AtffuII+k/fGT0OZJ0pj/wBCm3ToGLP9ph4XxoxIk/9MZgUQCs6L+QOxICb5bpP8YfTVqG6pM/0hDrHWU8Yj/EudarRmzov3jUxJdHQek/2T9BgEBYbb9hiiG7OU1tP9GTSahRvHm/F/zGoO0s6T8b3I5RudJ/P47yP1FjRIE/f1N+ilmEqb8WBf2AORHpPyOeQePnmok/Y96GH4+IiT/BSZsHkpjoP5uMW8sU8eg/h1Sb/Dh4TD86MqcVD5A+v15j2FfvDJG/D7NyvkW86D9czWtZrHrpP6xnvB0YEm0/QpVjZkHhcj/tHtBsQz/pP9tiA5vPfuk/yZtcYX5NjD9fW+7hQBhsP8LjcspIQna/OJ1a+R8U6T+GRmnuPLCBPwTi6LzZ8mY/23472t/Pg78TpqEdcwfpP6Ds047F9nI/okQyA8tJZD8rJL1UcifoP1IzTZ+wGek/cf4r7tzYaz+npA8pB/SIP8/Itn8oFei/kXnDtyBm6T9leViS562dP8b0exj0E2U/RHETZbYs6T8NdfcZuCqSP10IoD1KnYM/9lm9HiGyZz/csmTHutjoP0CQjYkZIGE/AfQTWZXvkr88y9JjFq/ovxTuBWht9eg/QRszuBgLjj9w6lBEuLOGP3byqWz/3eg/uyOkPSI/nj8vxUJg/91IP3tqDFr2h3E/k107ocnE6D8UaK8wHYzoP35EjJ6aC5Y/yAILVbQe6L/YgIC04PXoPwYGMVwnt4E/o6akUsx3bT8eEN3LS+h0v+l0LG307eg/5PC1EOrjoD8eCP1S7xWRP3UtyYVXPoW/z7QjXYnz6D9tT4BED2eUPy5x8zSYeOk/kDl8KoUwmj/T8fMgRySZP8nbfwdUQWw/d/19pfXpgb+JvvQ/sHHov5PxxoI5Eek/mj3x8+uLgT+Mub80P7qBPzgt2cyjG+k/hps5SvK+lD/2tK492Wtrv+cruRc96nA/p3TaVQSy6D8SW00SZ2DoP+0Je4ba+Ig/peeIsXVXaD/DBJjDnLPov6Y6t5ZuK+k/Q6NINf6fvz/Uh2uu429+P52WvmPw15O/i5cdnT426T/KSqxcXleoPyl3y4sq+JM/FMQ9jR4mnr+MoI4x01PovxYBykP5Hek/Xj3AdXIpkj9QeFG+jiecP/0RFaZUnei/XVkqIaU86T+N5FPHi8GfP02DWsR8m5s/rAlMXInqaj+1dQnQbaXpPwcq3fCLXYU/MBcW9rc9iD8Um05Zi0Z9P9Anachw4+g/g6i90ALSgj/t7sYQZWqOv9saIDgI1ug/TAD5RBPm6D8IJwZbXhGmP2amiXPm4XE/wiuE8yNxdD86cYE0t+3oP6DjHCslR2Y/MZ2FhrOJVL89lm3uUybpPwD8wwyR65I/nL6O1QnNZr9joo9JhJRRPxZhnF54eei/W/W/z+Ev6T8dA9LHpPKPP4TwrnhJHIw/8rhNDk+N6L8xsAnDL/joP9V/tzJf4ug/yzmrV9jQgT8Q3LqRfArpPxgzX3jGlug/aipiXDCskz/eXb0m1SBRP4psiAltXI0/FlHiZdVP6T/xk4u9eSToP0VYTV7TeHw/14AmSwTZoL/q05ZYbo3ov09+52dLleg/rXkZJ9Z06D/oULc8HON8P6hFuiE6U5C/1jo17ofC6L/MHyoQZMnoP8P+vUgWunG/Sz5TTgf+db9FBlx7eORqP6Gj1jPZluk/7S51KWlmjT9fifXY/6prPxUh2YM9vYw/0TV6pdIj6T/hQUVXpgF9P50lsgE2voM/Mu4/dqVRkb9Rz5BCluvovx5XoS0zFOk/YXi5AzqFjz8XbBYbstWQP11EFoGiiEw/",
          "dtype": "f8"
         }
        },
        {
         "mode": "markers",
         "name": "Velly",
         "type": "scatter",
         "x": {
          "bdata": "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",
          "dtype": "f8"
         },
         "y": {
          "bdata": "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",
          "dtype": "f8"
         }
        }
       ],
       "layout": {
        "legend": {
         "tracegroupgap": 0
        },
        "template": {
         "data": {
          "bar": [
           {
            "error_x": {
             "color": "#2a3f5f"
            },
            "error_y": {
             "color": "#2a3f5f"
            },
            "marker": {
             "line": {
              "color": "#E5ECF6",
              "width": 0.5
             },
             "pattern": {
              "fillmode": "overlay",
              "size": 10,
              "solidity": 0.2
             }
            },
            "type": "bar"
           }
          ],
          "barpolar": [
           {
            "marker": {
             "line": {
              "color": "#E5ECF6",
              "width": 0.5
             },
             "pattern": {
              "fillmode": "overlay",
              "size": 10,
              "solidity": 0.2
             }
            },
            "type": "barpolar"
           }
          ],
          "carpet": [
           {
            "aaxis": {
             "endlinecolor": "#2a3f5f",
             "gridcolor": "white",
             "linecolor": "white",
             "minorgridcolor": "white",
             "startlinecolor": "#2a3f5f"
            },
            "baxis": {
             "endlinecolor": "#2a3f5f",
             "gridcolor": "white",
             "linecolor": "white",
             "minorgridcolor": "white",
             "startlinecolor": "#2a3f5f"
            },
            "type": "carpet"
           }
          ],
          "choropleth": [
           {
            "colorbar": {
             "outlinewidth": 0,
             "ticks": ""
            },
            "type": "choropleth"
           }
          ],
          "contour": [
           {
            "colorbar": {
             "outlinewidth": 0,
             "ticks": ""
            },
            "colorscale": [
             [
              0,
              "#0d0887"
             ],
             [
              0.1111111111111111,
              "#46039f"
             ],
             [
              0.2222222222222222,
              "#7201a8"
             ],
             [
              0.3333333333333333,
              "#9c179e"
             ],
             [
              0.4444444444444444,
              "#bd3786"
             ],
             [
              0.5555555555555556,
              "#d8576b"
             ],
             [
              0.6666666666666666,
              "#ed7953"
             ],
             [
              0.7777777777777778,
              "#fb9f3a"
             ],
             [
              0.8888888888888888,
              "#fdca26"
             ],
             [
              1,
              "#f0f921"
             ]
            ],
            "type": "contour"
           }
          ],
          "contourcarpet": [
           {
            "colorbar": {
             "outlinewidth": 0,
             "ticks": ""
            },
            "type": "contourcarpet"
           }
          ],
          "heatmap": [
           {
            "colorbar": {
             "outlinewidth": 0,
             "ticks": ""
            },
            "colorscale": [
             [
              0,
              "#0d0887"
             ],
             [
              0.1111111111111111,
              "#46039f"
             ],
             [
              0.2222222222222222,
              "#7201a8"
             ],
             [
              0.3333333333333333,
              "#9c179e"
             ],
             [
              0.4444444444444444,
              "#bd3786"
             ],
             [
              0.5555555555555556,
              "#d8576b"
             ],
             [
              0.6666666666666666,
              "#ed7953"
             ],
             [
              0.7777777777777778,
              "#fb9f3a"
             ],
             [
              0.8888888888888888,
              "#fdca26"
             ],
             [
              1,
              "#f0f921"
             ]
            ],
            "type": "heatmap"
           }
          ],
          "histogram": [
           {
            "marker": {
             "pattern": {
              "fillmode": "overlay",
              "size": 10,
              "solidity": 0.2
             }
            },
            "type": "histogram"
           }
          ],
          "histogram2d": [
           {
            "colorbar": {
             "outlinewidth": 0,
             "ticks": ""
            },
            "colorscale": [
             [
              0,
              "#0d0887"
             ],
             [
              0.1111111111111111,
              "#46039f"
             ],
             [
              0.2222222222222222,
              "#7201a8"
             ],
             [
              0.3333333333333333,
              "#9c179e"
             ],
             [
              0.4444444444444444,
              "#bd3786"
             ],
             [
              0.5555555555555556,
              "#d8576b"
             ],
             [
              0.6666666666666666,
              "#ed7953"
             ],
             [
              0.7777777777777778,
              "#fb9f3a"
             ],
             [
              0.8888888888888888,
              "#fdca26"
             ],
             [
              1,
              "#f0f921"
             ]
            ],
            "type": "histogram2d"
           }
          ],
          "histogram2dcontour": [
           {
            "colorbar": {
             "outlinewidth": 0,
             "ticks": ""
            },
            "colorscale": [
             [
              0,
              "#0d0887"
             ],
             [
              0.1111111111111111,
              "#46039f"
             ],
             [
              0.2222222222222222,
              "#7201a8"
             ],
             [
              0.3333333333333333,
              "#9c179e"
             ],
             [
              0.4444444444444444,
              "#bd3786"
             ],
             [
              0.5555555555555556,
              "#d8576b"
             ],
             [
              0.6666666666666666,
              "#ed7953"
             ],
             [
              0.7777777777777778,
              "#fb9f3a"
             ],
             [
              0.8888888888888888,
              "#fdca26"
             ],
             [
              1,
              "#f0f921"
             ]
            ],
            "type": "histogram2dcontour"
           }
          ],
          "mesh3d": [
           {
            "colorbar": {
             "outlinewidth": 0,
             "ticks": ""
            },
            "type": "mesh3d"
           }
          ],
          "parcoords": [
           {
            "line": {
             "colorbar": {
              "outlinewidth": 0,
              "ticks": ""
             }
            },
            "type": "parcoords"
           }
          ],
          "pie": [
           {
            "automargin": true,
            "type": "pie"
           }
          ],
          "scatter": [
           {
            "fillpattern": {
             "fillmode": "overlay",
             "size": 10,
             "solidity": 0.2
            },
            "type": "scatter"
           }
          ],
          "scatter3d": [
           {
            "line": {
             "colorbar": {
              "outlinewidth": 0,
              "ticks": ""
             }
            },
            "marker": {
             "colorbar": {
              "outlinewidth": 0,
              "ticks": ""
             }
            },
            "type": "scatter3d"
           }
          ],
          "scattercarpet": [
           {
            "marker": {
             "colorbar": {
              "outlinewidth": 0,
              "ticks": ""
             }
            },
            "type": "scattercarpet"
           }
          ],
          "scattergeo": [
           {
            "marker": {
             "colorbar": {
              "outlinewidth": 0,
              "ticks": ""
             }
            },
            "type": "scattergeo"
           }
          ],
          "scattergl": [
           {
            "marker": {
             "colorbar": {
              "outlinewidth": 0,
              "ticks": ""
             }
            },
            "type": "scattergl"
           }
          ],
          "scattermap": [
           {
            "marker": {
             "colorbar": {
              "outlinewidth": 0,
              "ticks": ""
             }
            },
            "type": "scattermap"
           }
          ],
          "scattermapbox": [
           {
            "marker": {
             "colorbar": {
              "outlinewidth": 0,
              "ticks": ""
             }
            },
            "type": "scattermapbox"
           }
          ],
          "scatterpolar": [
           {
            "marker": {
             "colorbar": {
              "outlinewidth": 0,
              "ticks": ""
             }
            },
            "type": "scatterpolar"
           }
          ],
          "scatterpolargl": [
           {
            "marker": {
             "colorbar": {
              "outlinewidth": 0,
              "ticks": ""
             }
            },
            "type": "scatterpolargl"
           }
          ],
          "scatterternary": [
           {
            "marker": {
             "colorbar": {
              "outlinewidth": 0,
              "ticks": ""
             }
            },
            "type": "scatterternary"
           }
          ],
          "surface": [
           {
            "colorbar": {
             "outlinewidth": 0,
             "ticks": ""
            },
            "colorscale": [
             [
              0,
              "#0d0887"
             ],
             [
              0.1111111111111111,
              "#46039f"
             ],
             [
              0.2222222222222222,
              "#7201a8"
             ],
             [
              0.3333333333333333,
              "#9c179e"
             ],
             [
              0.4444444444444444,
              "#bd3786"
             ],
             [
              0.5555555555555556,
              "#d8576b"
             ],
             [
              0.6666666666666666,
              "#ed7953"
             ],
             [
              0.7777777777777778,
              "#fb9f3a"
             ],
             [
              0.8888888888888888,
              "#fdca26"
             ],
             [
              1,
              "#f0f921"
             ]
            ],
            "type": "surface"
           }
          ],
          "table": [
           {
            "cells": {
             "fill": {
              "color": "#EBF0F8"
             },
             "line": {
              "color": "white"
             }
            },
            "header": {
             "fill": {
              "color": "#C8D4E3"
             },
             "line": {
              "color": "white"
             }
            },
            "type": "table"
           }
          ]
         },
         "layout": {
          "annotationdefaults": {
           "arrowcolor": "#2a3f5f",
           "arrowhead": 0,
           "arrowwidth": 1
          },
          "autotypenumbers": "strict",
          "coloraxis": {
           "colorbar": {
            "outlinewidth": 0,
            "ticks": ""
           }
          },
          "colorscale": {
           "diverging": [
            [
             0,
             "#8e0152"
            ],
            [
             0.1,
             "#c51b7d"
            ],
            [
             0.2,
             "#de77ae"
            ],
            [
             0.3,
             "#f1b6da"
            ],
            [
             0.4,
             "#fde0ef"
            ],
            [
             0.5,
             "#f7f7f7"
            ],
            [
             0.6,
             "#e6f5d0"
            ],
            [
             0.7,
             "#b8e186"
            ],
            [
             0.8,
             "#7fbc41"
            ],
            [
             0.9,
             "#4d9221"
            ],
            [
             1,
             "#276419"
            ]
           ],
           "sequential": [
            [
             0,
             "#0d0887"
            ],
            [
             0.1111111111111111,
             "#46039f"
            ],
            [
             0.2222222222222222,
             "#7201a8"
            ],
            [
             0.3333333333333333,
             "#9c179e"
            ],
            [
             0.4444444444444444,
             "#bd3786"
            ],
            [
             0.5555555555555556,
             "#d8576b"
            ],
            [
             0.6666666666666666,
             "#ed7953"
            ],
            [
             0.7777777777777778,
             "#fb9f3a"
            ],
            [
             0.8888888888888888,
             "#fdca26"
            ],
            [
             1,
             "#f0f921"
            ]
           ],
           "sequentialminus": [
            [
             0,
             "#0d0887"
            ],
            [
             0.1111111111111111,
             "#46039f"
            ],
            [
             0.2222222222222222,
             "#7201a8"
            ],
            [
             0.3333333333333333,
             "#9c179e"
            ],
            [
             0.4444444444444444,
             "#bd3786"
            ],
            [
             0.5555555555555556,
             "#d8576b"
            ],
            [
             0.6666666666666666,
             "#ed7953"
            ],
            [
             0.7777777777777778,
             "#fb9f3a"
            ],
            [
             0.8888888888888888,
             "#fdca26"
            ],
            [
             1,
             "#f0f921"
            ]
           ]
          },
          "colorway": [
           "#636efa",
           "#EF553B",
           "#00cc96",
           "#ab63fa",
           "#FFA15A",
           "#19d3f3",
           "#FF6692",
           "#B6E880",
           "#FF97FF",
           "#FECB52"
          ],
          "font": {
           "color": "#2a3f5f"
          },
          "geo": {
           "bgcolor": "white",
           "lakecolor": "white",
           "landcolor": "#E5ECF6",
           "showlakes": true,
           "showland": true,
           "subunitcolor": "white"
          },
          "hoverlabel": {
           "align": "left"
          },
          "hovermode": "closest",
          "mapbox": {
           "style": "light"
          },
          "paper_bgcolor": "white",
          "plot_bgcolor": "#E5ECF6",
          "polar": {
           "angularaxis": {
            "gridcolor": "white",
            "linecolor": "white",
            "ticks": ""
           },
           "bgcolor": "#E5ECF6",
           "radialaxis": {
            "gridcolor": "white",
            "linecolor": "white",
            "ticks": ""
           }
          },
          "scene": {
           "xaxis": {
            "backgroundcolor": "#E5ECF6",
            "gridcolor": "white",
            "gridwidth": 2,
            "linecolor": "white",
            "showbackground": true,
            "ticks": "",
            "zerolinecolor": "white"
           },
           "yaxis": {
            "backgroundcolor": "#E5ECF6",
            "gridcolor": "white",
            "gridwidth": 2,
            "linecolor": "white",
            "showbackground": true,
            "ticks": "",
            "zerolinecolor": "white"
           },
           "zaxis": {
            "backgroundcolor": "#E5ECF6",
            "gridcolor": "white",
            "gridwidth": 2,
            "linecolor": "white",
            "showbackground": true,
            "ticks": "",
            "zerolinecolor": "white"
           }
          },
          "shapedefaults": {
           "line": {
            "color": "#2a3f5f"
           }
          },
          "ternary": {
           "aaxis": {
            "gridcolor": "white",
            "linecolor": "white",
            "ticks": ""
           },
           "baxis": {
            "gridcolor": "white",
            "linecolor": "white",
            "ticks": ""
           },
           "bgcolor": "#E5ECF6",
           "caxis": {
            "gridcolor": "white",
            "linecolor": "white",
            "ticks": ""
           }
          },
          "title": {
           "x": 0.05
          },
          "xaxis": {
           "automargin": true,
           "gridcolor": "white",
           "linecolor": "white",
           "ticks": "",
           "title": {
            "standoff": 15
           },
           "zerolinecolor": "white",
           "zerolinewidth": 2
          },
          "yaxis": {
           "automargin": true,
           "gridcolor": "white",
           "linecolor": "white",
           "ticks": "",
           "title": {
            "standoff": 15
           },
           "zerolinecolor": "white",
           "zerolinewidth": 2
          }
         }
        },
        "title": {
         "text": "Subject 1 PPG Signal Over Time"
        },
        "xaxis": {
         "anchor": "y",
         "domain": [
          0,
          1
         ],
         "title": {
          "text": "x"
         }
        },
        "yaxis": {
         "anchor": "x",
         "domain": [
          0,
          1
         ],
         "title": {
          "text": "y"
         }
        }
       }
      }
     },
     "metadata": {},
     "output_type": "display_data"
    }
   ],
   "source": [
    "\n",
    "\n",
    "fig = px.line(x=subject_1_df['time'], y=subject_1_df['ppg_signal'], title='Subject 1 PPG Signal Over Time')\n",
    "fig.add_scatter(x=subject_1_df['time'].iloc[peaks], y=subject_1_df['ppg_signal'].iloc[peaks], mode='markers', name='Peaks')\n",
    "fig.add_scatter(x=subject_1_df['time'].iloc[peaks + 1], y=subject_1_df['ppg_signal'].iloc[peaks + 1], mode='markers', name='Velly')\n",
    "fig.show()"
   ]
  },
  {
   "cell_type": "code",
   "execution_count": null,
   "id": "8826d1dc",
   "metadata": {},
   "outputs": [
    {
     "name": "stdout",
     "output_type": "stream",
     "text": [
      "[ 9.60160027  3.00050008  2.40040007  1.20020003 21.00350058  1.20020003\n",
      " 11.40190032  1.20020003 12.00200033 12.60210035 12.60210035  1.80030005\n",
      " 23.40390065  1.20020003  9.60160027  1.80030005  1.20020003 23.40390065\n",
      " 13.20220037  1.20020003 23.40390065 12.00200033  1.80030005  1.20020003\n",
      "  9.60160027 13.20220037 10.20170028  1.20020003  1.80030005  1.20020003\n",
      "  1.20020003  9.60160027 12.00200033 13.20220037  1.20020003  1.20020003\n",
      "  9.00150025 13.20220037 12.00200033  1.20020003  1.80030005 10.8018003\n",
      " 12.60210035 10.20170028  3.00050008 24.00400067  1.20020003 11.40190032\n",
      "  1.20020003  1.20020003 22.80380063 10.8018003   1.80030005  1.20020003\n",
      " 23.40390065 11.40190032  1.80030005  1.20020003 24.00400067 10.20170028\n",
      "  1.80030005  1.20020003  1.20020003 22.20370062  1.20020003 12.60210035\n",
      " 24.60410068 10.8018003   3.00050008 24.00400067 10.20170028  1.20020003\n",
      "  1.80030005  1.20020003 23.40390065 12.00200033  1.20020003 22.80380063\n",
      "  1.20020003  1.20020003 10.8018003   1.80030005  1.20020003 22.80380063\n",
      " 12.00200033  1.20020003 24.00400067  1.20020003 11.40190032  1.20020003\n",
      " 11.40190032 12.60210035 11.40190032  2.40040007  1.80030005 22.20370062\n",
      " 12.00200033  1.80030005  1.20020003 23.40390065 11.40190032  3.00050008\n",
      " 22.80380063 11.40190032  2.40040007  1.20020003 22.80380063 11.40190032\n",
      "  1.20020003  1.80030005 22.80380063 10.8018003   2.40040007 24.60410068\n",
      " 10.8018003   1.20020003  1.20020003  1.80030005 22.80380063 10.20170028\n",
      "  2.40040007  1.20020003 23.40390065 12.60210035  1.20020003 24.00400067\n",
      "  1.20020003 10.20170028  1.20020003  1.20020003  1.80030005 22.20370062\n",
      " 11.40190032  1.80030005  1.20020003 23.40390065 12.60210035  1.20020003\n",
      "  1.20020003 22.80380063 11.40190032  1.20020003  1.20020003  1.80030005\n",
      " 22.20370062 10.8018003   1.20020003  1.80030005 23.40390065 12.60210035\n",
      "  1.80030005  1.80030005  9.60160027 12.00200033 11.40190032  1.20020003\n",
      "  2.40040007 10.20170028 12.60210035 13.20220037  1.20020003 22.80380063\n",
      "  1.20020003  9.60160027  1.20020003  3.00050008 23.40390065 10.8018003\n",
      "  1.20020003  1.20020003  1.20020003 23.40390065 11.40190032  1.20020003\n",
      " 24.60410068 11.40190032  2.40040007  1.20020003  1.80030005 20.40340057\n",
      " 13.20220037  1.20020003  1.20020003 22.80380063 11.40190032  2.40040007\n",
      " 23.40390065  1.20020003  9.00150025  2.40040007  1.20020003  1.20020003\n",
      "  1.20020003 21.6036006  12.00200033  1.80030005  2.40040007  9.00150025\n",
      " 12.60210035 12.00200033  2.40040007 10.8018003  11.40190032  1.20020003\n",
      " 10.20170028  1.80030005  1.80030005  1.80030005 20.40340057  1.20020003\n",
      "  1.20020003 10.8018003   1.80030005  2.40040007 20.40340057  1.20020003\n",
      "  1.20020003  8.40140023  2.40040007  1.80030005 10.8018003  12.60210035\n",
      "  1.20020003 10.8018003   1.20020003  1.20020003  1.20020003 10.8018003\n",
      " 12.00200033 10.8018003   3.00050008 23.40390065 11.40190032  1.80030005\n",
      " 24.60410068 12.60210035  1.20020003 10.8018003  13.80230038  9.60160027\n",
      "  1.80030005  1.80030005 10.8018003  12.60210035 13.20220037  1.80030005\n",
      " 10.8018003  12.00200033 12.00200033  1.20020003  1.80030005 22.80380063\n",
      " 12.60210035  1.20020003  2.40040007 21.00350058 12.60210035  2.40040007\n",
      " 22.80380063  1.20020003 12.00200033  1.20020003  1.20020003 21.6036006\n",
      "  1.20020003 12.00200033  1.80030005 22.80380063  1.20020003 10.8018003\n",
      "  1.80030005  1.80030005 22.80380063 11.40190032  1.20020003  1.80030005\n",
      " 22.80380063 12.00200033  1.80030005 23.40390065  1.20020003 11.40190032\n",
      "  1.80030005 11.40190032 12.60210035 12.00200033  2.40040007 23.40390065\n",
      " 11.40190032  1.80030005  1.20020003 22.80380063 13.20220037  2.40040007\n",
      "  9.60160027 13.20220037 10.20170028  2.40040007 24.60410068 10.20170028\n",
      "  2.40040007  1.20020003 23.40390065  1.20020003 11.40190032 12.60210035\n",
      " 13.20220037 12.00200033  1.20020003  1.20020003 22.80380063 11.40190032\n",
      "  1.80030005  1.80030005 23.40390065 12.60210035 24.60410068 10.8018003\n",
      "  1.80030005  1.20020003  1.20020003 10.20170028 12.60210035 11.40190032\n",
      "  1.20020003 25.2042007  10.8018003   1.20020003  1.80030005 23.40390065\n",
      "  1.20020003 10.20170028  2.40040007 11.40190032 12.00200033  9.00150025\n",
      "  5.40090015  1.80030005 22.20370062  9.60160027  1.20020003  4.80080013\n",
      " 10.20170028 11.40190032 12.60210035  1.20020003 11.40190032 13.20220037\n",
      " 10.20170028  1.80030005  2.40040007 22.80380063 11.40190032  1.20020003\n",
      "  1.80030005 23.40390065 12.60210035  1.80030005 22.80380063  1.20020003\n",
      "  9.00150025  2.40040007  2.40040007 22.80380063 13.20220037  1.20020003\n",
      " 23.40390065 10.8018003   2.40040007  1.80030005 10.8018003  12.00200033\n",
      " 11.40190032  1.20020003 12.60210035 12.00200033  1.20020003 12.00200033\n",
      " 24.60410068  1.20020003  9.60160027  1.80030005  2.40040007 22.80380063\n",
      "  1.80030005 11.40190032  3.00050008  9.00150025 12.60210035  1.20020003\n",
      " 12.00200033  1.80030005 10.20170028 12.60210035 11.40190032  1.80030005\n",
      "  1.20020003 22.80380063 11.40190032  2.40040007  1.20020003 22.80380063\n",
      " 11.40190032  2.40040007  1.80030005  9.60160027 13.20220037 10.20170028\n",
      "  1.80030005  1.80030005]\n"
     ]
    }
   ],
   "source": [
    "\n",
    "\n",
    "time_diff = np.diff(subject_1_df['time'].values[peaks]) * 60\n",
    "print(time_diff)"
   ]
  },
  {
   "cell_type": "code",
   "execution_count": null,
   "id": "26d58071",
   "metadata": {},
   "outputs": [
    {
     "data": {
      "application/vnd.plotly.v1+json": {
       "config": {
        "plotlyServerURL": "https://plot.ly"
       },
       "data": [
        {
         "hovertemplate": "x=%{x}<br>y=%{y}<extra></extra>",
         "legendgroup": "",
         "line": {
          "color": "#636efa",
          "dash": "solid"
         },
         "marker": {
          "symbol": "circle"
         },
         "mode": "lines",
         "name": "",
         "showlegend": false,
         "type": "scattergl",
         "x": {
          "bdata": "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",
          "dtype": "f8"
         },
         "xaxis": "x",
         "y": {
          "bdata": "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",
          "dtype": "f8"
         },
         "yaxis": "y"
        },
        {
         "mode": "markers",
         "name": "Peaks",
         "type": "scatter",
         "x": {
          "bdata": "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",
          "dtype": "f8"
         },
         "y": {
          "bdata": "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",
          "dtype": "f8"
         }
        },
        {
         "mode": "markers",
         "name": "Velly",
         "type": "scatter",
         "x": {
          "bdata": "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",
          "dtype": "f8"
         },
         "y": {
          "bdata": "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",
          "dtype": "f8"
         }
        },
        {
         "mode": "markers",
         "name": "Velly",
         "type": "scatter",
         "x": {
          "bdata": "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",
          "dtype": "f8"
         },
         "y": {
          "bdata": "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",
          "dtype": "f8"
         }
        }
       ],
       "layout": {
        "legend": {
         "tracegroupgap": 0
        },
        "template": {
         "data": {
          "bar": [
           {
            "error_x": {
             "color": "#2a3f5f"
            },
            "error_y": {
             "color": "#2a3f5f"
            },
            "marker": {
             "line": {
              "color": "#E5ECF6",
              "width": 0.5
             },
             "pattern": {
              "fillmode": "overlay",
              "size": 10,
              "solidity": 0.2
             }
            },
            "type": "bar"
           }
          ],
          "barpolar": [
           {
            "marker": {
             "line": {
              "color": "#E5ECF6",
              "width": 0.5
             },
             "pattern": {
              "fillmode": "overlay",
              "size": 10,
              "solidity": 0.2
             }
            },
            "type": "barpolar"
           }
          ],
          "carpet": [
           {
            "aaxis": {
             "endlinecolor": "#2a3f5f",
             "gridcolor": "white",
             "linecolor": "white",
             "minorgridcolor": "white",
             "startlinecolor": "#2a3f5f"
            },
            "baxis": {
             "endlinecolor": "#2a3f5f",
             "gridcolor": "white",
             "linecolor": "white",
             "minorgridcolor": "white",
             "startlinecolor": "#2a3f5f"
            },
            "type": "carpet"
           }
          ],
          "choropleth": [
           {
            "colorbar": {
             "outlinewidth": 0,
             "ticks": ""
            },
            "type": "choropleth"
           }
          ],
          "contour": [
           {
            "colorbar": {
             "outlinewidth": 0,
             "ticks": ""
            },
            "colorscale": [
             [
              0,
              "#0d0887"
             ],
             [
              0.1111111111111111,
              "#46039f"
             ],
             [
              0.2222222222222222,
              "#7201a8"
             ],
             [
              0.3333333333333333,
              "#9c179e"
             ],
             [
              0.4444444444444444,
              "#bd3786"
             ],
             [
              0.5555555555555556,
              "#d8576b"
             ],
             [
              0.6666666666666666,
              "#ed7953"
             ],
             [
              0.7777777777777778,
              "#fb9f3a"
             ],
             [
              0.8888888888888888,
              "#fdca26"
             ],
             [
              1,
              "#f0f921"
             ]
            ],
            "type": "contour"
           }
          ],
          "contourcarpet": [
           {
            "colorbar": {
             "outlinewidth": 0,
             "ticks": ""
            },
            "type": "contourcarpet"
           }
          ],
          "heatmap": [
           {
            "colorbar": {
             "outlinewidth": 0,
             "ticks": ""
            },
            "colorscale": [
             [
              0,
              "#0d0887"
             ],
             [
              0.1111111111111111,
              "#46039f"
             ],
             [
              0.2222222222222222,
              "#7201a8"
             ],
             [
              0.3333333333333333,
              "#9c179e"
             ],
             [
              0.4444444444444444,
              "#bd3786"
             ],
             [
              0.5555555555555556,
              "#d8576b"
             ],
             [
              0.6666666666666666,
              "#ed7953"
             ],
             [
              0.7777777777777778,
              "#fb9f3a"
             ],
             [
              0.8888888888888888,
              "#fdca26"
             ],
             [
              1,
              "#f0f921"
             ]
            ],
            "type": "heatmap"
           }
          ],
          "histogram": [
           {
            "marker": {
             "pattern": {
              "fillmode": "overlay",
              "size": 10,
              "solidity": 0.2
             }
            },
            "type": "histogram"
           }
          ],
          "histogram2d": [
           {
            "colorbar": {
             "outlinewidth": 0,
             "ticks": ""
            },
            "colorscale": [
             [
              0,
              "#0d0887"
             ],
             [
              0.1111111111111111,
              "#46039f"
             ],
             [
              0.2222222222222222,
              "#7201a8"
             ],
             [
              0.3333333333333333,
              "#9c179e"
             ],
             [
              0.4444444444444444,
              "#bd3786"
             ],
             [
              0.5555555555555556,
              "#d8576b"
             ],
             [
              0.6666666666666666,
              "#ed7953"
             ],
             [
              0.7777777777777778,
              "#fb9f3a"
             ],
             [
              0.8888888888888888,
              "#fdca26"
             ],
             [
              1,
              "#f0f921"
             ]
            ],
            "type": "histogram2d"
           }
          ],
          "histogram2dcontour": [
           {
            "colorbar": {
             "outlinewidth": 0,
             "ticks": ""
            },
            "colorscale": [
             [
              0,
              "#0d0887"
             ],
             [
              0.1111111111111111,
              "#46039f"
             ],
             [
              0.2222222222222222,
              "#7201a8"
             ],
             [
              0.3333333333333333,
              "#9c179e"
             ],
             [
              0.4444444444444444,
              "#bd3786"
             ],
             [
              0.5555555555555556,
              "#d8576b"
             ],
             [
              0.6666666666666666,
              "#ed7953"
             ],
             [
              0.7777777777777778,
              "#fb9f3a"
             ],
             [
              0.8888888888888888,
              "#fdca26"
             ],
             [
              1,
              "#f0f921"
             ]
            ],
            "type": "histogram2dcontour"
           }
          ],
          "mesh3d": [
           {
            "colorbar": {
             "outlinewidth": 0,
             "ticks": ""
            },
            "type": "mesh3d"
           }
          ],
          "parcoords": [
           {
            "line": {
             "colorbar": {
              "outlinewidth": 0,
              "ticks": ""
             }
            },
            "type": "parcoords"
           }
          ],
          "pie": [
           {
            "automargin": true,
            "type": "pie"
           }
          ],
          "scatter": [
           {
            "fillpattern": {
             "fillmode": "overlay",
             "size": 10,
             "solidity": 0.2
            },
            "type": "scatter"
           }
          ],
          "scatter3d": [
           {
            "line": {
             "colorbar": {
              "outlinewidth": 0,
              "ticks": ""
             }
            },
            "marker": {
             "colorbar": {
              "outlinewidth": 0,
              "ticks": ""
             }
            },
            "type": "scatter3d"
           }
          ],
          "scattercarpet": [
           {
            "marker": {
             "colorbar": {
              "outlinewidth": 0,
              "ticks": ""
             }
            },
            "type": "scattercarpet"
           }
          ],
          "scattergeo": [
           {
            "marker": {
             "colorbar": {
              "outlinewidth": 0,
              "ticks": ""
             }
            },
            "type": "scattergeo"
           }
          ],
          "scattergl": [
           {
            "marker": {
             "colorbar": {
              "outlinewidth": 0,
              "ticks": ""
             }
            },
            "type": "scattergl"
           }
          ],
          "scattermap": [
           {
            "marker": {
             "colorbar": {
              "outlinewidth": 0,
              "ticks": ""
             }
            },
            "type": "scattermap"
           }
          ],
          "scattermapbox": [
           {
            "marker": {
             "colorbar": {
              "outlinewidth": 0,
              "ticks": ""
             }
            },
            "type": "scattermapbox"
           }
          ],
          "scatterpolar": [
           {
            "marker": {
             "colorbar": {
              "outlinewidth": 0,
              "ticks": ""
             }
            },
            "type": "scatterpolar"
           }
          ],
          "scatterpolargl": [
           {
            "marker": {
             "colorbar": {
              "outlinewidth": 0,
              "ticks": ""
             }
            },
            "type": "scatterpolargl"
           }
          ],
          "scatterternary": [
           {
            "marker": {
             "colorbar": {
              "outlinewidth": 0,
              "ticks": ""
             }
            },
            "type": "scatterternary"
           }
          ],
          "surface": [
           {
            "colorbar": {
             "outlinewidth": 0,
             "ticks": ""
            },
            "colorscale": [
             [
              0,
              "#0d0887"
             ],
             [
              0.1111111111111111,
              "#46039f"
             ],
             [
              0.2222222222222222,
              "#7201a8"
             ],
             [
              0.3333333333333333,
              "#9c179e"
             ],
             [
              0.4444444444444444,
              "#bd3786"
             ],
             [
              0.5555555555555556,
              "#d8576b"
             ],
             [
              0.6666666666666666,
              "#ed7953"
             ],
             [
              0.7777777777777778,
              "#fb9f3a"
             ],
             [
              0.8888888888888888,
              "#fdca26"
             ],
             [
              1,
              "#f0f921"
             ]
            ],
            "type": "surface"
           }
          ],
          "table": [
           {
            "cells": {
             "fill": {
              "color": "#EBF0F8"
             },
             "line": {
              "color": "white"
             }
            },
            "header": {
             "fill": {
              "color": "#C8D4E3"
             },
             "line": {
              "color": "white"
             }
            },
            "type": "table"
           }
          ]
         },
         "layout": {
          "annotationdefaults": {
           "arrowcolor": "#2a3f5f",
           "arrowhead": 0,
           "arrowwidth": 1
          },
          "autotypenumbers": "strict",
          "coloraxis": {
           "colorbar": {
            "outlinewidth": 0,
            "ticks": ""
           }
          },
          "colorscale": {
           "diverging": [
            [
             0,
             "#8e0152"
            ],
            [
             0.1,
             "#c51b7d"
            ],
            [
             0.2,
             "#de77ae"
            ],
            [
             0.3,
             "#f1b6da"
            ],
            [
             0.4,
             "#fde0ef"
            ],
            [
             0.5,
             "#f7f7f7"
            ],
            [
             0.6,
             "#e6f5d0"
            ],
            [
             0.7,
             "#b8e186"
            ],
            [
             0.8,
             "#7fbc41"
            ],
            [
             0.9,
             "#4d9221"
            ],
            [
             1,
             "#276419"
            ]
           ],
           "sequential": [
            [
             0,
             "#0d0887"
            ],
            [
             0.1111111111111111,
             "#46039f"
            ],
            [
             0.2222222222222222,
             "#7201a8"
            ],
            [
             0.3333333333333333,
             "#9c179e"
            ],
            [
             0.4444444444444444,
             "#bd3786"
            ],
            [
             0.5555555555555556,
             "#d8576b"
            ],
            [
             0.6666666666666666,
             "#ed7953"
            ],
            [
             0.7777777777777778,
             "#fb9f3a"
            ],
            [
             0.8888888888888888,
             "#fdca26"
            ],
            [
             1,
             "#f0f921"
            ]
           ],
           "sequentialminus": [
            [
             0,
             "#0d0887"
            ],
            [
             0.1111111111111111,
             "#46039f"
            ],
            [
             0.2222222222222222,
             "#7201a8"
            ],
            [
             0.3333333333333333,
             "#9c179e"
            ],
            [
             0.4444444444444444,
             "#bd3786"
            ],
            [
             0.5555555555555556,
             "#d8576b"
            ],
            [
             0.6666666666666666,
             "#ed7953"
            ],
            [
             0.7777777777777778,
             "#fb9f3a"
            ],
            [
             0.8888888888888888,
             "#fdca26"
            ],
            [
             1,
             "#f0f921"
            ]
           ]
          },
          "colorway": [
           "#636efa",
           "#EF553B",
           "#00cc96",
           "#ab63fa",
           "#FFA15A",
           "#19d3f3",
           "#FF6692",
           "#B6E880",
           "#FF97FF",
           "#FECB52"
          ],
          "font": {
           "color": "#2a3f5f"
          },
          "geo": {
           "bgcolor": "white",
           "lakecolor": "white",
           "landcolor": "#E5ECF6",
           "showlakes": true,
           "showland": true,
           "subunitcolor": "white"
          },
          "hoverlabel": {
           "align": "left"
          },
          "hovermode": "closest",
          "mapbox": {
           "style": "light"
          },
          "paper_bgcolor": "white",
          "plot_bgcolor": "#E5ECF6",
          "polar": {
           "angularaxis": {
            "gridcolor": "white",
            "linecolor": "white",
            "ticks": ""
           },
           "bgcolor": "#E5ECF6",
           "radialaxis": {
            "gridcolor": "white",
            "linecolor": "white",
            "ticks": ""
           }
          },
          "scene": {
           "xaxis": {
            "backgroundcolor": "#E5ECF6",
            "gridcolor": "white",
            "gridwidth": 2,
            "linecolor": "white",
            "showbackground": true,
            "ticks": "",
            "zerolinecolor": "white"
           },
           "yaxis": {
            "backgroundcolor": "#E5ECF6",
            "gridcolor": "white",
            "gridwidth": 2,
            "linecolor": "white",
            "showbackground": true,
            "ticks": "",
            "zerolinecolor": "white"
           },
           "zaxis": {
            "backgroundcolor": "#E5ECF6",
            "gridcolor": "white",
            "gridwidth": 2,
            "linecolor": "white",
            "showbackground": true,
            "ticks": "",
            "zerolinecolor": "white"
           }
          },
          "shapedefaults": {
           "line": {
            "color": "#2a3f5f"
           }
          },
          "ternary": {
           "aaxis": {
            "gridcolor": "white",
            "linecolor": "white",
            "ticks": ""
           },
           "baxis": {
            "gridcolor": "white",
            "linecolor": "white",
            "ticks": ""
           },
           "bgcolor": "#E5ECF6",
           "caxis": {
            "gridcolor": "white",
            "linecolor": "white",
            "ticks": ""
           }
          },
          "title": {
           "x": 0.05
          },
          "xaxis": {
           "automargin": true,
           "gridcolor": "white",
           "linecolor": "white",
           "ticks": "",
           "title": {
            "standoff": 15
           },
           "zerolinecolor": "white",
           "zerolinewidth": 2
          },
          "yaxis": {
           "automargin": true,
           "gridcolor": "white",
           "linecolor": "white",
           "ticks": "",
           "title": {
            "standoff": 15
           },
           "zerolinecolor": "white",
           "zerolinewidth": 2
          }
         }
        },
        "title": {
         "text": "Subject 1 PPG Signal Over Time"
        },
        "xaxis": {
         "anchor": "y",
         "domain": [
          0,
          1
         ],
         "title": {
          "text": "x"
         }
        },
        "yaxis": {
         "anchor": "x",
         "domain": [
          0,
          1
         ],
         "title": {
          "text": "y"
         }
        }
       }
      }
     },
     "metadata": {},
     "output_type": "display_data"
    }
   ],
   "source": [
    "\n",
    "\n",
    "fig = px.line(x=subject_1_df['time'], y=subject_1_df['ppg_signal'], title='Subject 1 PPG Signal Over Time')\n",
    "fig.add_scatter(x=subject_1_df['time'].iloc[peaks], y=subject_1_df['ppg_signal'].iloc[peaks], mode='markers', name='Peaks')\n",
    "fig.add_scatter(x=subject_1_df['time'].iloc[peaks + 1], y=subject_1_df['ppg_signal'].iloc[peaks + 1], mode='markers', name='Velly')\n",
    "fig.add_scatter(x=subject_1_df['time'].iloc[peaks + 2], y=subject_1_df['ppg_signal'].iloc[peaks + 2], mode='markers', name='Velly')\n",
    "fig.show()"
   ]
  },
  {
   "cell_type": "code",
   "execution_count": null,
   "id": "fdc16393",
   "metadata": {},
   "outputs": [
    {
     "name": "stdout",
     "output_type": "stream",
     "text": [
      "Average Heart Rate (BPM): 95.58 bpm\n"
     ]
    }
   ],
   "source": [
    "\n",
    "rr_intervals_ms = np.diff(subject_1_df['time'].iloc[peaks].values) * 1000  # assuming time in seconds\n",
    "\n",
    "subject_1_df['rr_interval_ms'] = np.nan\n",
    "subject_1_df.loc[peaks[1:], 'rr_interval_ms'] = rr_intervals_ms\n",
    "\n",
    "subject_1_df['HR_bpm'] = 60 * 1000 / subject_1_df['rr_interval_ms']  # RR in ms\n",
    "\n",
    "avg_hr = subject_1_df['HR_bpm'].mean(skipna=True)\n",
    "\n",
    "print(f\"Average Heart Rate (BPM): {avg_hr:.2f} bpm\")"
   ]
  },
  {
   "cell_type": "code",
   "execution_count": null,
   "id": "5dcc8320",
   "metadata": {},
   "outputs": [
    {
     "name": "stdout",
     "output_type": "stream",
     "text": [
      "HRV (SDNN): 0.000147 minutes\n"
     ]
    }
   ],
   "source": [
    "\n",
    "valid_rr_ms = subject_1_df['rr_interval_ms'].dropna()\n",
    "valid_rr_minutes = valid_rr_ms / 60000  \n",
    "sdnn_minutes = np.std(valid_rr_minutes)\n",
    "\n",
    "print(f\"HRV (SDNN): {sdnn_minutes:.6f} minutes\")\n"
   ]
  },
  {
   "cell_type": "markdown",
   "id": "b268be74",
   "metadata": {},
   "source": [
    "same way train from 1 to 18 and subjec 19 and 20 is for tesiing add feature if rr interval is this then hr will be that"
   ]
  },
  {
   "cell_type": "code",
   "execution_count": null,
   "id": "6974ff4f",
   "metadata": {},
   "outputs": [
    {
     "name": "stdout",
     "output_type": "stream",
     "text": [
      "\n",
      "Model Evaluation:\n",
      "Mean Squared Error: 221.8245\n",
      "R² Score: 0.0145\n"
     ]
    }
   ],
   "source": [
    "#training the whole model\n",
    "import pandas as pd\n",
    "import numpy as np\n",
    "import os\n",
    "from scipy.signal import find_peaks\n",
    "from sklearn.linear_model import LinearRegression\n",
    "from sklearn.metrics import mean_squared_error, r2_score\n",
    "from sklearn.model_selection import train_test_split\n",
    "\n",
    "data_folder = r\"C:\\Users\\DELL\\Desktop\\vocational traning\\project 1\"  # Correct path to your subject files\n",
    "subject_features = []\n",
    "\n",
    "\n",
    "for i in range(1, 21):  \n",
    "    file_path = os.path.join(data_folder, f\"subject_{i}.csv\")\n",
    "    \n",
    "    \n",
    "    df = pd.read_csv(file_path)\n",
    "    \n",
    "\n",
    "    peaks, _ = find_peaks(df['ppg_signal'], distance=30)  #\n",
    "\n",
    "    \n",
    "    rr_intervals = np.diff(df['time'].iloc[peaks].values) * 1000 \n",
    "    \n",
    "    if len(rr_intervals) == 0:\n",
    "        continue  \n",
    "    \n",
    "    \n",
    "    hr_values = 60 * 1000 / rr_intervals\n",
    "    avg_hr = np.mean(hr_values)\n",
    "\n",
    "\n",
    "    sdnn = np.std(rr_intervals)\n",
    "\n",
    "\n",
    "    subject_features.append({\n",
    "        'subject_id': i,\n",
    "        'avg_hr': avg_hr,\n",
    "        'hrv_sdnn': sdnn\n",
    "    })\n",
    "\n",
    "\n",
    "features_df = pd.DataFrame(subject_features)\n",
    "\n",
    "\n",
    "master_df = pd.read_csv(r'C:\\Users\\DELL\\Desktop\\vocational traning\\project 1\\master_data (1).csv')\n",
    "\n",
    "merged_df = pd.merge(features_df, master_df, on='subject_id')\n",
    "\n",
    "\n",
    "X = merged_df[['avg_hr', 'hrv_sdnn']]\n",
    "y = merged_df['hrv']  \n",
    "\n",
    "X_train, X_test, y_train, y_test = train_test_split(X, y, test_size=0.36, random_state=30)\n",
    "\n",
    "\n",
    "model = LinearRegression()\n",
    "model.fit(X_train, y_train)\n",
    "\n",
    "y_pred = model.predict(X_test)\n",
    "mse = mean_squared_error(y_test, y_pred)\n",
    "r2 = r2_score(y_test, y_pred)\n",
    "\n",
    "print(\"\\nModel Evaluation:\")\n",
    "print(f\"Mean Squared Error: {mse:.4f}\")\n",
    "print(f\"R² Score: {r2:.4f}\")\n"
   ]
  },
  {
   "cell_type": "code",
   "execution_count": null,
   "id": "efb08adb",
   "metadata": {},
   "outputs": [
    {
     "name": "stderr",
     "output_type": "stream",
     "text": [
      "ERROR: Could not find a version that satisfies the requirement pywt (from versions: none)\n",
      "ERROR: No matching distribution found for pywt\n",
      "\n",
      "[notice] A new release of pip is available: 24.0 -> 25.1.1\n",
      "[notice] To update, run: python.exe -m pip install --upgrade pip\n"
     ]
    },
    {
     "name": "stdout",
     "output_type": "stream",
     "text": [
      "Defaulting to user installation because normal site-packages is not writeable\n",
      "Requirement already satisfied: neurokit2 in c:\\users\\dell\\appdata\\roaming\\python\\python312\\site-packages (0.2.11)\n",
      "Note: you may need to restart the kernel to use updated packages.\n"
     ]
    },
    {
     "ename": "ModuleNotFoundError",
     "evalue": "No module named 'pywt'",
     "output_type": "error",
     "traceback": [
      "\u001b[1;31m---------------------------------------------------------------------------\u001b[0m",
      "\u001b[1;31mModuleNotFoundError\u001b[0m                       Traceback (most recent call last)",
      "Cell \u001b[1;32mIn[2], line 12\u001b[0m\n\u001b[0;32m     10\u001b[0m \u001b[38;5;28;01mfrom\u001b[39;00m \u001b[38;5;21;01msklearn\u001b[39;00m\u001b[38;5;21;01m.\u001b[39;00m\u001b[38;5;21;01mpipeline\u001b[39;00m \u001b[38;5;28;01mimport\u001b[39;00m Pipeline\n\u001b[0;32m     11\u001b[0m \u001b[38;5;28;01mfrom\u001b[39;00m \u001b[38;5;21;01msklearn\u001b[39;00m\u001b[38;5;21;01m.\u001b[39;00m\u001b[38;5;21;01mfeature_selection\u001b[39;00m \u001b[38;5;28;01mimport\u001b[39;00m mutual_info_regression\n\u001b[1;32m---> 12\u001b[0m \u001b[38;5;28;01mimport\u001b[39;00m \u001b[38;5;21;01mneurokit2\u001b[39;00m \u001b[38;5;28;01mas\u001b[39;00m \u001b[38;5;21;01mnk\u001b[39;00m  \u001b[38;5;66;03m# For advanced HRV features\u001b[39;00m\n\u001b[0;32m     14\u001b[0m \u001b[38;5;66;03m# Enhanced Feature Extraction\u001b[39;00m\n\u001b[0;32m     15\u001b[0m \u001b[38;5;28;01mdef\u001b[39;00m \u001b[38;5;21mextract_features\u001b[39m(df):\n",
      "File \u001b[1;32m~\\AppData\\Roaming\\Python\\Python312\\site-packages\\neurokit2\\__init__.py:14\u001b[0m\n\u001b[0;32m     11\u001b[0m \u001b[38;5;28;01mimport\u001b[39;00m \u001b[38;5;21;01mscipy\u001b[39;00m\n\u001b[0;32m     12\u001b[0m \u001b[38;5;28;01mimport\u001b[39;00m \u001b[38;5;21;01msklearn\u001b[39;00m\n\u001b[1;32m---> 14\u001b[0m \u001b[38;5;28;01mfrom\u001b[39;00m \u001b[38;5;21;01m.\u001b[39;00m\u001b[38;5;21;01mbenchmark\u001b[39;00m \u001b[38;5;28;01mimport\u001b[39;00m \u001b[38;5;241m*\u001b[39m\n\u001b[0;32m     15\u001b[0m \u001b[38;5;28;01mfrom\u001b[39;00m \u001b[38;5;21;01m.\u001b[39;00m\u001b[38;5;21;01mbio\u001b[39;00m \u001b[38;5;28;01mimport\u001b[39;00m \u001b[38;5;241m*\u001b[39m\n\u001b[0;32m     16\u001b[0m \u001b[38;5;28;01mfrom\u001b[39;00m \u001b[38;5;21;01m.\u001b[39;00m\u001b[38;5;21;01mcomplexity\u001b[39;00m \u001b[38;5;28;01mimport\u001b[39;00m \u001b[38;5;241m*\u001b[39m\n",
      "File \u001b[1;32m~\\AppData\\Roaming\\Python\\Python312\\site-packages\\neurokit2\\benchmark\\__init__.py:3\u001b[0m\n\u001b[0;32m      1\u001b[0m \u001b[38;5;124;03m\"\"\"Submodule for NeuroKit.\"\"\"\u001b[39;00m\n\u001b[1;32m----> 3\u001b[0m \u001b[38;5;28;01mfrom\u001b[39;00m \u001b[38;5;21;01m.\u001b[39;00m\u001b[38;5;21;01mbenchmark_ecg\u001b[39;00m \u001b[38;5;28;01mimport\u001b[39;00m benchmark_ecg_preprocessing\n\u001b[0;32m      6\u001b[0m __all__ \u001b[38;5;241m=\u001b[39m [\n\u001b[0;32m      7\u001b[0m     \u001b[38;5;124m\"\u001b[39m\u001b[38;5;124mbenchmark_ecg_preprocessing\u001b[39m\u001b[38;5;124m\"\u001b[39m,\n\u001b[0;32m      8\u001b[0m ]\n",
      "File \u001b[1;32m~\\AppData\\Roaming\\Python\\Python312\\site-packages\\neurokit2\\benchmark\\benchmark_ecg.py:7\u001b[0m\n\u001b[0;32m      4\u001b[0m \u001b[38;5;28;01mimport\u001b[39;00m \u001b[38;5;21;01mnumpy\u001b[39;00m \u001b[38;5;28;01mas\u001b[39;00m \u001b[38;5;21;01mnp\u001b[39;00m\n\u001b[0;32m      5\u001b[0m \u001b[38;5;28;01mimport\u001b[39;00m \u001b[38;5;21;01mpandas\u001b[39;00m \u001b[38;5;28;01mas\u001b[39;00m \u001b[38;5;21;01mpd\u001b[39;00m\n\u001b[1;32m----> 7\u001b[0m \u001b[38;5;28;01mfrom\u001b[39;00m \u001b[38;5;21;01m.\u001b[39;00m\u001b[38;5;21;01m.\u001b[39;00m\u001b[38;5;21;01msignal\u001b[39;00m \u001b[38;5;28;01mimport\u001b[39;00m signal_period\n\u001b[0;32m     10\u001b[0m \u001b[38;5;28;01mdef\u001b[39;00m \u001b[38;5;21mbenchmark_ecg_preprocessing\u001b[39m(function, ecg, rpeaks\u001b[38;5;241m=\u001b[39m\u001b[38;5;28;01mNone\u001b[39;00m, sampling_rate\u001b[38;5;241m=\u001b[39m\u001b[38;5;241m1000\u001b[39m):\n\u001b[0;32m     11\u001b[0m \u001b[38;5;250m    \u001b[39m\u001b[38;5;124;03m\"\"\"**Benchmark ECG preprocessing pipelines**\u001b[39;00m\n\u001b[0;32m     12\u001b[0m \n\u001b[0;32m     13\u001b[0m \u001b[38;5;124;03m    Parameters\u001b[39;00m\n\u001b[1;32m   (...)\u001b[0m\n\u001b[0;32m     53\u001b[0m \n\u001b[0;32m     54\u001b[0m \u001b[38;5;124;03m    \"\"\"\u001b[39;00m\n",
      "File \u001b[1;32m~\\AppData\\Roaming\\Python\\Python312\\site-packages\\neurokit2\\signal\\__init__.py:30\u001b[0m\n\u001b[0;32m     28\u001b[0m \u001b[38;5;28;01mfrom\u001b[39;00m \u001b[38;5;21;01m.\u001b[39;00m\u001b[38;5;21;01msignal_surrogate\u001b[39;00m \u001b[38;5;28;01mimport\u001b[39;00m signal_surrogate\n\u001b[0;32m     29\u001b[0m \u001b[38;5;28;01mfrom\u001b[39;00m \u001b[38;5;21;01m.\u001b[39;00m\u001b[38;5;21;01msignal_synchrony\u001b[39;00m \u001b[38;5;28;01mimport\u001b[39;00m signal_synchrony\n\u001b[1;32m---> 30\u001b[0m \u001b[38;5;28;01mfrom\u001b[39;00m \u001b[38;5;21;01m.\u001b[39;00m\u001b[38;5;21;01msignal_timefrequency\u001b[39;00m \u001b[38;5;28;01mimport\u001b[39;00m signal_timefrequency\n\u001b[0;32m     31\u001b[0m \u001b[38;5;28;01mfrom\u001b[39;00m \u001b[38;5;21;01m.\u001b[39;00m\u001b[38;5;21;01msignal_zerocrossings\u001b[39;00m \u001b[38;5;28;01mimport\u001b[39;00m signal_zerocrossings\n\u001b[0;32m     33\u001b[0m __all__ \u001b[38;5;241m=\u001b[39m [\n\u001b[0;32m     34\u001b[0m     \u001b[38;5;124m\"\u001b[39m\u001b[38;5;124msignal_simulate\u001b[39m\u001b[38;5;124m\"\u001b[39m,\n\u001b[0;32m     35\u001b[0m     \u001b[38;5;124m\"\u001b[39m\u001b[38;5;124msignal_binarize\u001b[39m\u001b[38;5;124m\"\u001b[39m,\n\u001b[1;32m   (...)\u001b[0m\n\u001b[0;32m     63\u001b[0m     \u001b[38;5;124m\"\u001b[39m\u001b[38;5;124msignal_fillmissing\u001b[39m\u001b[38;5;124m\"\u001b[39m,\n\u001b[0;32m     64\u001b[0m ]\n",
      "File \u001b[1;32m~\\AppData\\Roaming\\Python\\Python312\\site-packages\\neurokit2\\signal\\signal_timefrequency.py:4\u001b[0m\n\u001b[0;32m      2\u001b[0m \u001b[38;5;28;01mimport\u001b[39;00m \u001b[38;5;21;01mmatplotlib\u001b[39;00m\u001b[38;5;21;01m.\u001b[39;00m\u001b[38;5;21;01mpyplot\u001b[39;00m \u001b[38;5;28;01mas\u001b[39;00m \u001b[38;5;21;01mplt\u001b[39;00m\n\u001b[0;32m      3\u001b[0m \u001b[38;5;28;01mimport\u001b[39;00m \u001b[38;5;21;01mnumpy\u001b[39;00m \u001b[38;5;28;01mas\u001b[39;00m \u001b[38;5;21;01mnp\u001b[39;00m\n\u001b[1;32m----> 4\u001b[0m \u001b[38;5;28;01mimport\u001b[39;00m \u001b[38;5;21;01mpywt\u001b[39;00m\n\u001b[0;32m      5\u001b[0m \u001b[38;5;28;01mimport\u001b[39;00m \u001b[38;5;21;01mscipy\u001b[39;00m\u001b[38;5;21;01m.\u001b[39;00m\u001b[38;5;21;01msignal\u001b[39;00m\n\u001b[0;32m      7\u001b[0m \u001b[38;5;28;01mfrom\u001b[39;00m \u001b[38;5;21;01m.\u001b[39;00m\u001b[38;5;21;01m.\u001b[39;00m\u001b[38;5;21;01msignal\u001b[39;00m\u001b[38;5;21;01m.\u001b[39;00m\u001b[38;5;21;01msignal_detrend\u001b[39;00m \u001b[38;5;28;01mimport\u001b[39;00m signal_detrend\n",
      "\u001b[1;31mModuleNotFoundError\u001b[0m: No module named 'pywt'"
     ]
    }
   ],
   "source": [
    "%pip install neurokit2 pywt\n",
    "\n",
    "import pandas as pd\n",
    "import numpy as np\n",
    "from scipy.signal import find_peaks, welch\n",
    "from sklearn.ensemble import RandomForestRegressor\n",
    "from sklearn.model_selection import TimeSeriesSplit, cross_val_score\n",
    "from sklearn.metrics import make_scorer, r2_score\n",
    "from sklearn.preprocessing import RobustScaler\n",
    "from sklearn.pipeline import Pipeline\n",
    "from sklearn.feature_selection import mutual_info_regression\n",
    "import neurokit2 as nk  # For advanced HRV features\n",
    "\n",
    "# Enhanced Feature Extraction\n",
    "def extract_features(df):\n",
    "    features = {}\n",
    "    signal = df['ppg_signal'].values\n",
    "    \n",
    "    # 1. Time Domain Features\n",
    "    peaks, _ = find_peaks(signal, distance=30, prominence=0.5)\n",
    "    rr_intervals = np.diff(df['time'].iloc[peaks]) * 1000  # in ms\n",
    "    \n",
    "    # Filter physiologically plausible RR intervals\n",
    "    rr_intervals = rr_intervals[(rr_intervals > 300) & (rr_intervals < 2000)]\n",
    "    \n",
    "    if len(rr_intervals) < 5:  # Need minimum 5 beats for HRV\n",
    "        return None\n",
    "    \n",
    "    # Neurokit for advanced HRV metrics\n",
    "    try:\n",
    "        hrv_features = nk.hrv_time(rr_intervals, sampling_rate=100)\n",
    "        features.update(hrv_features)\n",
    "    except:\n",
    "        pass\n",
    "    \n",
    "    # 2. Frequency Domain Features\n",
    "    f, psd = welch(signal, fs=100, nperseg=256)\n",
    "    for band, (low, high) in {'lf':(0.04,0.15), 'hf':(0.15,0.4)}.items():\n",
    "        mask = (f >= low) & (f <= high)\n",
    "        features[f'ppg_{band}_power'] = np.trapz(psd[mask], f[mask])\n",
    "    \n",
    "    # 3. Non-linear Features\n",
    "    features['ppg_entropy'] = nk.entropy_sample(signal)\n",
    "    \n",
    "    return features\n",
    "\n",
    "# Data Processing Pipeline\n",
    "all_features = []\n",
    "for subj_id in df['subject_id'].unique():\n",
    "    subj_df = df[df['subject_id'] == subj_id]\n",
    "    feats = extract_features(subj_df)\n",
    "    if feats:\n",
    "        feats['subject_id'] = subj_id\n",
    "        all_features.append(feats)\n",
    "\n",
    "features_df = pd.DataFrame(all_features)\n",
    "merged_df = pd.merge(features_df, master_df, on='subject_id')\n",
    "\n",
    "# Feature Selection\n",
    "X = merged_df.drop(['subject_id', 'hrv'], axis=1)\n",
    "y = merged_df['hrv']\n",
    "\n",
    "# Remove low-variance and highly correlated features\n",
    "corr_matrix = X.corr().abs()\n",
    "upper = corr_matrix.where(np.triu(np.ones(corr_matrix.shape), k=1).astype(bool))\n",
    "to_drop = [col for col in upper.columns if any(upper[col] > 0.95)]\n",
    "X = X.drop(to_drop, axis=1)\n",
    "\n",
    "# Time-series aware validation\n",
    "tscv = TimeSeriesSplit(n_splits=5)\n",
    "model = Pipeline([\n",
    "    ('scaler', RobustScaler()),\n",
    "    ('regressor', RandomForestRegressor(\n",
    "        n_estimators=200,\n",
    "        max_depth=5,\n",
    "        min_samples_leaf=3,\n",
    "        random_state=42\n",
    "    ))\n",
    "])\n",
    "\n",
    "# Evaluation\n",
    "cv_scores = cross_val_score(model, X, y, cv=tscv, \n",
    "                          scoring=make_scorer(r2_score))\n",
    "print(f\"Cross-validated R²: {np.mean(cv_scores):.2f} (±{np.std(cv_scores):.2f})\")\n",
    "\n",
    "# Feature Importance Analysis\n",
    "model.fit(X, y)\n",
    "importances = pd.Series(model.named_steps['regressor'].feature_importances_, \n",
    "                       index=X.columns)\n",
    "print(importances.sort_values(ascending=False).head(10))"
   ]
  },
  {
   "cell_type": "code",
   "execution_count": null,
   "id": "e4d839d2",
   "metadata": {},
   "outputs": [
    {
     "name": "stdout",
     "output_type": "stream",
     "text": [
      "Cross-Validation R² Scores: [-2.81428356 -6.79735027 -0.68059624 -4.60905905 -0.67652107]\n",
      "Mean CV R²: -3.12 (±2.36)\n",
      "\n",
      "Test Set Performance:\n",
      "R²: 0.19\n",
      "MSE: 62.55\n"
     ]
    }
   ],
   "source": [
    "import pandas as pd\n",
    "import numpy as np\n",
    "from scipy.signal import find_peaks\n",
    "from sklearn.ensemble import RandomForestRegressor\n",
    "from sklearn.metrics import mean_squared_error, r2_score\n",
    "from sklearn.model_selection import train_test_split, cross_val_score\n",
    "from sklearn.preprocessing import StandardScaler\n",
    "import matplotlib.pyplot as plt\n",
    "\n",
    "# 1. Enhanced Feature Engineering\n",
    "def extract_ppg_features(df):\n",
    "    features = {}\n",
    "    \n",
    "    # Basic signal stats\n",
    "    features['ppg_mean'] = df['ppg_signal'].mean()\n",
    "    features['ppg_std'] = df['ppg_signal'].std()\n",
    "    \n",
    "    # Peak detection with adaptive thresholds\n",
    "    peaks, properties = find_peaks(df['ppg_signal'], \n",
    "                                  distance=30,\n",
    "                                  prominence=(0.5, None))\n",
    "    \n",
    "    if len(peaks) < 4:\n",
    "        return None  # Not enough peaks\n",
    "    \n",
    "    # RR intervals features\n",
    "    rr_intervals = np.diff(df['time'].iloc[peaks]) * 1000\n",
    "    rr_intervals = rr_intervals[(rr_intervals > 300) & (rr_intervals < 2000)]  # physiological range\n",
    "    \n",
    "    if len(rr_intervals) < 3:\n",
    "        return None\n",
    "        \n",
    "    features.update({\n",
    "        'hr_mean': 60000 / np.mean(rr_intervals),\n",
    "        'hr_std': np.std(60000 / rr_intervals),\n",
    "        'sdnn': np.std(rr_intervals),\n",
    "        'rmssd': np.sqrt(np.mean(np.square(np.diff(rr_intervals)))),\n",
    "        'nn50': np.sum(np.abs(np.diff(rr_intervals)) > 50),\n",
    "        'pnn50': np.mean(np.abs(np.diff(rr_intervals)) > 50) * 100,\n",
    "    })\n",
    "    \n",
    "    # Frequency domain features (very basic approximation)\n",
    "    fft_values = np.abs(np.fft.rfft(df['ppg_signal']))\n",
    "    features['ppg_fft_peak'] = np.max(fft_values[1:])  # exclude DC component\n",
    "    \n",
    "    return features\n",
    "\n",
    "# 2. Data Processing Pipeline\n",
    "subject_features = []\n",
    "for i in range(1, 21):\n",
    "    try:\n",
    "        df = pd.read_csv(f\"subject_{i}.csv\")\n",
    "        features = extract_ppg_features(df)\n",
    "        if features:\n",
    "            features['subject_id'] = i\n",
    "            subject_features.append(features)\n",
    "    except:\n",
    "        continue\n",
    "\n",
    "features_df = pd.DataFrame(subject_features)\n",
    "# Use the already loaded master_df from previous cells\n",
    "merged_df = pd.merge(features_df, master_df, on='subject_id')\n",
    "\n",
    "# 3. Feature Selection\n",
    "X = merged_df.drop(['subject_id', 'hrv'], axis=1)\n",
    "y = merged_df['hrv']\n",
    "\n",
    "# Remove highly correlated features\n",
    "corr_matrix = X.corr().abs()\n",
    "upper = corr_matrix.where(np.triu(np.ones(corr_matrix.shape), k=1).astype(bool))\n",
    "to_drop = [column for column in upper.columns if any(upper[column] > 0.95)]\n",
    "X = X.drop(to_drop, axis=1)\n",
    "\n",
    "# 4. Modeling with Cross-Validation\n",
    "model = RandomForestRegressor(n_estimators=100, random_state=42)\n",
    "cv_scores = cross_val_score(model, X, y, cv=5, scoring='r2')\n",
    "\n",
    "print(\"Cross-Validation R² Scores:\", cv_scores)\n",
    "print(f\"Mean CV R²: {np.mean(cv_scores):.2f} (±{np.std(cv_scores):.2f})\")\n",
    "\n",
    "# 5. Final Evaluation\n",
    "X_train, X_test, y_train, y_test = train_test_split(X, y, test_size=0.3, random_state=30)\n",
    "model.fit(X_train, y_train)\n",
    "y_pred = model.predict(X_test)\n",
    "\n",
    "print(\"\\nTest Set Performance:\")\n",
    "print(f\"R²: {r2_score(y_test, y_pred):.2f}\")\n",
    "print(f\"MSE: {mean_squared_error(y_test, y_pred):.2f}\")\n",
    "\n"
   ]
  }
 ],
 "metadata": {
  "kernelspec": {
   "display_name": "Python 3",
   "language": "python",
   "name": "python3"
  },
  "language_info": {
   "codemirror_mode": {
    "name": "ipython",
    "version": 3
   },
   "file_extension": ".py",
   "mimetype": "text/x-python",
   "name": "python",
   "nbconvert_exporter": "python",
   "pygments_lexer": "ipython3",
   "version": "3.10.0"
  }
 },
 "nbformat": 4,
 "nbformat_minor": 5
}
